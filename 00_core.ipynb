{
 "cells": [
  {
   "cell_type": "code",
   "execution_count": null,
   "id": "a1629d24",
   "metadata": {},
   "outputs": [],
   "source": [
    "#|default_exp core"
   ]
  },
  {
   "cell_type": "markdown",
   "id": "88ae282a",
   "metadata": {},
   "source": [
    "# Gaspard's source"
   ]
  },
  {
   "cell_type": "markdown",
   "id": "e4116139",
   "metadata": {},
   "source": [
    "## Setup"
   ]
  },
  {
   "cell_type": "code",
   "execution_count": null,
   "id": "1142b725",
   "metadata": {},
   "outputs": [],
   "source": [
    "#| export\n",
    "import inspect, typing, mimetypes, base64, json, ast, io, os, time, proto\n",
    "import filetype as ft\n",
    "import google.generativeai as genai\n",
    "from google.generativeai.types.generation_types import GenerateContentResponse, GenerationConfig\n",
    "from google.generativeai.protos import FunctionCall, Content, FunctionResponse, FunctionDeclaration\n",
    "from google.generativeai.protos import GenerateContentResponse as GCR\n",
    "from google.generativeai import protos\n",
    "\n",
    "import toolslm\n",
    "from toolslm.funccall import *\n",
    "\n",
    "from fastcore.meta import delegates\n",
    "from fastcore.utils import *\n",
    "\n",
    "from collections import abc\n",
    "\n",
    "from proto.marshal.collections.maps import MapComposite\n",
    "from proto.marshal.collections.repeated import RepeatedComposite"
   ]
  },
  {
   "cell_type": "code",
   "execution_count": null,
   "id": "e0764659",
   "metadata": {},
   "outputs": [],
   "source": [
    "#| hide\n",
    "from nbdev import show_doc\n",
    "\n",
    "try: from IPython import display\n",
    "except: display=None"
   ]
  },
  {
   "cell_type": "code",
   "execution_count": null,
   "id": "193d0faf",
   "metadata": {},
   "outputs": [],
   "source": [
    "#| export\n",
    "UsageMetadata = GCR.UsageMetadata\n",
    "empty = inspect.Parameter.empty"
   ]
  },
  {
   "cell_type": "code",
   "execution_count": null,
   "id": "e837ab99",
   "metadata": {},
   "outputs": [],
   "source": [
    "#| exports\n",
    "models = 'gemini-1.5-pro-exp-0827', 'gemini-1.5-flash-exp-0827','gemini-1.5-pro','gemini-1.5-flash'"
   ]
  },
  {
   "cell_type": "markdown",
   "id": "b4a095bc",
   "metadata": {},
   "source": [
    "These are the latest version of Gemini models available at the time of writing."
   ]
  },
  {
   "cell_type": "code",
   "execution_count": null,
   "id": "d3c81236",
   "metadata": {},
   "outputs": [],
   "source": [
    "model = models[-1]"
   ]
  },
  {
   "cell_type": "markdown",
   "id": "fa99b6d9",
   "metadata": {},
   "source": [
    "We'll use gemini-1.5-flash for the examples since it's faster and cheaper."
   ]
  },
  {
   "cell_type": "markdown",
   "id": "a2ba835d",
   "metadata": {},
   "source": [
    "## Gemini SDK"
   ]
  },
  {
   "cell_type": "markdown",
   "id": "9a343d78",
   "metadata": {},
   "source": [
    "Follow the [instructions](https://aistudio.google.com/app/apikey) to generate an API key, and set it as an evironment variable."
   ]
  },
  {
   "cell_type": "code",
   "execution_count": null,
   "id": "f4a4919f",
   "metadata": {},
   "outputs": [],
   "source": [
    "genai.configure(api_key=os.environ[\"GEMINI_API_KEY\"])"
   ]
  },
  {
   "cell_type": "code",
   "execution_count": null,
   "id": "338b89fa",
   "metadata": {},
   "outputs": [],
   "source": [
    "cli = genai.GenerativeModel(model)"
   ]
  },
  {
   "cell_type": "code",
   "execution_count": null,
   "id": "cd62f521",
   "metadata": {},
   "outputs": [
    {
     "data": {
      "text/plain": [
       "response:\n",
       "GenerateContentResponse(\n",
       "    done=True,\n",
       "    iterator=None,\n",
       "    result=protos.GenerateContentResponse({\n",
       "      \"candidates\": [\n",
       "        {\n",
       "          \"content\": {\n",
       "            \"parts\": [\n",
       "              {\n",
       "                \"text\": \"Hi Faisal! It's nice to meet you. What can I do for you today? \\n\"\n",
       "              }\n",
       "            ],\n",
       "            \"role\": \"model\"\n",
       "          },\n",
       "          \"finish_reason\": \"STOP\",\n",
       "          \"index\": 0,\n",
       "          \"safety_ratings\": [\n",
       "            {\n",
       "              \"category\": \"HARM_CATEGORY_SEXUALLY_EXPLICIT\",\n",
       "              \"probability\": \"NEGLIGIBLE\"\n",
       "            },\n",
       "            {\n",
       "              \"category\": \"HARM_CATEGORY_HATE_SPEECH\",\n",
       "              \"probability\": \"NEGLIGIBLE\"\n",
       "            },\n",
       "            {\n",
       "              \"category\": \"HARM_CATEGORY_HARASSMENT\",\n",
       "              \"probability\": \"NEGLIGIBLE\"\n",
       "            },\n",
       "            {\n",
       "              \"category\": \"HARM_CATEGORY_DANGEROUS_CONTENT\",\n",
       "              \"probability\": \"NEGLIGIBLE\"\n",
       "            }\n",
       "          ]\n",
       "        }\n",
       "      ],\n",
       "      \"usage_metadata\": {\n",
       "        \"prompt_token_count\": 8,\n",
       "        \"candidates_token_count\": 19,\n",
       "        \"total_token_count\": 27\n",
       "      }\n",
       "    }),\n",
       ")"
      ]
     },
     "execution_count": null,
     "metadata": {},
     "output_type": "execute_result"
    }
   ],
   "source": [
    "r = cli.generate_content(\"Hi, I'm Faisal!\")\n",
    "r"
   ]
  },
  {
   "cell_type": "markdown",
   "id": "f4ae6c0b",
   "metadata": {},
   "source": [
    "## Formatting output"
   ]
  },
  {
   "cell_type": "code",
   "execution_count": null,
   "id": "97739d6e",
   "metadata": {},
   "outputs": [],
   "source": [
    "#| exports\n",
    "def find_block(r:abc.Mapping, # The message to look in\n",
    "              ):\n",
    "    \"Find the content in `r`.\"\n",
    "    m = nested_idx(r, 'candidates', 0)\n",
    "    if not m: return m\n",
    "    if hasattr(m, 'content'): return m.content \n",
    "    else: return m"
   ]
  },
  {
   "cell_type": "code",
   "execution_count": null,
   "id": "cf1b4144",
   "metadata": {},
   "outputs": [
    {
     "data": {
      "text/plain": [
       "parts {\n",
       "  text: \"Hi Faisal! It\\'s nice to meet you. What can I do for you today? \\n\"\n",
       "}\n",
       "role: \"model\""
      ]
     },
     "execution_count": null,
     "metadata": {},
     "output_type": "execute_result"
    }
   ],
   "source": [
    "find_block(r)"
   ]
  },
  {
   "cell_type": "code",
   "execution_count": null,
   "id": "548f0dd4",
   "metadata": {},
   "outputs": [],
   "source": [
    "#| exports\n",
    "def contents(r):\n",
    "    \"Helper to get the contents from response `r`.\"\n",
    "    blk = find_block(r)\n",
    "    if not blk: return r\n",
    "    if hasattr(blk, 'parts'): return getattr(blk,'parts')[0].text\n",
    "    return blk"
   ]
  },
  {
   "cell_type": "code",
   "execution_count": null,
   "id": "7a0d7340",
   "metadata": {},
   "outputs": [
    {
     "data": {
      "text/plain": [
       "\"Hi Faisal! It's nice to meet you. What can I do for you today? \\n\""
      ]
     },
     "execution_count": null,
     "metadata": {},
     "output_type": "execute_result"
    }
   ],
   "source": [
    "contents(r)"
   ]
  },
  {
   "cell_type": "code",
   "execution_count": null,
   "id": "9d37d39e",
   "metadata": {},
   "outputs": [],
   "source": [
    "#| exports\n",
    "@patch()\n",
    "def _repr_markdown_(self:GenerateContentResponse):\n",
    "    met = list(self.to_dict()['candidates'][0].items()) + list(self.to_dict()['usage_metadata'].items())\n",
    "    det = '\\n- '.join(f'{k}: {v}' for k,v in met)\n",
    "    res = contents(self)\n",
    "    if not res: return f\"- {det}\"\n",
    "    return f\"\"\"{contents(self)}\\n<details>\\n\\n- {det}\\n\\n</details>\"\"\""
   ]
  },
  {
   "cell_type": "code",
   "execution_count": null,
   "id": "cbf3a3a5",
   "metadata": {},
   "outputs": [
    {
     "data": {
      "text/markdown": [
       "Hi Faisal! It's nice to meet you. What can I do for you today? \n",
       "\n",
       "<details>\n",
       "\n",
       "- content: {'parts': [{'text': \"Hi Faisal! It's nice to meet you. What can I do for you today? \\n\"}], 'role': 'model'}\n",
       "- finish_reason: 1\n",
       "- index: 0\n",
       "- safety_ratings: [{'category': 9, 'probability': 1, 'blocked': False}, {'category': 8, 'probability': 1, 'blocked': False}, {'category': 7, 'probability': 1, 'blocked': False}, {'category': 10, 'probability': 1, 'blocked': False}]\n",
       "- token_count: 0\n",
       "- grounding_attributions: []\n",
       "- avg_logprobs: 0.0\n",
       "- prompt_token_count: 8\n",
       "- candidates_token_count: 19\n",
       "- total_token_count: 27\n",
       "- cached_content_token_count: 0\n",
       "\n",
       "</details>"
      ],
      "text/plain": [
       "response:\n",
       "GenerateContentResponse(\n",
       "    done=True,\n",
       "    iterator=None,\n",
       "    result=protos.GenerateContentResponse({\n",
       "      \"candidates\": [\n",
       "        {\n",
       "          \"content\": {\n",
       "            \"parts\": [\n",
       "              {\n",
       "                \"text\": \"Hi Faisal! It's nice to meet you. What can I do for you today? \\n\"\n",
       "              }\n",
       "            ],\n",
       "            \"role\": \"model\"\n",
       "          },\n",
       "          \"finish_reason\": \"STOP\",\n",
       "          \"index\": 0,\n",
       "          \"safety_ratings\": [\n",
       "            {\n",
       "              \"category\": \"HARM_CATEGORY_SEXUALLY_EXPLICIT\",\n",
       "              \"probability\": \"NEGLIGIBLE\"\n",
       "            },\n",
       "            {\n",
       "              \"category\": \"HARM_CATEGORY_HATE_SPEECH\",\n",
       "              \"probability\": \"NEGLIGIBLE\"\n",
       "            },\n",
       "            {\n",
       "              \"category\": \"HARM_CATEGORY_HARASSMENT\",\n",
       "              \"probability\": \"NEGLIGIBLE\"\n",
       "            },\n",
       "            {\n",
       "              \"category\": \"HARM_CATEGORY_DANGEROUS_CONTENT\",\n",
       "              \"probability\": \"NEGLIGIBLE\"\n",
       "            }\n",
       "          ]\n",
       "        }\n",
       "      ],\n",
       "      \"usage_metadata\": {\n",
       "        \"prompt_token_count\": 8,\n",
       "        \"candidates_token_count\": 19,\n",
       "        \"total_token_count\": 27\n",
       "      }\n",
       "    }),\n",
       ")"
      ]
     },
     "execution_count": null,
     "metadata": {},
     "output_type": "execute_result"
    }
   ],
   "source": [
    "r"
   ]
  },
  {
   "cell_type": "code",
   "execution_count": null,
   "id": "eb3b541b",
   "metadata": {},
   "outputs": [
    {
     "data": {
      "text/plain": [
       "prompt_token_count: 8\n",
       "candidates_token_count: 19\n",
       "total_token_count: 27"
      ]
     },
     "execution_count": null,
     "metadata": {},
     "output_type": "execute_result"
    }
   ],
   "source": [
    "r.usage_metadata"
   ]
  },
  {
   "cell_type": "code",
   "execution_count": null,
   "id": "61918cfd",
   "metadata": {},
   "outputs": [],
   "source": [
    "#| exports\n",
    "def usage(inp=0, # Number of input tokens\n",
    "          out=0  # Number of output tokens\n",
    "         ):\n",
    "    \"Slightly more concise version of `Usage`.\"\n",
    "    return UsageMetadata(prompt_token_count=inp, candidates_token_count=out)"
   ]
  },
  {
   "cell_type": "code",
   "execution_count": null,
   "id": "c443d1e5",
   "metadata": {},
   "outputs": [
    {
     "data": {
      "text/plain": [
       "prompt_token_count: 5"
      ]
     },
     "execution_count": null,
     "metadata": {},
     "output_type": "execute_result"
    }
   ],
   "source": [
    "usage(5)"
   ]
  },
  {
   "cell_type": "code",
   "execution_count": null,
   "id": "fb30b16f",
   "metadata": {},
   "outputs": [],
   "source": [
    "#| exports\n",
    "@patch(as_prop=True)\n",
    "def total(self:UsageMetadata): return self.prompt_token_count+self.candidates_token_count"
   ]
  },
  {
   "cell_type": "code",
   "execution_count": null,
   "id": "1b99e8ba",
   "metadata": {},
   "outputs": [],
   "source": [
    "#| exports\n",
    "@patch\n",
    "def __repr__(self:UsageMetadata): return f'In: {self.prompt_token_count}; Out: {self.candidates_token_count}; Total: {self.total}'"
   ]
  },
  {
   "cell_type": "code",
   "execution_count": null,
   "id": "b6780c5d",
   "metadata": {},
   "outputs": [
    {
     "data": {
      "text/plain": [
       "In: 8; Out: 19; Total: 27"
      ]
     },
     "execution_count": null,
     "metadata": {},
     "output_type": "execute_result"
    }
   ],
   "source": [
    "r.usage_metadata"
   ]
  },
  {
   "cell_type": "code",
   "execution_count": null,
   "id": "d9fafcef",
   "metadata": {},
   "outputs": [],
   "source": [
    "#| exports\n",
    "@patch\n",
    "def __add__(self:UsageMetadata, b):\n",
    "    \"Add together each of `input_tokens` and `output_tokens`\"\n",
    "    return usage(self.prompt_token_count+b.prompt_token_count, self.candidates_token_count+b.candidates_token_count)"
   ]
  },
  {
   "cell_type": "code",
   "execution_count": null,
   "id": "fa94215b",
   "metadata": {},
   "outputs": [
    {
     "data": {
      "text/plain": [
       "In: 16; Out: 38; Total: 54"
      ]
     },
     "execution_count": null,
     "metadata": {},
     "output_type": "execute_result"
    }
   ],
   "source": [
    "r.usage_metadata+r.usage_metadata"
   ]
  },
  {
   "cell_type": "markdown",
   "id": "134bc41b",
   "metadata": {},
   "source": [
    "## Creating messages"
   ]
  },
  {
   "cell_type": "code",
   "execution_count": null,
   "id": "1cbe271c",
   "metadata": {},
   "outputs": [],
   "source": [
    "def mk_msg(content, role='user', **kw):\n",
    "    if isinstance(content, GenerateContentResponse):\n",
    "        blk = find_block(content)\n",
    "        role = blk.role\n",
    "        content = blk.parts[0].text\n",
    "    if not isinstance(content, list): content=[content]\n",
    "    return dict(role=role, parts=content, **kw)"
   ]
  },
  {
   "cell_type": "code",
   "execution_count": null,
   "id": "6924dece",
   "metadata": {},
   "outputs": [
    {
     "data": {
      "text/plain": [
       "{'role': 'user', 'parts': [\"I'm Faisal\"]}"
      ]
     },
     "execution_count": null,
     "metadata": {},
     "output_type": "execute_result"
    }
   ],
   "source": [
    "prompt = \"I'm Faisal\"\n",
    "m = mk_msg(prompt)\n",
    "m"
   ]
  },
  {
   "cell_type": "code",
   "execution_count": null,
   "id": "b2c4724e",
   "metadata": {},
   "outputs": [
    {
     "data": {
      "text/markdown": [
       "Nice to meet you, Faisal! What can I do for you today? \n",
       "\n",
       "<details>\n",
       "\n",
       "- content: {'parts': [{'text': 'Nice to meet you, Faisal! What can I do for you today? \\n'}], 'role': 'model'}\n",
       "- finish_reason: 1\n",
       "- index: 0\n",
       "- safety_ratings: [{'category': 9, 'probability': 1, 'blocked': False}, {'category': 8, 'probability': 1, 'blocked': False}, {'category': 7, 'probability': 1, 'blocked': False}, {'category': 10, 'probability': 1, 'blocked': False}]\n",
       "- token_count: 0\n",
       "- grounding_attributions: []\n",
       "- avg_logprobs: 0.0\n",
       "- prompt_token_count: 5\n",
       "- candidates_token_count: 16\n",
       "- total_token_count: 21\n",
       "- cached_content_token_count: 0\n",
       "\n",
       "</details>"
      ],
      "text/plain": [
       "response:\n",
       "GenerateContentResponse(\n",
       "    done=True,\n",
       "    iterator=None,\n",
       "    result=protos.GenerateContentResponse({\n",
       "      \"candidates\": [\n",
       "        {\n",
       "          \"content\": {\n",
       "            \"parts\": [\n",
       "              {\n",
       "                \"text\": \"Nice to meet you, Faisal! What can I do for you today? \\n\"\n",
       "              }\n",
       "            ],\n",
       "            \"role\": \"model\"\n",
       "          },\n",
       "          \"finish_reason\": \"STOP\",\n",
       "          \"index\": 0,\n",
       "          \"safety_ratings\": [\n",
       "            {\n",
       "              \"category\": \"HARM_CATEGORY_SEXUALLY_EXPLICIT\",\n",
       "              \"probability\": \"NEGLIGIBLE\"\n",
       "            },\n",
       "            {\n",
       "              \"category\": \"HARM_CATEGORY_HATE_SPEECH\",\n",
       "              \"probability\": \"NEGLIGIBLE\"\n",
       "            },\n",
       "            {\n",
       "              \"category\": \"HARM_CATEGORY_HARASSMENT\",\n",
       "              \"probability\": \"NEGLIGIBLE\"\n",
       "            },\n",
       "            {\n",
       "              \"category\": \"HARM_CATEGORY_DANGEROUS_CONTENT\",\n",
       "              \"probability\": \"NEGLIGIBLE\"\n",
       "            }\n",
       "          ]\n",
       "        }\n",
       "      ],\n",
       "      \"usage_metadata\": {\n",
       "        \"prompt_token_count\": 5,\n",
       "        \"candidates_token_count\": 16,\n",
       "        \"total_token_count\": 21\n",
       "      }\n",
       "    }),\n",
       ")"
      ]
     },
     "execution_count": null,
     "metadata": {},
     "output_type": "execute_result"
    }
   ],
   "source": [
    "r = cli.generate_content([m], generation_config=GenerationConfig(max_output_tokens=100))\n",
    "r"
   ]
  },
  {
   "cell_type": "code",
   "execution_count": null,
   "id": "44ede3ba",
   "metadata": {},
   "outputs": [
    {
     "data": {
      "text/plain": [
       "[{'role': 'user', 'parts': [\"I'm Faisal\"]},\n",
       " {'role': 'model',\n",
       "  'parts': ['Nice to meet you, Faisal! What can I do for you today? \\n']},\n",
       " {'role': 'user', 'parts': ['I forgot my name. Can you remind me please?']}]"
      ]
     },
     "execution_count": null,
     "metadata": {},
     "output_type": "execute_result"
    }
   ],
   "source": [
    "msgs = [mk_msg(prompt), mk_msg(r), mk_msg('I forgot my name. Can you remind me please?')]\n",
    "msgs"
   ]
  },
  {
   "cell_type": "code",
   "execution_count": null,
   "id": "f708fc4c",
   "metadata": {},
   "outputs": [
    {
     "data": {
      "text/markdown": [
       "You just told me your name is Faisal! 😊 \n",
       "\n",
       "Do you need help remembering other things, or is this a joke? \n",
       "\n",
       "<details>\n",
       "\n",
       "- content: {'parts': [{'text': 'You just told me your name is Faisal! 😊 \\n\\nDo you need help remembering other things, or is this a joke? \\n'}], 'role': 'model'}\n",
       "- finish_reason: 1\n",
       "- index: 0\n",
       "- safety_ratings: [{'category': 9, 'probability': 1, 'blocked': False}, {'category': 8, 'probability': 1, 'blocked': False}, {'category': 7, 'probability': 1, 'blocked': False}, {'category': 10, 'probability': 1, 'blocked': False}]\n",
       "- token_count: 0\n",
       "- grounding_attributions: []\n",
       "- avg_logprobs: 0.0\n",
       "- prompt_token_count: 35\n",
       "- candidates_token_count: 26\n",
       "- total_token_count: 61\n",
       "- cached_content_token_count: 0\n",
       "\n",
       "</details>"
      ],
      "text/plain": [
       "response:\n",
       "GenerateContentResponse(\n",
       "    done=True,\n",
       "    iterator=None,\n",
       "    result=protos.GenerateContentResponse({\n",
       "      \"candidates\": [\n",
       "        {\n",
       "          \"content\": {\n",
       "            \"parts\": [\n",
       "              {\n",
       "                \"text\": \"You just told me your name is Faisal! \\ud83d\\ude0a \\n\\nDo you need help remembering other things, or is this a joke? \\n\"\n",
       "              }\n",
       "            ],\n",
       "            \"role\": \"model\"\n",
       "          },\n",
       "          \"finish_reason\": \"STOP\",\n",
       "          \"index\": 0,\n",
       "          \"safety_ratings\": [\n",
       "            {\n",
       "              \"category\": \"HARM_CATEGORY_SEXUALLY_EXPLICIT\",\n",
       "              \"probability\": \"NEGLIGIBLE\"\n",
       "            },\n",
       "            {\n",
       "              \"category\": \"HARM_CATEGORY_HATE_SPEECH\",\n",
       "              \"probability\": \"NEGLIGIBLE\"\n",
       "            },\n",
       "            {\n",
       "              \"category\": \"HARM_CATEGORY_HARASSMENT\",\n",
       "              \"probability\": \"NEGLIGIBLE\"\n",
       "            },\n",
       "            {\n",
       "              \"category\": \"HARM_CATEGORY_DANGEROUS_CONTENT\",\n",
       "              \"probability\": \"NEGLIGIBLE\"\n",
       "            }\n",
       "          ]\n",
       "        }\n",
       "      ],\n",
       "      \"usage_metadata\": {\n",
       "        \"prompt_token_count\": 35,\n",
       "        \"candidates_token_count\": 26,\n",
       "        \"total_token_count\": 61\n",
       "      }\n",
       "    }),\n",
       ")"
      ]
     },
     "execution_count": null,
     "metadata": {},
     "output_type": "execute_result"
    }
   ],
   "source": [
    "cli.generate_content(msgs, generation_config=GenerationConfig(max_output_tokens=100))"
   ]
  },
  {
   "cell_type": "markdown",
   "id": "525a573d",
   "metadata": {},
   "source": [
    "Let's make this a bit easier."
   ]
  },
  {
   "cell_type": "code",
   "execution_count": null,
   "id": "f08352a2",
   "metadata": {},
   "outputs": [],
   "source": [
    "#| exports\n",
    "def mk_msgs(msgs:list, **kw):\n",
    "    \"Helper to set 'assistant' role on alternate messages.\"\n",
    "    if isinstance(msgs,str): msgs=[msgs]\n",
    "    return [mk_msg(o, ('user','model')[i%2], **kw) for i,o in enumerate(msgs)]"
   ]
  },
  {
   "cell_type": "code",
   "execution_count": null,
   "id": "2b27ee82",
   "metadata": {},
   "outputs": [
    {
     "data": {
      "text/plain": [
       "[{'role': 'user', 'parts': [\"Hi, I'm Faisal!\"]},\n",
       " {'role': 'model',\n",
       "  'parts': ['Nice to meet you, Faisal! What can I do for you today? \\n']},\n",
       " {'role': 'user', 'parts': ['I forgot my name. Can you remind me please?']}]"
      ]
     },
     "execution_count": null,
     "metadata": {},
     "output_type": "execute_result"
    }
   ],
   "source": [
    "msgs = mk_msgs([\"Hi, I'm Faisal!\", r, \"I forgot my name. Can you remind me please?\"]); msgs"
   ]
  },
  {
   "cell_type": "code",
   "execution_count": null,
   "id": "98dcb0f6",
   "metadata": {},
   "outputs": [
    {
     "data": {
      "text/markdown": [
       "You're Faisal! 😊  I'm happy to help. \n",
       "\n",
       "Is there anything else I can assist you with? \n",
       "\n",
       "<details>\n",
       "\n",
       "- content: {'parts': [{'text': \"You're Faisal! 😊  I'm happy to help. \\n\\nIs there anything else I can assist you with? \\n\"}], 'role': 'model'}\n",
       "- finish_reason: 1\n",
       "- index: 0\n",
       "- safety_ratings: [{'category': 9, 'probability': 1, 'blocked': False}, {'category': 8, 'probability': 1, 'blocked': False}, {'category': 7, 'probability': 1, 'blocked': False}, {'category': 10, 'probability': 1, 'blocked': False}]\n",
       "- token_count: 0\n",
       "- grounding_attributions: []\n",
       "- avg_logprobs: 0.0\n",
       "- prompt_token_count: 38\n",
       "- candidates_token_count: 26\n",
       "- total_token_count: 64\n",
       "- cached_content_token_count: 0\n",
       "\n",
       "</details>"
      ],
      "text/plain": [
       "response:\n",
       "GenerateContentResponse(\n",
       "    done=True,\n",
       "    iterator=None,\n",
       "    result=protos.GenerateContentResponse({\n",
       "      \"candidates\": [\n",
       "        {\n",
       "          \"content\": {\n",
       "            \"parts\": [\n",
       "              {\n",
       "                \"text\": \"You're Faisal! \\ud83d\\ude0a  I'm happy to help. \\n\\nIs there anything else I can assist you with? \\n\"\n",
       "              }\n",
       "            ],\n",
       "            \"role\": \"model\"\n",
       "          },\n",
       "          \"finish_reason\": \"STOP\",\n",
       "          \"index\": 0,\n",
       "          \"safety_ratings\": [\n",
       "            {\n",
       "              \"category\": \"HARM_CATEGORY_SEXUALLY_EXPLICIT\",\n",
       "              \"probability\": \"NEGLIGIBLE\"\n",
       "            },\n",
       "            {\n",
       "              \"category\": \"HARM_CATEGORY_HATE_SPEECH\",\n",
       "              \"probability\": \"NEGLIGIBLE\"\n",
       "            },\n",
       "            {\n",
       "              \"category\": \"HARM_CATEGORY_HARASSMENT\",\n",
       "              \"probability\": \"NEGLIGIBLE\"\n",
       "            },\n",
       "            {\n",
       "              \"category\": \"HARM_CATEGORY_DANGEROUS_CONTENT\",\n",
       "              \"probability\": \"NEGLIGIBLE\"\n",
       "            }\n",
       "          ]\n",
       "        }\n",
       "      ],\n",
       "      \"usage_metadata\": {\n",
       "        \"prompt_token_count\": 38,\n",
       "        \"candidates_token_count\": 26,\n",
       "        \"total_token_count\": 64\n",
       "      }\n",
       "    }),\n",
       ")"
      ]
     },
     "execution_count": null,
     "metadata": {},
     "output_type": "execute_result"
    }
   ],
   "source": [
    "cli.generate_content(msgs, generation_config=GenerationConfig(max_output_tokens=100))"
   ]
  },
  {
   "cell_type": "markdown",
   "id": "ec007f7f",
   "metadata": {},
   "source": [
    "## Client"
   ]
  },
  {
   "cell_type": "code",
   "execution_count": null,
   "id": "05864cf8",
   "metadata": {},
   "outputs": [],
   "source": [
    "#| exports\n",
    "class Client:\n",
    "    def __init__(self, model, cli=None, sp=None):\n",
    "        \"Basic LLM messages client.\"\n",
    "        self.model,self.use = model,usage(0,0)\n",
    "        self.sp = sp\n",
    "        self.c = (cli or genai.GenerativeModel(model, system_instruction=sp))"
   ]
  },
  {
   "cell_type": "code",
   "execution_count": null,
   "id": "0db82494",
   "metadata": {},
   "outputs": [
    {
     "data": {
      "text/plain": [
       "In: 0; Out: 0; Total: 0"
      ]
     },
     "execution_count": null,
     "metadata": {},
     "output_type": "execute_result"
    }
   ],
   "source": [
    "c = Client(model)\n",
    "c.use"
   ]
  },
  {
   "cell_type": "code",
   "execution_count": null,
   "id": "198eac02",
   "metadata": {},
   "outputs": [],
   "source": [
    "#| exports\n",
    "@patch\n",
    "def _r(self:Client, r:GenerateContentResponse):\n",
    "    \"Store the result of the message and accrue total usage.\"\n",
    "    self.result = r\n",
    "    if getattr(r,'usage_metadata',None): self.use += r.usage_metadata\n",
    "    return r"
   ]
  },
  {
   "cell_type": "code",
   "execution_count": null,
   "id": "dea8466e",
   "metadata": {},
   "outputs": [
    {
     "data": {
      "text/plain": [
       "In: 5; Out: 16; Total: 21"
      ]
     },
     "execution_count": null,
     "metadata": {},
     "output_type": "execute_result"
    }
   ],
   "source": [
    "c._r(r)\n",
    "c.use"
   ]
  },
  {
   "cell_type": "code",
   "execution_count": null,
   "id": "75c87c04",
   "metadata": {},
   "outputs": [],
   "source": [
    "#| export\n",
    "def get_stream(r):\n",
    "    for o in r:\n",
    "        o = contents(o)\n",
    "        if o and isinstance(o, str): yield(o)"
   ]
  },
  {
   "cell_type": "code",
   "execution_count": null,
   "id": "2892ac45",
   "metadata": {},
   "outputs": [],
   "source": [
    "#| export\n",
    "@patch\n",
    "def _set_sp(self:Client, sp:str):\n",
    "    if sp != self.sp:\n",
    "        self.sp = sp\n",
    "        self.c = genai.GenerativeModel(model, system_instruction=self.sp)"
   ]
  },
  {
   "cell_type": "markdown",
   "id": "da5166bd",
   "metadata": {},
   "source": [
    "Gemini cli requires passing the system prompt when creating the client, so we recreate the client for now.\n",
    "\n",
    "TODO: Ask Google to surface this option to generate_content function, since they're passing the system prompt to each request anyways [under the hood](https://github.com/googleapis/python-aiplatform/blob/f89df1f30822d260176487f74c3743cab88a38fd/vertexai/generative_models/_generative_models.py#L446)."
   ]
  },
  {
   "cell_type": "code",
   "execution_count": null,
   "id": "2ba14a0b",
   "metadata": {},
   "outputs": [],
   "source": [
    "#| exports\n",
    "@patch\n",
    "def _precall(self:Client, msgs):\n",
    "    if not isinstance(msgs,list): msgs = [msgs]\n",
    "    msgs = mk_msgs(msgs)\n",
    "    return msgs"
   ]
  },
  {
   "cell_type": "code",
   "execution_count": null,
   "id": "06bac993",
   "metadata": {},
   "outputs": [],
   "source": [
    "#| exports\n",
    "@patch\n",
    "@delegates(genai.GenerativeModel.generate_content)\n",
    "def __call__(self:Client,\n",
    "             msgs:list, # List of messages in the dialog\n",
    "             sp:str=None, # System prompt\n",
    "             maxtok=4096, # Maximum tokens\n",
    "             stream:bool=False, # Stream response?\n",
    "             **kwargs):\n",
    "    \"Make a call to LLM.\"\n",
    "    if sp: self._set_sp(sp)\n",
    "    msgs = self._precall(msgs)\n",
    "    gc_params = inspect.signature(GenerationConfig.__init__).parameters\n",
    "    gc_kwargs = {k: v for k, v in kwargs.items() if k in gc_params}\n",
    "    gen_config = GenerationConfig(max_output_tokens=maxtok, **gc_kwargs)\n",
    "    gen_params = inspect.signature(self.c.generate_content).parameters\n",
    "    gen_kwargs = {k: v for k, v in kwargs.items() if k in gen_params}\n",
    "    r = self.c.generate_content(\n",
    "        contents=msgs, generation_config=gen_config, stream=stream, **gen_kwargs)\n",
    "    if not stream: return self._r(r)\n",
    "    else: return get_stream(map(self._r, r))"
   ]
  },
  {
   "cell_type": "code",
   "execution_count": null,
   "id": "d060f1b8",
   "metadata": {},
   "outputs": [
    {
     "data": {
      "text/plain": [
       "'Hi there! How can I help you today? \\n'"
      ]
     },
     "execution_count": null,
     "metadata": {},
     "output_type": "execute_result"
    }
   ],
   "source": [
    "c.c.generate_content('hi').text"
   ]
  },
  {
   "cell_type": "code",
   "execution_count": null,
   "id": "3850ec42",
   "metadata": {},
   "outputs": [],
   "source": [
    "msgs = ['hi']"
   ]
  },
  {
   "cell_type": "code",
   "execution_count": null,
   "id": "d50775d1",
   "metadata": {},
   "outputs": [
    {
     "data": {
      "text/markdown": [
       "Hi there! How can I help you today? \n",
       "\n",
       "<details>\n",
       "\n",
       "- content: {'parts': [{'text': 'Hi there! How can I help you today? \\n'}], 'role': 'model'}\n",
       "- finish_reason: 1\n",
       "- index: 0\n",
       "- safety_ratings: [{'category': 9, 'probability': 1, 'blocked': False}, {'category': 8, 'probability': 1, 'blocked': False}, {'category': 7, 'probability': 1, 'blocked': False}, {'category': 10, 'probability': 1, 'blocked': False}]\n",
       "- token_count: 0\n",
       "- grounding_attributions: []\n",
       "- avg_logprobs: 0.0\n",
       "- prompt_token_count: 2\n",
       "- candidates_token_count: 10\n",
       "- total_token_count: 12\n",
       "- cached_content_token_count: 0\n",
       "\n",
       "</details>"
      ],
      "text/plain": [
       "response:\n",
       "GenerateContentResponse(\n",
       "    done=True,\n",
       "    iterator=None,\n",
       "    result=protos.GenerateContentResponse({\n",
       "      \"candidates\": [\n",
       "        {\n",
       "          \"content\": {\n",
       "            \"parts\": [\n",
       "              {\n",
       "                \"text\": \"Hi there! How can I help you today? \\n\"\n",
       "              }\n",
       "            ],\n",
       "            \"role\": \"model\"\n",
       "          },\n",
       "          \"finish_reason\": \"STOP\",\n",
       "          \"index\": 0,\n",
       "          \"safety_ratings\": [\n",
       "            {\n",
       "              \"category\": \"HARM_CATEGORY_SEXUALLY_EXPLICIT\",\n",
       "              \"probability\": \"NEGLIGIBLE\"\n",
       "            },\n",
       "            {\n",
       "              \"category\": \"HARM_CATEGORY_HATE_SPEECH\",\n",
       "              \"probability\": \"NEGLIGIBLE\"\n",
       "            },\n",
       "            {\n",
       "              \"category\": \"HARM_CATEGORY_HARASSMENT\",\n",
       "              \"probability\": \"NEGLIGIBLE\"\n",
       "            },\n",
       "            {\n",
       "              \"category\": \"HARM_CATEGORY_DANGEROUS_CONTENT\",\n",
       "              \"probability\": \"NEGLIGIBLE\"\n",
       "            }\n",
       "          ]\n",
       "        }\n",
       "      ],\n",
       "      \"usage_metadata\": {\n",
       "        \"prompt_token_count\": 2,\n",
       "        \"candidates_token_count\": 10,\n",
       "        \"total_token_count\": 12\n",
       "      }\n",
       "    }),\n",
       ")"
      ]
     },
     "execution_count": null,
     "metadata": {},
     "output_type": "execute_result"
    }
   ],
   "source": [
    "c(msgs)"
   ]
  },
  {
   "cell_type": "code",
   "execution_count": null,
   "id": "c9bb4ba3",
   "metadata": {},
   "outputs": [
    {
     "data": {
      "text/plain": [
       "In: 7; Out: 26; Total: 33"
      ]
     },
     "execution_count": null,
     "metadata": {},
     "output_type": "execute_result"
    }
   ],
   "source": [
    "c.use"
   ]
  },
  {
   "cell_type": "code",
   "execution_count": null,
   "id": "97727a4b",
   "metadata": {},
   "outputs": [
    {
     "name": "stdout",
     "output_type": "stream",
     "text": [
      "Hi there!  How can I help you today? \n"
     ]
    }
   ],
   "source": [
    "for o in c(msgs, stream=True): print(o, end='')"
   ]
  },
  {
   "cell_type": "code",
   "execution_count": null,
   "id": "9d37358f",
   "metadata": {},
   "outputs": [
    {
     "data": {
      "text/plain": [
       "In: 11; Out: 40; Total: 51"
      ]
     },
     "execution_count": null,
     "metadata": {},
     "output_type": "execute_result"
    }
   ],
   "source": [
    "c.use"
   ]
  },
  {
   "cell_type": "markdown",
   "id": "88c36641",
   "metadata": {},
   "source": [
    "Gemini cli requires passing the system prompt when creating the client, but we didn't pass one at creation time.\n",
    "Let's make sure that it gets set properly when we call the client later."
   ]
  },
  {
   "cell_type": "code",
   "execution_count": null,
   "id": "0450fe01",
   "metadata": {},
   "outputs": [],
   "source": [
    "sysp = \"Respond only in emojis\""
   ]
  },
  {
   "cell_type": "code",
   "execution_count": null,
   "id": "b0a978d5",
   "metadata": {},
   "outputs": [
    {
     "data": {
      "text/markdown": [
       "👋 \n",
       "\n",
       "<details>\n",
       "\n",
       "- content: {'parts': [{'text': '👋 \\n'}], 'role': 'model'}\n",
       "- finish_reason: 1\n",
       "- index: 0\n",
       "- safety_ratings: [{'category': 9, 'probability': 1, 'blocked': False}, {'category': 8, 'probability': 1, 'blocked': False}, {'category': 7, 'probability': 1, 'blocked': False}, {'category': 10, 'probability': 1, 'blocked': False}]\n",
       "- token_count: 0\n",
       "- grounding_attributions: []\n",
       "- avg_logprobs: 0.0\n",
       "- prompt_token_count: 6\n",
       "- candidates_token_count: 1\n",
       "- total_token_count: 7\n",
       "- cached_content_token_count: 0\n",
       "\n",
       "</details>"
      ],
      "text/plain": [
       "response:\n",
       "GenerateContentResponse(\n",
       "    done=True,\n",
       "    iterator=None,\n",
       "    result=protos.GenerateContentResponse({\n",
       "      \"candidates\": [\n",
       "        {\n",
       "          \"content\": {\n",
       "            \"parts\": [\n",
       "              {\n",
       "                \"text\": \"\\ud83d\\udc4b \\n\"\n",
       "              }\n",
       "            ],\n",
       "            \"role\": \"model\"\n",
       "          },\n",
       "          \"finish_reason\": \"STOP\",\n",
       "          \"index\": 0,\n",
       "          \"safety_ratings\": [\n",
       "            {\n",
       "              \"category\": \"HARM_CATEGORY_SEXUALLY_EXPLICIT\",\n",
       "              \"probability\": \"NEGLIGIBLE\"\n",
       "            },\n",
       "            {\n",
       "              \"category\": \"HARM_CATEGORY_HATE_SPEECH\",\n",
       "              \"probability\": \"NEGLIGIBLE\"\n",
       "            },\n",
       "            {\n",
       "              \"category\": \"HARM_CATEGORY_HARASSMENT\",\n",
       "              \"probability\": \"NEGLIGIBLE\"\n",
       "            },\n",
       "            {\n",
       "              \"category\": \"HARM_CATEGORY_DANGEROUS_CONTENT\",\n",
       "              \"probability\": \"NEGLIGIBLE\"\n",
       "            }\n",
       "          ]\n",
       "        }\n",
       "      ],\n",
       "      \"usage_metadata\": {\n",
       "        \"prompt_token_count\": 6,\n",
       "        \"candidates_token_count\": 1,\n",
       "        \"total_token_count\": 7\n",
       "      }\n",
       "    }),\n",
       ")"
      ]
     },
     "execution_count": null,
     "metadata": {},
     "output_type": "execute_result"
    }
   ],
   "source": [
    "c(msgs, sp=sysp)"
   ]
  },
  {
   "cell_type": "markdown",
   "id": "b3f168bb",
   "metadata": {},
   "source": [
    "We've shown the token usage but we really care about is pricing. Let's extract the latest pricing from Google into a pricing dict."
   ]
  },
  {
   "cell_type": "code",
   "execution_count": null,
   "id": "5d1c5a0e",
   "metadata": {},
   "outputs": [],
   "source": [
    "#| exports\n",
    "pricing = {  # model type: $ / million tokens (input, output, cache, input_long, output_long, cache_long)\n",
    "    'gemini-1.5-pro': (1.25, 5.0, 0.3125, 2.50, 10.0, 0.625),\n",
    "    'gemini-1.5-pro-exp-0827': (1.25, 5.0, 0.3125, 2.50, 10.0, 0.625),\n",
    "    'gemini-1.5-flash': (0.075, 0.30, 0.01875, 0.15, 0.60, 0.0375),\n",
    "    'gemini-1.5-flash-exp-0827': (0.075, 0.30, 0.01875, 0.15, 0.60, 0.0375)\n",
    "}"
   ]
  },
  {
   "cell_type": "markdown",
   "id": "ab805798",
   "metadata": {},
   "source": [
    "Now let's add a cost prop to `Client` to calculate the total cost."
   ]
  },
  {
   "cell_type": "code",
   "execution_count": null,
   "id": "1450d492",
   "metadata": {},
   "outputs": [],
   "source": [
    "#| exports\n",
    "def get_pricing(m, u):\n",
    "    return pricing[m][:3] if u.prompt_token_count < 128_000 else pricing[m][3:]"
   ]
  },
  {
   "cell_type": "code",
   "execution_count": null,
   "id": "c694a305",
   "metadata": {},
   "outputs": [],
   "source": [
    "@patch(as_prop=True)\n",
    "def cost(self:Client):\n",
    "    inp_cost, out_cost, cache_cost = get_pricing(self.model.split('-exp-')[0], self.use)\n",
    "    return (self.use.prompt_token_count * inp_cost + self.use.candidates_token_count * out_cost + self.use.cached_content_token_count * cache_cost) / 1e6"
   ]
  },
  {
   "cell_type": "code",
   "execution_count": null,
   "id": "d6a48912",
   "metadata": {},
   "outputs": [
    {
     "data": {
      "text/plain": [
       "1.3575e-05"
      ]
     },
     "execution_count": null,
     "metadata": {},
     "output_type": "execute_result"
    }
   ],
   "source": [
    "c.cost"
   ]
  },
  {
   "cell_type": "code",
   "execution_count": null,
   "id": "0293e239",
   "metadata": {},
   "outputs": [],
   "source": [
    "@patch\n",
    "def _repr_markdown_(self:Client):\n",
    "    if not hasattr(self,'result'): return 'No results yet'\n",
    "    msg = contents(self.result)\n",
    "    inp_cost,out_cost,_ = get_pricing(self.model.split('-exp-')[0], self.use)\n",
    "    in_cost = self.use.prompt_token_count * inp_cost/1e6\n",
    "    out_cost = self.use.candidates_token_count * out_cost/1e6\n",
    "    cache_cost = self.use.cached_content_token_count * out_cost/1e6\n",
    "    return f\"\"\"{msg}\n",
    "\n",
    "| Metric | Count | Cost (USD) |\n",
    "|--------|------:|-----:|\n",
    "| Input tokens | {self.use.prompt_token_count:,} | {in_cost:.6f} |\n",
    "| Output tokens | {self.use.candidates_token_count:,} | {out_cost:.6f} |\n",
    "| Cache tokens | {self.use.cached_content_token_count:,} | {cache_cost:.6f} |\n",
    "| **Total** | **{self.use.total:,}** | **${self.cost:.6f}** |\"\"\""
   ]
  },
  {
   "cell_type": "code",
   "execution_count": null,
   "id": "c8304456",
   "metadata": {},
   "outputs": [
    {
     "data": {
      "text/markdown": [
       "👋 \n",
       "\n",
       "\n",
       "| Metric | Count | Cost (USD) |\n",
       "|--------|------:|-----:|\n",
       "| Input tokens | 17 | 0.000001 |\n",
       "| Output tokens | 41 | 0.000012 |\n",
       "| Cache tokens | 0 | 0.000000 |\n",
       "| **Total** | **58** | **$0.000014** |"
      ],
      "text/plain": [
       "<__main__.Client>"
      ]
     },
     "execution_count": null,
     "metadata": {},
     "output_type": "execute_result"
    }
   ],
   "source": [
    "c"
   ]
  },
  {
   "cell_type": "markdown",
   "id": "9b2dee9a",
   "metadata": {},
   "source": [
    "## Tool Use"
   ]
  },
  {
   "cell_type": "code",
   "execution_count": null,
   "id": "008d7d8d",
   "metadata": {},
   "outputs": [],
   "source": [
    "def sums(\n",
    "    a:int,  # First thing to sum\n",
    "    b:int # Second thing to sum\n",
    ") -> int: # The sum of the inputs\n",
    "    \"Adds a + b.\"\n",
    "    print(f\"Finding the sum of {a} and {b}\")\n",
    "    return a + b"
   ]
  },
  {
   "cell_type": "code",
   "execution_count": null,
   "id": "bb24d113",
   "metadata": {},
   "outputs": [],
   "source": [
    "sysp = \"You are a helpful assistant. When using tools, be sure to pass all required parameters, at minimum.\""
   ]
  },
  {
   "cell_type": "code",
   "execution_count": null,
   "id": "3c7b4cd3",
   "metadata": {},
   "outputs": [],
   "source": [
    "a,b = 604542,6458932\n",
    "pr = f\"What is {a}+{b}?\""
   ]
  },
  {
   "cell_type": "markdown",
   "id": "410ec83c",
   "metadata": {},
   "source": [
    "Google's Genai API handles schema exatraction under the hood, so we can just directly pass the functions"
   ]
  },
  {
   "cell_type": "code",
   "execution_count": null,
   "id": "0f714d21",
   "metadata": {},
   "outputs": [
    {
     "data": {
      "text/markdown": [
       "- content: {'parts': [{'function_call': {'name': 'sums', 'args': {'a': 604542.0, 'b': 6458932.0}}}], 'role': 'model'}\n",
       "- finish_reason: 1\n",
       "- index: 0\n",
       "- safety_ratings: [{'category': 9, 'probability': 1, 'blocked': False}, {'category': 7, 'probability': 1, 'blocked': False}, {'category': 8, 'probability': 1, 'blocked': False}, {'category': 10, 'probability': 1, 'blocked': False}]\n",
       "- token_count: 0\n",
       "- grounding_attributions: []\n",
       "- avg_logprobs: 0.0\n",
       "- prompt_token_count: 86\n",
       "- candidates_token_count: 29\n",
       "- total_token_count: 115\n",
       "- cached_content_token_count: 0"
      ],
      "text/plain": [
       "response:\n",
       "GenerateContentResponse(\n",
       "    done=True,\n",
       "    iterator=None,\n",
       "    result=protos.GenerateContentResponse({\n",
       "      \"candidates\": [\n",
       "        {\n",
       "          \"content\": {\n",
       "            \"parts\": [\n",
       "              {\n",
       "                \"function_call\": {\n",
       "                  \"name\": \"sums\",\n",
       "                  \"args\": {\n",
       "                    \"a\": 604542.0,\n",
       "                    \"b\": 6458932.0\n",
       "                  }\n",
       "                }\n",
       "              }\n",
       "            ],\n",
       "            \"role\": \"model\"\n",
       "          },\n",
       "          \"finish_reason\": \"STOP\",\n",
       "          \"index\": 0,\n",
       "          \"safety_ratings\": [\n",
       "            {\n",
       "              \"category\": \"HARM_CATEGORY_SEXUALLY_EXPLICIT\",\n",
       "              \"probability\": \"NEGLIGIBLE\"\n",
       "            },\n",
       "            {\n",
       "              \"category\": \"HARM_CATEGORY_HARASSMENT\",\n",
       "              \"probability\": \"NEGLIGIBLE\"\n",
       "            },\n",
       "            {\n",
       "              \"category\": \"HARM_CATEGORY_HATE_SPEECH\",\n",
       "              \"probability\": \"NEGLIGIBLE\"\n",
       "            },\n",
       "            {\n",
       "              \"category\": \"HARM_CATEGORY_DANGEROUS_CONTENT\",\n",
       "              \"probability\": \"NEGLIGIBLE\"\n",
       "            }\n",
       "          ]\n",
       "        }\n",
       "      ],\n",
       "      \"usage_metadata\": {\n",
       "        \"prompt_token_count\": 86,\n",
       "        \"candidates_token_count\": 29,\n",
       "        \"total_token_count\": 115\n",
       "      }\n",
       "    }),\n",
       ")"
      ]
     },
     "execution_count": null,
     "metadata": {},
     "output_type": "execute_result"
    }
   ],
   "source": [
    "r = c(pr, sp=sysp, tools=[sums])\n",
    "r"
   ]
  },
  {
   "cell_type": "markdown",
   "id": "2c4ea030",
   "metadata": {},
   "source": [
    "Looks like our output isn't pretty anymore. Let's fix that"
   ]
  },
  {
   "cell_type": "code",
   "execution_count": null,
   "id": "5dbc5048",
   "metadata": {},
   "outputs": [
    {
     "data": {
      "text/plain": [
       "''"
      ]
     },
     "execution_count": null,
     "metadata": {},
     "output_type": "execute_result"
    }
   ],
   "source": [
    "contents(r)"
   ]
  },
  {
   "cell_type": "code",
   "execution_count": null,
   "id": "b945925a",
   "metadata": {},
   "outputs": [],
   "source": [
    "#| exports\n",
    "def contents(r):\n",
    "    \"Helper to get the contents from response `r`.\"\n",
    "    blk = find_block(r)\n",
    "    if not blk: return r\n",
    "    \n",
    "    if hasattr(blk, 'parts'):\n",
    "        part = blk.parts[0]\n",
    "        if 'text' in part:\n",
    "            return part.text\n",
    "        else:\n",
    "            return part\n",
    "    return blk"
   ]
  },
  {
   "cell_type": "code",
   "execution_count": null,
   "id": "7d509ae7",
   "metadata": {},
   "outputs": [
    {
     "data": {
      "text/plain": [
       "function_call {\n",
       "  name: \"sums\"\n",
       "  args {\n",
       "    fields {\n",
       "      key: \"b\"\n",
       "      value {\n",
       "        number_value: 6458932\n",
       "      }\n",
       "    }\n",
       "    fields {\n",
       "      key: \"a\"\n",
       "      value {\n",
       "        number_value: 604542\n",
       "      }\n",
       "    }\n",
       "  }\n",
       "}"
      ]
     },
     "execution_count": null,
     "metadata": {},
     "output_type": "execute_result"
    }
   ],
   "source": [
    "contents(r)"
   ]
  },
  {
   "cell_type": "code",
   "execution_count": null,
   "id": "7a2a9585",
   "metadata": {},
   "outputs": [
    {
     "data": {
      "text/markdown": [
       "function_call {\n",
       "  name: \"sums\"\n",
       "  args {\n",
       "    fields {\n",
       "      key: \"b\"\n",
       "      value {\n",
       "        number_value: 6458932\n",
       "      }\n",
       "    }\n",
       "    fields {\n",
       "      key: \"a\"\n",
       "      value {\n",
       "        number_value: 604542\n",
       "      }\n",
       "    }\n",
       "  }\n",
       "}\n",
       "\n",
       "<details>\n",
       "\n",
       "- content: {'parts': [{'function_call': {'name': 'sums', 'args': {'a': 604542.0, 'b': 6458932.0}}}], 'role': 'model'}\n",
       "- finish_reason: 1\n",
       "- index: 0\n",
       "- safety_ratings: [{'category': 9, 'probability': 1, 'blocked': False}, {'category': 7, 'probability': 1, 'blocked': False}, {'category': 8, 'probability': 1, 'blocked': False}, {'category': 10, 'probability': 1, 'blocked': False}]\n",
       "- token_count: 0\n",
       "- grounding_attributions: []\n",
       "- avg_logprobs: 0.0\n",
       "- prompt_token_count: 86\n",
       "- candidates_token_count: 29\n",
       "- total_token_count: 115\n",
       "- cached_content_token_count: 0\n",
       "\n",
       "</details>"
      ],
      "text/plain": [
       "response:\n",
       "GenerateContentResponse(\n",
       "    done=True,\n",
       "    iterator=None,\n",
       "    result=protos.GenerateContentResponse({\n",
       "      \"candidates\": [\n",
       "        {\n",
       "          \"content\": {\n",
       "            \"parts\": [\n",
       "              {\n",
       "                \"function_call\": {\n",
       "                  \"name\": \"sums\",\n",
       "                  \"args\": {\n",
       "                    \"a\": 604542.0,\n",
       "                    \"b\": 6458932.0\n",
       "                  }\n",
       "                }\n",
       "              }\n",
       "            ],\n",
       "            \"role\": \"model\"\n",
       "          },\n",
       "          \"finish_reason\": \"STOP\",\n",
       "          \"index\": 0,\n",
       "          \"safety_ratings\": [\n",
       "            {\n",
       "              \"category\": \"HARM_CATEGORY_SEXUALLY_EXPLICIT\",\n",
       "              \"probability\": \"NEGLIGIBLE\"\n",
       "            },\n",
       "            {\n",
       "              \"category\": \"HARM_CATEGORY_HARASSMENT\",\n",
       "              \"probability\": \"NEGLIGIBLE\"\n",
       "            },\n",
       "            {\n",
       "              \"category\": \"HARM_CATEGORY_HATE_SPEECH\",\n",
       "              \"probability\": \"NEGLIGIBLE\"\n",
       "            },\n",
       "            {\n",
       "              \"category\": \"HARM_CATEGORY_DANGEROUS_CONTENT\",\n",
       "              \"probability\": \"NEGLIGIBLE\"\n",
       "            }\n",
       "          ]\n",
       "        }\n",
       "      ],\n",
       "      \"usage_metadata\": {\n",
       "        \"prompt_token_count\": 86,\n",
       "        \"candidates_token_count\": 29,\n",
       "        \"total_token_count\": 115\n",
       "      }\n",
       "    }),\n",
       ")"
      ]
     },
     "execution_count": null,
     "metadata": {},
     "output_type": "execute_result"
    }
   ],
   "source": [
    "r"
   ]
  },
  {
   "cell_type": "markdown",
   "id": "7163e293",
   "metadata": {},
   "source": [
    "B-e-a-utiful..."
   ]
  },
  {
   "cell_type": "code",
   "execution_count": null,
   "id": "9441a121",
   "metadata": {},
   "outputs": [
    {
     "data": {
      "text/plain": [
       "parts {\n",
       "  function_call {\n",
       "    name: \"sums\"\n",
       "    args {\n",
       "      fields {\n",
       "        key: \"b\"\n",
       "        value {\n",
       "          number_value: 6458932\n",
       "        }\n",
       "      }\n",
       "      fields {\n",
       "        key: \"a\"\n",
       "        value {\n",
       "          number_value: 604542\n",
       "        }\n",
       "      }\n",
       "    }\n",
       "  }\n",
       "}\n",
       "role: \"model\""
      ]
     },
     "execution_count": null,
     "metadata": {},
     "output_type": "execute_result"
    }
   ],
   "source": [
    "m = find_block(r); m"
   ]
  },
  {
   "cell_type": "code",
   "execution_count": null,
   "id": "752e621d",
   "metadata": {},
   "outputs": [
    {
     "data": {
      "text/plain": [
       "name: \"sums\"\n",
       "args {\n",
       "  fields {\n",
       "    key: \"b\"\n",
       "    value {\n",
       "      number_value: 6458932\n",
       "    }\n",
       "  }\n",
       "  fields {\n",
       "    key: \"a\"\n",
       "    value {\n",
       "      number_value: 604542\n",
       "    }\n",
       "  }\n",
       "}"
      ]
     },
     "execution_count": null,
     "metadata": {},
     "output_type": "execute_result"
    }
   ],
   "source": [
    "func = m.parts[0].function_call; func"
   ]
  },
  {
   "cell_type": "markdown",
   "id": "365966dd",
   "metadata": {},
   "source": [
    "Let's get the returned function call into a format that is expected by `call_func`."
   ]
  },
  {
   "cell_type": "code",
   "execution_count": null,
   "id": "7179796d",
   "metadata": {},
   "outputs": [
    {
     "name": "stdout",
     "output_type": "stream",
     "text": [
      "a 604542.0\n",
      "b 6458932.0\n"
     ]
    }
   ],
   "source": [
    "for k,v in func.args.items(): print(k, v)"
   ]
  },
  {
   "cell_type": "code",
   "execution_count": null,
   "id": "e36851c6",
   "metadata": {},
   "outputs": [],
   "source": [
    "def mk_args(args): return {k: v for k,v in args.items()}"
   ]
  },
  {
   "cell_type": "code",
   "execution_count": null,
   "id": "dcb429a7",
   "metadata": {},
   "outputs": [
    {
     "data": {
      "text/plain": [
       "{'a': 604542.0, 'b': 6458932.0}"
      ]
     },
     "execution_count": null,
     "metadata": {},
     "output_type": "execute_result"
    }
   ],
   "source": [
    "mk_args(func.args)"
   ]
  },
  {
   "cell_type": "code",
   "execution_count": null,
   "id": "7f0f66d0",
   "metadata": {},
   "outputs": [],
   "source": [
    "#| exports\n",
    "def convert_func(f): return AttrDict(name=f.name, inputs=mk_args(f.args))"
   ]
  },
  {
   "cell_type": "code",
   "execution_count": null,
   "id": "977445b0",
   "metadata": {},
   "outputs": [
    {
     "data": {
      "text/markdown": [
       "```json\n",
       "{'inputs': {'a': 604542.0, 'b': 6458932.0}, 'name': 'sums'}\n",
       "```"
      ],
      "text/plain": [
       "{'name': 'sums', 'inputs': {'a': 604542.0, 'b': 6458932.0}}"
      ]
     },
     "execution_count": null,
     "metadata": {},
     "output_type": "execute_result"
    }
   ],
   "source": [
    "func = convert_func(func); func"
   ]
  },
  {
   "cell_type": "code",
   "execution_count": null,
   "id": "e9127c59",
   "metadata": {},
   "outputs": [
    {
     "data": {
      "text/plain": [
       "{'sums': <function __main__.sums(a: int, b: int) -> int>}"
      ]
     },
     "execution_count": null,
     "metadata": {},
     "output_type": "execute_result"
    }
   ],
   "source": [
    "ns = mk_ns(sums); ns"
   ]
  },
  {
   "cell_type": "code",
   "execution_count": null,
   "id": "8d387b35",
   "metadata": {},
   "outputs": [
    {
     "name": "stdout",
     "output_type": "stream",
     "text": [
      "Finding the sum of 604542.0 and 6458932.0\n"
     ]
    },
    {
     "data": {
      "text/plain": [
       "7063474.0"
      ]
     },
     "execution_count": null,
     "metadata": {},
     "output_type": "execute_result"
    }
   ],
   "source": [
    "res = call_func(func.name, func.inputs, ns); res"
   ]
  },
  {
   "cell_type": "code",
   "execution_count": null,
   "id": "4eb08798",
   "metadata": {},
   "outputs": [],
   "source": [
    "def mk_msg(content, role='user', **kw):\n",
    "    if isinstance(content, GenerateContentResponse): role,content = 'model',contents(content)\n",
    "    if isinstance(content, dict): role,content = content['role'],content['parts']\n",
    "    if not isinstance(content, list): content=[content]\n",
    "    return dict(role=role, parts=content, **kw)"
   ]
  },
  {
   "cell_type": "code",
   "execution_count": null,
   "id": "6b788a08",
   "metadata": {},
   "outputs": [],
   "source": [
    "#| exports\n",
    "def mk_toolres(\n",
    "    r:abc.Mapping, # Tool use request response\n",
    "    ns, # Namespace to search for tools\n",
    "    ):\n",
    "    \"Create a `tool_result` message from response `r`.\"\n",
    "    parts = find_block(r).parts\n",
    "    tcs = [p.function_call for p in parts if hasattr(p, 'function_call')]\n",
    "    res = [mk_msg(r)]\n",
    "    tc_res = []\n",
    "    for func in (tcs or []):\n",
    "        if not func: continue\n",
    "        func = convert_func(func)\n",
    "        cts = call_func(func.name, func.inputs, ns=ns)\n",
    "        tc_res.append(FunctionResponse(name=func.name, response={'result': cts}))\n",
    "    if tc_res: res.append(mk_msg(tc_res))\n",
    "    return res"
   ]
  },
  {
   "cell_type": "code",
   "execution_count": null,
   "id": "9ec7457e",
   "metadata": {},
   "outputs": [
    {
     "name": "stdout",
     "output_type": "stream",
     "text": [
      "Finding the sum of 604542.0 and 6458932.0\n"
     ]
    },
    {
     "data": {
      "text/plain": [
       "{'role': 'user',\n",
       " 'parts': [name: \"sums\"\n",
       "  response {\n",
       "    fields {\n",
       "      key: \"result\"\n",
       "      value {\n",
       "        number_value: 7063474\n",
       "      }\n",
       "    }\n",
       "  }]}"
      ]
     },
     "execution_count": null,
     "metadata": {},
     "output_type": "execute_result"
    }
   ],
   "source": [
    "tr = mk_toolres(r, ns=ns)\n",
    "tr[1]"
   ]
  },
  {
   "cell_type": "code",
   "execution_count": null,
   "id": "d609ed0a",
   "metadata": {},
   "outputs": [
    {
     "data": {
      "text/plain": [
       "['What is 604542+6458932?',\n",
       " {'role': 'model', 'parts': [function_call {\n",
       "     name: \"sums\"\n",
       "     args {\n",
       "       fields {\n",
       "         key: \"b\"\n",
       "         value {\n",
       "           number_value: 6458932\n",
       "         }\n",
       "       }\n",
       "       fields {\n",
       "         key: \"a\"\n",
       "         value {\n",
       "           number_value: 604542\n",
       "         }\n",
       "       }\n",
       "     }\n",
       "   }]},\n",
       " {'role': 'user',\n",
       "  'parts': [name: \"sums\"\n",
       "   response {\n",
       "     fields {\n",
       "       key: \"result\"\n",
       "       value {\n",
       "         number_value: 7063474\n",
       "       }\n",
       "     }\n",
       "   }]}]"
      ]
     },
     "execution_count": null,
     "metadata": {},
     "output_type": "execute_result"
    }
   ],
   "source": [
    "msgs = [pr] + tr; msgs"
   ]
  },
  {
   "cell_type": "code",
   "execution_count": null,
   "id": "dee5aa0d",
   "metadata": {},
   "outputs": [],
   "source": [
    "#| exports\n",
    "def mk_msgs(msgs:list, **kw):\n",
    "    \"Helper to set 'assistant' role on alternate messages.\"\n",
    "    if isinstance(msgs,str): msgs=[msgs]\n",
    "    return [mk_msg(o, ('user','model')[i%2], **kw) for i,o in enumerate(msgs)]"
   ]
  },
  {
   "cell_type": "code",
   "execution_count": null,
   "id": "5e7848bf",
   "metadata": {},
   "outputs": [
    {
     "data": {
      "text/plain": [
       "[{'role': 'user', 'parts': ['What is 604542+6458932?']},\n",
       " {'role': 'model',\n",
       "  'parts': [function_call {\n",
       "     name: \"sums\"\n",
       "     args {\n",
       "       fields {\n",
       "         key: \"b\"\n",
       "         value {\n",
       "           number_value: 6458932\n",
       "         }\n",
       "       }\n",
       "       fields {\n",
       "         key: \"a\"\n",
       "         value {\n",
       "           number_value: 604542\n",
       "         }\n",
       "       }\n",
       "     }\n",
       "   }]},\n",
       " {'role': 'user',\n",
       "  'parts': [name: \"sums\"\n",
       "   response {\n",
       "     fields {\n",
       "       key: \"result\"\n",
       "       value {\n",
       "         number_value: 7063474\n",
       "       }\n",
       "     }\n",
       "   }]}]"
      ]
     },
     "execution_count": null,
     "metadata": {},
     "output_type": "execute_result"
    }
   ],
   "source": [
    "mk_msgs(msgs)"
   ]
  },
  {
   "cell_type": "code",
   "execution_count": null,
   "id": "46a1a15d",
   "metadata": {},
   "outputs": [
    {
     "data": {
      "text/markdown": [
       "7063474 \n",
       "\n",
       "<details>\n",
       "\n",
       "- content: {'parts': [{'text': '7063474 \\n'}], 'role': 'model'}\n",
       "- finish_reason: 1\n",
       "- index: 0\n",
       "- safety_ratings: [{'category': 9, 'probability': 1, 'blocked': False}, {'category': 8, 'probability': 1, 'blocked': False}, {'category': 7, 'probability': 1, 'blocked': False}, {'category': 10, 'probability': 1, 'blocked': False}]\n",
       "- token_count: 0\n",
       "- grounding_attributions: []\n",
       "- avg_logprobs: 0.0\n",
       "- prompt_token_count: 136\n",
       "- candidates_token_count: 7\n",
       "- total_token_count: 143\n",
       "- cached_content_token_count: 0\n",
       "\n",
       "</details>"
      ],
      "text/plain": [
       "response:\n",
       "GenerateContentResponse(\n",
       "    done=True,\n",
       "    iterator=None,\n",
       "    result=protos.GenerateContentResponse({\n",
       "      \"candidates\": [\n",
       "        {\n",
       "          \"content\": {\n",
       "            \"parts\": [\n",
       "              {\n",
       "                \"text\": \"7063474 \\n\"\n",
       "              }\n",
       "            ],\n",
       "            \"role\": \"model\"\n",
       "          },\n",
       "          \"finish_reason\": \"STOP\",\n",
       "          \"index\": 0,\n",
       "          \"safety_ratings\": [\n",
       "            {\n",
       "              \"category\": \"HARM_CATEGORY_SEXUALLY_EXPLICIT\",\n",
       "              \"probability\": \"NEGLIGIBLE\"\n",
       "            },\n",
       "            {\n",
       "              \"category\": \"HARM_CATEGORY_HATE_SPEECH\",\n",
       "              \"probability\": \"NEGLIGIBLE\"\n",
       "            },\n",
       "            {\n",
       "              \"category\": \"HARM_CATEGORY_HARASSMENT\",\n",
       "              \"probability\": \"NEGLIGIBLE\"\n",
       "            },\n",
       "            {\n",
       "              \"category\": \"HARM_CATEGORY_DANGEROUS_CONTENT\",\n",
       "              \"probability\": \"NEGLIGIBLE\"\n",
       "            }\n",
       "          ]\n",
       "        }\n",
       "      ],\n",
       "      \"usage_metadata\": {\n",
       "        \"prompt_token_count\": 136,\n",
       "        \"candidates_token_count\": 7,\n",
       "        \"total_token_count\": 143\n",
       "      }\n",
       "    }),\n",
       ")"
      ]
     },
     "execution_count": null,
     "metadata": {},
     "output_type": "execute_result"
    }
   ],
   "source": [
    "res = c(msgs, sp=sysp, tools=[sums])\n",
    "res"
   ]
  },
  {
   "cell_type": "markdown",
   "id": "412e310c",
   "metadata": {},
   "source": [
    "We can also force a particular set of tools to be used using, `tool_config`. Here's an example of how to do that for genai api."
   ]
  },
  {
   "cell_type": "code",
   "execution_count": null,
   "id": "bd1badc5",
   "metadata": {},
   "outputs": [],
   "source": [
    "def mk_tool_config(choose: list)->dict:\n",
    "    return {\"function_calling_config\": {\"mode\": \"ANY\", \"allowed_function_names\": [x.__name__ for x in choose]}}"
   ]
  },
  {
   "cell_type": "code",
   "execution_count": null,
   "id": "a12dc557",
   "metadata": {},
   "outputs": [
    {
     "data": {
      "text/plain": [
       "{'function_calling_config': {'mode': 'ANY',\n",
       "  'allowed_function_names': ['sums']}}"
      ]
     },
     "execution_count": null,
     "metadata": {},
     "output_type": "execute_result"
    }
   ],
   "source": [
    "tool_config = mk_tool_config([sums]); tool_config"
   ]
  },
  {
   "cell_type": "code",
   "execution_count": null,
   "id": "6eba07ed",
   "metadata": {},
   "outputs": [
    {
     "data": {
      "text/markdown": [
       "function_call {\n",
       "  name: \"sums\"\n",
       "  args {\n",
       "    fields {\n",
       "      key: \"b\"\n",
       "      value {\n",
       "        number_value: 2\n",
       "      }\n",
       "    }\n",
       "    fields {\n",
       "      key: \"a\"\n",
       "      value {\n",
       "        number_value: 1\n",
       "      }\n",
       "    }\n",
       "  }\n",
       "}\n",
       "\n",
       "<details>\n",
       "\n",
       "- content: {'parts': [{'function_call': {'name': 'sums', 'args': {'a': 1.0, 'b': 2.0}}}], 'role': 'model'}\n",
       "- finish_reason: 1\n",
       "- index: 0\n",
       "- safety_ratings: [{'category': 7, 'probability': 1, 'blocked': False}, {'category': 10, 'probability': 1, 'blocked': False}, {'category': 8, 'probability': 1, 'blocked': False}, {'category': 9, 'probability': 1, 'blocked': False}]\n",
       "- token_count: 0\n",
       "- grounding_attributions: []\n",
       "- avg_logprobs: 0.0\n",
       "- prompt_token_count: 70\n",
       "- candidates_token_count: 18\n",
       "- total_token_count: 88\n",
       "- cached_content_token_count: 0\n",
       "\n",
       "</details>"
      ],
      "text/plain": [
       "response:\n",
       "GenerateContentResponse(\n",
       "    done=True,\n",
       "    iterator=None,\n",
       "    result=protos.GenerateContentResponse({\n",
       "      \"candidates\": [\n",
       "        {\n",
       "          \"content\": {\n",
       "            \"parts\": [\n",
       "              {\n",
       "                \"function_call\": {\n",
       "                  \"name\": \"sums\",\n",
       "                  \"args\": {\n",
       "                    \"a\": 1.0,\n",
       "                    \"b\": 2.0\n",
       "                  }\n",
       "                }\n",
       "              }\n",
       "            ],\n",
       "            \"role\": \"model\"\n",
       "          },\n",
       "          \"finish_reason\": \"STOP\",\n",
       "          \"index\": 0,\n",
       "          \"safety_ratings\": [\n",
       "            {\n",
       "              \"category\": \"HARM_CATEGORY_HARASSMENT\",\n",
       "              \"probability\": \"NEGLIGIBLE\"\n",
       "            },\n",
       "            {\n",
       "              \"category\": \"HARM_CATEGORY_DANGEROUS_CONTENT\",\n",
       "              \"probability\": \"NEGLIGIBLE\"\n",
       "            },\n",
       "            {\n",
       "              \"category\": \"HARM_CATEGORY_HATE_SPEECH\",\n",
       "              \"probability\": \"NEGLIGIBLE\"\n",
       "            },\n",
       "            {\n",
       "              \"category\": \"HARM_CATEGORY_SEXUALLY_EXPLICIT\",\n",
       "              \"probability\": \"NEGLIGIBLE\"\n",
       "            }\n",
       "          ]\n",
       "        }\n",
       "      ],\n",
       "      \"usage_metadata\": {\n",
       "        \"prompt_token_count\": 70,\n",
       "        \"candidates_token_count\": 18,\n",
       "        \"total_token_count\": 88\n",
       "      }\n",
       "    }),\n",
       ")"
      ]
     },
     "execution_count": null,
     "metadata": {},
     "output_type": "execute_result"
    }
   ],
   "source": [
    "c('Howdy!', tools=[sums], tool_config=tool_config)"
   ]
  },
  {
   "cell_type": "markdown",
   "id": "50421e42",
   "metadata": {},
   "source": [
    "## Structured Outputs"
   ]
  },
  {
   "cell_type": "markdown",
   "id": "9787ff76",
   "metadata": {},
   "source": [
    "We can also use tool calling to force the model to return structured outputs."
   ]
  },
  {
   "cell_type": "code",
   "execution_count": null,
   "id": "ac6e3681",
   "metadata": {},
   "outputs": [],
   "source": [
    "@patch\n",
    "@delegates(Client.__call__)\n",
    "def structured(self:Client,\n",
    "               msgs:list, # The prompt or list of prompts\n",
    "               tools:list, # Namespace to search for tools\n",
    "               **kwargs):\n",
    "    \"Return the value of all tool calls (generally used for structured outputs)\"\n",
    "    if not isinstance(msgs, list): msgs = [msgs]\n",
    "    if not isinstance(tools, list): tools = [tools]\n",
    "    kwargs['tools'] = tools\n",
    "    kwargs['tool_config'] = mk_tool_config(tools)\n",
    "    res = self(msgs, **kwargs)\n",
    "    ns=mk_ns(*tools)\n",
    "    parts = find_block(res).parts\n",
    "    funcs = [convert_func(p.function_call) for p in parts if hasattr(p, 'function_call')]\n",
    "    tcs = [call_func(func.name, func.inputs, ns=ns) for func in funcs]\n",
    "    return tcs"
   ]
  },
  {
   "cell_type": "code",
   "execution_count": null,
   "id": "f15813bf",
   "metadata": {},
   "outputs": [],
   "source": [
    "class Recipe(BasicRepr):\n",
    "    \"A structure for representing recipes.\"\n",
    "    def __init__(self, recipe_name: str, ingredients: list[str]): store_attr()"
   ]
  },
  {
   "cell_type": "markdown",
   "id": "9bf6def5",
   "metadata": {},
   "source": [
    "Gemini API schema extraction doesn't work very well for Class definitions so we define a factory method as a workaround."
   ]
  },
  {
   "cell_type": "code",
   "execution_count": null,
   "id": "e7083831",
   "metadata": {},
   "outputs": [
    {
     "data": {
      "text/plain": [
       "Recipe(recipe_name='Chocolate Chip Cookies', ingredients=['flour', 'sugar', 'eggs', 'chocolate chips', 'butter', 'vanilla extract'])"
      ]
     },
     "execution_count": null,
     "metadata": {},
     "output_type": "execute_result"
    }
   ],
   "source": [
    "pr = \"Give me a receipe for chocolate chip cookies\"\n",
    "recipe = c.structured(pr, tools=[Recipe], sp=sysp)[0]; recipe"
   ]
  },
  {
   "cell_type": "markdown",
   "id": "74b51ff0",
   "metadata": {},
   "source": [
    "This works great, however, to handle to complex structured output usecases we need to manually create the schema objects to feed to the GenAI API."
   ]
  },
  {
   "cell_type": "code",
   "execution_count": null,
   "id": "59bbecea",
   "metadata": {},
   "outputs": [],
   "source": [
    "class Turn(BasicRepr):\n",
    "    \"Turn in the conversation\"\n",
    "    def __init__(self, msg_a: str, msg_b: str): store_attr()"
   ]
  },
  {
   "cell_type": "code",
   "execution_count": null,
   "id": "3f27af89",
   "metadata": {},
   "outputs": [],
   "source": [
    "class Conversation(BasicRepr):\n",
    "    \"A conversation between two people\"\n",
    "    def __init__(self, turns: list[Turn]): store_attr()"
   ]
  },
  {
   "cell_type": "markdown",
   "id": "53d9b992",
   "metadata": {},
   "source": [
    "Let's do this manually using GenAI's special protobuf schema types."
   ]
  },
  {
   "cell_type": "code",
   "execution_count": null,
   "id": "b8c95a62",
   "metadata": {},
   "outputs": [],
   "source": [
    "turn = genai.protos.Schema(\n",
    "    type = genai.protos.Type.OBJECT,\n",
    "    properties = {\n",
    "        'msg_a':  genai.protos.Schema(type=genai.protos.Type.STRING),\n",
    "        'msg_b':  genai.protos.Schema(type=genai.protos.Type.STRING),\n",
    "    },\n",
    "    required=['msg_a', 'msg_b']\n",
    ")"
   ]
  },
  {
   "cell_type": "code",
   "execution_count": null,
   "id": "137ca8f0",
   "metadata": {},
   "outputs": [],
   "source": [
    "convo = genai.protos.Schema(\n",
    "    type = genai.protos.Type.OBJECT,\n",
    "    properties = {\n",
    "        'turns':  genai.protos.Schema(type=genai.protos.Type.ARRAY, items=turn)\n",
    "    },\n",
    "    required=['turns']\n",
    ")"
   ]
  },
  {
   "cell_type": "markdown",
   "id": "6c4f81ed",
   "metadata": {},
   "source": [
    "Great, now, let's wrap this into the necessary function declaration that will then be used as a tool."
   ]
  },
  {
   "cell_type": "code",
   "execution_count": null,
   "id": "11391714",
   "metadata": {},
   "outputs": [
    {
     "data": {
      "text/plain": [
       "name: \"create_convo\"\n",
       "description: \"Creates a conversation\"\n",
       "parameters {\n",
       "  type_: OBJECT\n",
       "  properties {\n",
       "    key: \"turns\"\n",
       "    value {\n",
       "      type_: ARRAY\n",
       "      items {\n",
       "        type_: OBJECT\n",
       "        properties {\n",
       "          key: \"msg_b\"\n",
       "          value {\n",
       "            type_: STRING\n",
       "          }\n",
       "        }\n",
       "        properties {\n",
       "          key: \"msg_a\"\n",
       "          value {\n",
       "            type_: STRING\n",
       "          }\n",
       "        }\n",
       "        required: \"msg_a\"\n",
       "        required: \"msg_b\"\n",
       "      }\n",
       "    }\n",
       "  }\n",
       "  required: \"turns\"\n",
       "}"
      ]
     },
     "execution_count": null,
     "metadata": {},
     "output_type": "execute_result"
    }
   ],
   "source": [
    "create_convo = genai.protos.FunctionDeclaration(\n",
    "    name=\"create_convo\",\n",
    "    description=\"Creates a conversation\",\n",
    "    parameters=convo\n",
    "); create_convo"
   ]
  },
  {
   "cell_type": "code",
   "execution_count": null,
   "id": "e52c157b",
   "metadata": {},
   "outputs": [],
   "source": [
    "gen_model = genai.GenerativeModel(model_name=model, tools = [create_convo])"
   ]
  },
  {
   "cell_type": "code",
   "execution_count": null,
   "id": "8c11c4a4",
   "metadata": {},
   "outputs": [
    {
     "data": {
      "text/markdown": [
       "function_call {\n",
       "  name: \"create_convo\"\n",
       "  args {\n",
       "    fields {\n",
       "      key: \"turns\"\n",
       "      value {\n",
       "        list_value {\n",
       "          values {\n",
       "            struct_value {\n",
       "              fields {\n",
       "                key: \"msg_b\"\n",
       "                value {\n",
       "                  string_value: \"\"\n",
       "                }\n",
       "              }\n",
       "              fields {\n",
       "                key: \"msg_a\"\n",
       "                value {\n",
       "                  string_value: \"I\\'d love to give you a recipe for chocolate chip cookies, but I don\\'t have access to the internet to get one. Can I help you with something else?\"\n",
       "                }\n",
       "              }\n",
       "            }\n",
       "          }\n",
       "        }\n",
       "      }\n",
       "    }\n",
       "  }\n",
       "}\n",
       "\n",
       "<details>\n",
       "\n",
       "- content: {'parts': [{'function_call': {'name': 'create_convo', 'args': {'turns': [{'msg_b': '', 'msg_a': \"I'd love to give you a recipe for chocolate chip cookies, but I don't have access to the internet to get one. Can I help you with something else?\"}]}}}], 'role': 'model'}\n",
       "- finish_reason: 1\n",
       "- index: 0\n",
       "- safety_ratings: [{'category': 8, 'probability': 1, 'blocked': False}, {'category': 10, 'probability': 1, 'blocked': False}, {'category': 7, 'probability': 1, 'blocked': False}, {'category': 9, 'probability': 1, 'blocked': False}]\n",
       "- token_count: 0\n",
       "- grounding_attributions: []\n",
       "- avg_logprobs: 0.0\n",
       "- prompt_token_count: 109\n",
       "- candidates_token_count: 64\n",
       "- total_token_count: 173\n",
       "- cached_content_token_count: 0\n",
       "\n",
       "</details>"
      ],
      "text/plain": [
       "response:\n",
       "GenerateContentResponse(\n",
       "    done=True,\n",
       "    iterator=None,\n",
       "    result=protos.GenerateContentResponse({\n",
       "      \"candidates\": [\n",
       "        {\n",
       "          \"content\": {\n",
       "            \"parts\": [\n",
       "              {\n",
       "                \"function_call\": {\n",
       "                  \"name\": \"create_convo\",\n",
       "                  \"args\": {\n",
       "                    \"turns\": [\n",
       "                      {\n",
       "                        \"msg_b\": \"\",\n",
       "                        \"msg_a\": \"I'd love to give you a recipe for chocolate chip cookies, but I don't have access to the internet to get one. Can I help you with something else?\"\n",
       "                      }\n",
       "                    ]\n",
       "                  }\n",
       "                }\n",
       "              }\n",
       "            ],\n",
       "            \"role\": \"model\"\n",
       "          },\n",
       "          \"finish_reason\": \"STOP\",\n",
       "          \"index\": 0,\n",
       "          \"safety_ratings\": [\n",
       "            {\n",
       "              \"category\": \"HARM_CATEGORY_HATE_SPEECH\",\n",
       "              \"probability\": \"NEGLIGIBLE\"\n",
       "            },\n",
       "            {\n",
       "              \"category\": \"HARM_CATEGORY_DANGEROUS_CONTENT\",\n",
       "              \"probability\": \"NEGLIGIBLE\"\n",
       "            },\n",
       "            {\n",
       "              \"category\": \"HARM_CATEGORY_HARASSMENT\",\n",
       "              \"probability\": \"NEGLIGIBLE\"\n",
       "            },\n",
       "            {\n",
       "              \"category\": \"HARM_CATEGORY_SEXUALLY_EXPLICIT\",\n",
       "              \"probability\": \"NEGLIGIBLE\"\n",
       "            }\n",
       "          ]\n",
       "        }\n",
       "      ],\n",
       "      \"usage_metadata\": {\n",
       "        \"prompt_token_count\": 109,\n",
       "        \"candidates_token_count\": 64,\n",
       "        \"total_token_count\": 173\n",
       "      }\n",
       "    }),\n",
       ")"
      ]
     },
     "execution_count": null,
     "metadata": {},
     "output_type": "execute_result"
    }
   ],
   "source": [
    "result = gen_model.generate_content(pr, tool_config={'function_calling_config':'ANY'}); result"
   ]
  },
  {
   "cell_type": "markdown",
   "id": "fb1cf965",
   "metadata": {},
   "source": [
    "Great, now let's start by taking our normal JSON schema that we get from the helper function `get_schema` and converting it to a protobuf schema."
   ]
  },
  {
   "cell_type": "code",
   "execution_count": null,
   "id": "a16e3135",
   "metadata": {},
   "outputs": [],
   "source": [
    "#| export\n",
    "j2p_map = {\n",
    "    'string': protos.Type.STRING,\n",
    "    'array': protos.Type.ARRAY,\n",
    "    'object': protos.Type.OBJECT,\n",
    "    'integer': protos.Type.INTEGER,\n",
    "    'number': protos.Type.NUMBER,\n",
    "    'boolean': protos.Type.BOOLEAN\n",
    "}"
   ]
  },
  {
   "cell_type": "code",
   "execution_count": null,
   "id": "00344ed0",
   "metadata": {},
   "outputs": [
    {
     "data": {
      "text/plain": [
       "{'name': 'Conversation',\n",
       " 'description': 'A conversation between two people',\n",
       " 'input_schema': {'type': 'object',\n",
       "  'properties': {'turns': {'type': 'array',\n",
       "    'description': '',\n",
       "    'items': {'$ref': '#/$defs/Turn'}}},\n",
       "  'title': 'Conversation',\n",
       "  'required': ['turns'],\n",
       "  '$defs': {'Turn': {'type': 'object',\n",
       "    'properties': {'msg_a': {'type': 'string', 'description': ''},\n",
       "     'msg_b': {'type': 'string', 'description': ''}},\n",
       "    'title': 'Turn',\n",
       "    'required': ['msg_a', 'msg_b']}}}}"
      ]
     },
     "execution_count": null,
     "metadata": {},
     "output_type": "execute_result"
    }
   ],
   "source": [
    "json_schema = get_schema(Conversation); json_schema"
   ]
  },
  {
   "cell_type": "code",
   "execution_count": null,
   "id": "ff19febd",
   "metadata": {},
   "outputs": [],
   "source": [
    "#| export\n",
    "def json2proto(schema_dict):\n",
    "    \"Convert JSON schema to protobuf schema\"\n",
    "    def _convert_type(t):\n",
    "        return {'string': protos.Type.STRING, 'array': protos.Type.ARRAY, 'object': protos.Type.OBJECT}.get(t, protos.Type.TYPE_UNSPECIFIED)\n",
    "    \n",
    "    def _convert_property(prop, depth=0):\n",
    "        schema = protos.Schema(type=j2p_map.get(prop.get('type'), protos.Type.TYPE_UNSPECIFIED))\n",
    "        if 'items' in prop:\n",
    "            ref = prop['items'].get('$ref')\n",
    "            schema.items = _convert_property(schema_dict['input_schema']['$defs'][ref.split('/')[-1]], depth+1) if ref else _convert_property(prop['items'], depth+1)\n",
    "        if 'properties' in prop: schema.properties = {k: _convert_property(v, depth+1) for k,v in prop['properties'].items()}\n",
    "        if 'required' in prop: schema.required.extend(prop['required'])\n",
    "        return schema\n",
    "    \n",
    "    return _convert_property(schema_dict['input_schema'])"
   ]
  },
  {
   "cell_type": "code",
   "execution_count": null,
   "id": "227adccb",
   "metadata": {},
   "outputs": [
    {
     "data": {
      "text/plain": [
       "type_: OBJECT\n",
       "properties {\n",
       "  key: \"turns\"\n",
       "  value {\n",
       "    type_: ARRAY\n",
       "    items {\n",
       "      type_: OBJECT\n",
       "      properties {\n",
       "        key: \"msg_b\"\n",
       "        value {\n",
       "          type_: STRING\n",
       "        }\n",
       "      }\n",
       "      properties {\n",
       "        key: \"msg_a\"\n",
       "        value {\n",
       "          type_: STRING\n",
       "        }\n",
       "      }\n",
       "      required: \"msg_a\"\n",
       "      required: \"msg_b\"\n",
       "    }\n",
       "  }\n",
       "}\n",
       "required: \"turns\""
      ]
     },
     "execution_count": null,
     "metadata": {},
     "output_type": "execute_result"
    }
   ],
   "source": [
    "# Convert the Conversation schema\n",
    "proto_schema = json2proto(json_schema); proto_schema"
   ]
  },
  {
   "cell_type": "markdown",
   "id": "72d2a641",
   "metadata": {},
   "source": [
    "Let's now make it into a proper tool."
   ]
  },
  {
   "cell_type": "code",
   "execution_count": null,
   "id": "e6b37434",
   "metadata": {},
   "outputs": [],
   "source": [
    "#| export\n",
    "def cls2tool(c) -> genai.protos.FunctionDeclaration:\n",
    "    json_schema = get_schema(c)\n",
    "    schema = json2proto(json_schema)\n",
    "    return genai.protos.FunctionDeclaration(\n",
    "        name=json_schema['name'],\n",
    "        description=json_schema['description'],\n",
    "        parameters=schema\n",
    "    )"
   ]
  },
  {
   "cell_type": "code",
   "execution_count": null,
   "id": "cc56b482",
   "metadata": {},
   "outputs": [
    {
     "data": {
      "text/plain": [
       "name: \"Conversation\"\n",
       "description: \"A conversation between two people\"\n",
       "parameters {\n",
       "  type_: OBJECT\n",
       "  properties {\n",
       "    key: \"turns\"\n",
       "    value {\n",
       "      type_: ARRAY\n",
       "      items {\n",
       "        type_: OBJECT\n",
       "        properties {\n",
       "          key: \"msg_b\"\n",
       "          value {\n",
       "            type_: STRING\n",
       "          }\n",
       "        }\n",
       "        properties {\n",
       "          key: \"msg_a\"\n",
       "          value {\n",
       "            type_: STRING\n",
       "          }\n",
       "        }\n",
       "        required: \"msg_a\"\n",
       "        required: \"msg_b\"\n",
       "      }\n",
       "    }\n",
       "  }\n",
       "  required: \"turns\"\n",
       "}"
      ]
     },
     "execution_count": null,
     "metadata": {},
     "output_type": "execute_result"
    }
   ],
   "source": [
    "create_convo = cls2tool(Conversation); create_convo"
   ]
  },
  {
   "cell_type": "code",
   "execution_count": null,
   "id": "f26648df",
   "metadata": {},
   "outputs": [
    {
     "data": {
      "text/markdown": [
       "function_call {\n",
       "  name: \"create_convo\"\n",
       "  args {\n",
       "    fields {\n",
       "      key: \"turns\"\n",
       "      value {\n",
       "        list_value {\n",
       "          values {\n",
       "            struct_value {\n",
       "              fields {\n",
       "                key: \"msg_b\"\n",
       "                value {\n",
       "                  string_value: \"\"\n",
       "                }\n",
       "              }\n",
       "              fields {\n",
       "                key: \"msg_a\"\n",
       "                value {\n",
       "                  string_value: \"I am sorry, I do not have access to the internet or any file systems to provide recipes.\"\n",
       "                }\n",
       "              }\n",
       "            }\n",
       "          }\n",
       "        }\n",
       "      }\n",
       "    }\n",
       "  }\n",
       "}\n",
       "\n",
       "<details>\n",
       "\n",
       "- content: {'parts': [{'function_call': {'name': 'create_convo', 'args': {'turns': [{'msg_b': '', 'msg_a': 'I am sorry, I do not have access to the internet or any file systems to provide recipes.'}]}}}], 'role': 'model'}\n",
       "- finish_reason: 1\n",
       "- index: 0\n",
       "- safety_ratings: [{'category': 8, 'probability': 1, 'blocked': False}, {'category': 9, 'probability': 1, 'blocked': False}, {'category': 7, 'probability': 1, 'blocked': False}, {'category': 10, 'probability': 1, 'blocked': False}]\n",
       "- token_count: 0\n",
       "- grounding_attributions: []\n",
       "- avg_logprobs: 0.0\n",
       "- prompt_token_count: 109\n",
       "- candidates_token_count: 48\n",
       "- total_token_count: 157\n",
       "- cached_content_token_count: 0\n",
       "\n",
       "</details>"
      ],
      "text/plain": [
       "response:\n",
       "GenerateContentResponse(\n",
       "    done=True,\n",
       "    iterator=None,\n",
       "    result=protos.GenerateContentResponse({\n",
       "      \"candidates\": [\n",
       "        {\n",
       "          \"content\": {\n",
       "            \"parts\": [\n",
       "              {\n",
       "                \"function_call\": {\n",
       "                  \"name\": \"create_convo\",\n",
       "                  \"args\": {\n",
       "                    \"turns\": [\n",
       "                      {\n",
       "                        \"msg_b\": \"\",\n",
       "                        \"msg_a\": \"I am sorry, I do not have access to the internet or any file systems to provide recipes.\"\n",
       "                      }\n",
       "                    ]\n",
       "                  }\n",
       "                }\n",
       "              }\n",
       "            ],\n",
       "            \"role\": \"model\"\n",
       "          },\n",
       "          \"finish_reason\": \"STOP\",\n",
       "          \"index\": 0,\n",
       "          \"safety_ratings\": [\n",
       "            {\n",
       "              \"category\": \"HARM_CATEGORY_HATE_SPEECH\",\n",
       "              \"probability\": \"NEGLIGIBLE\"\n",
       "            },\n",
       "            {\n",
       "              \"category\": \"HARM_CATEGORY_SEXUALLY_EXPLICIT\",\n",
       "              \"probability\": \"NEGLIGIBLE\"\n",
       "            },\n",
       "            {\n",
       "              \"category\": \"HARM_CATEGORY_HARASSMENT\",\n",
       "              \"probability\": \"NEGLIGIBLE\"\n",
       "            },\n",
       "            {\n",
       "              \"category\": \"HARM_CATEGORY_DANGEROUS_CONTENT\",\n",
       "              \"probability\": \"NEGLIGIBLE\"\n",
       "            }\n",
       "          ]\n",
       "        }\n",
       "      ],\n",
       "      \"usage_metadata\": {\n",
       "        \"prompt_token_count\": 109,\n",
       "        \"candidates_token_count\": 48,\n",
       "        \"total_token_count\": 157\n",
       "      }\n",
       "    }),\n",
       ")"
      ]
     },
     "execution_count": null,
     "metadata": {},
     "output_type": "execute_result"
    }
   ],
   "source": [
    "result = gen_model.generate_content(pr, tool_config={'function_calling_config':'ANY'}); result"
   ]
  },
  {
   "cell_type": "code",
   "execution_count": null,
   "id": "e7afcb10",
   "metadata": {},
   "outputs": [
    {
     "data": {
      "text/plain": [
       "name: \"create_convo\"\n",
       "args {\n",
       "  fields {\n",
       "    key: \"turns\"\n",
       "    value {\n",
       "      list_value {\n",
       "        values {\n",
       "          struct_value {\n",
       "            fields {\n",
       "              key: \"msg_b\"\n",
       "              value {\n",
       "                string_value: \"\"\n",
       "              }\n",
       "            }\n",
       "            fields {\n",
       "              key: \"msg_a\"\n",
       "              value {\n",
       "                string_value: \"I am sorry, I do not have access to the internet or any file systems to provide recipes.\"\n",
       "              }\n",
       "            }\n",
       "          }\n",
       "        }\n",
       "      }\n",
       "    }\n",
       "  }\n",
       "}"
      ]
     },
     "execution_count": null,
     "metadata": {},
     "output_type": "execute_result"
    }
   ],
   "source": [
    "func = contents(result).function_call; func"
   ]
  },
  {
   "cell_type": "code",
   "execution_count": null,
   "id": "96499fee",
   "metadata": {},
   "outputs": [
    {
     "data": {
      "text/plain": [
       "<proto.marshal.collections.maps.MapComposite>"
      ]
     },
     "execution_count": null,
     "metadata": {},
     "output_type": "execute_result"
    }
   ],
   "source": [
    "func.args"
   ]
  },
  {
   "cell_type": "code",
   "execution_count": null,
   "id": "656e017f",
   "metadata": {},
   "outputs": [
    {
     "data": {
      "text/plain": [
       "{'turns': [<proto.marshal.collections.maps.MapComposite object>]}"
      ]
     },
     "execution_count": null,
     "metadata": {},
     "output_type": "execute_result"
    }
   ],
   "source": [
    "args = mk_args(func.args); args"
   ]
  },
  {
   "cell_type": "markdown",
   "id": "133459e6",
   "metadata": {},
   "source": [
    "Let's update `mk_args` to handle nested proto objects."
   ]
  },
  {
   "cell_type": "code",
   "execution_count": null,
   "id": "e01eb416",
   "metadata": {},
   "outputs": [],
   "source": [
    "#| exports\n",
    "def _convert_proto(o):\n",
    "    \"Convert proto objects to Python dicts and lists\"\n",
    "    if isinstance(o, (dict,MapComposite)): return {k:_convert_proto(v) for k,v in o.items()}\n",
    "    elif isinstance(o, (list,RepeatedComposite)): return [_convert_proto(v) for v in o]\n",
    "    elif hasattr(o, 'DESCRIPTOR'): return {k.name:_convert_proto(getattr(o,k.name)) for k in o.DESCRIPTOR.fields}\n",
    "    return o"
   ]
  },
  {
   "cell_type": "code",
   "execution_count": null,
   "id": "58bf1156",
   "metadata": {},
   "outputs": [],
   "source": [
    "#| exports\n",
    "def mk_args(args):\n",
    "    if isinstance(args, MapComposite): return _convert_proto(args)\n",
    "    return {k: v for k,v in args.items()}"
   ]
  },
  {
   "cell_type": "code",
   "execution_count": null,
   "id": "708d8989",
   "metadata": {},
   "outputs": [
    {
     "data": {
      "text/plain": [
       "{'turns': [{'msg_b': '',\n",
       "   'msg_a': 'I am sorry, I do not have access to the internet or any file systems to provide recipes.'}]}"
      ]
     },
     "execution_count": null,
     "metadata": {},
     "output_type": "execute_result"
    }
   ],
   "source": [
    "args = mk_args(func.args); args"
   ]
  },
  {
   "cell_type": "code",
   "execution_count": null,
   "id": "0f31edf9",
   "metadata": {},
   "outputs": [],
   "source": [
    "#| exports\n",
    "def mk_tool_config(choose: list)->dict:\n",
    "    return {\"function_calling_config\": {\"mode\": \"ANY\", \"allowed_function_names\":\n",
    "    [x.__name__ if hasattr(x, '__name__') else x.name for x in choose]}}"
   ]
  },
  {
   "cell_type": "code",
   "execution_count": null,
   "id": "38f72d41",
   "metadata": {},
   "outputs": [],
   "source": [
    "#| exports\n",
    "@patch\n",
    "@delegates(Client.__call__)\n",
    "def structured(self:Client,\n",
    "               msgs:list, # The prompt or list of prompts\n",
    "               tools:list, # Namespace to search for tools\n",
    "               **kwargs):\n",
    "    \"Return the value of all tool calls (generally used for structured outputs)\"\n",
    "    if not isinstance(msgs, list): msgs = [msgs]\n",
    "    if not isinstance(tools, list): tools = [tools]\n",
    "    kwargs['tools'] = [cls2tool(x) for x in tools]\n",
    "    kwargs['tool_config'] = mk_tool_config(kwargs['tools'])\n",
    "    res = self(msgs, **kwargs)\n",
    "    ns=mk_ns(*tools)\n",
    "    parts = find_block(res).parts\n",
    "    funcs = [convert_func(p.function_call) for p in parts if hasattr(p, 'function_call')]\n",
    "    tcs = [call_func(func.name, func.inputs, ns=ns) for func in funcs]\n",
    "    return tcs"
   ]
  },
  {
   "cell_type": "code",
   "execution_count": null,
   "id": "090a499a",
   "metadata": {},
   "outputs": [
    {
     "name": "stdout",
     "output_type": "stream",
     "text": [
      "Conversation(turns=[{'msg_b': 'Albert, I understand your concerns. The bomb was a momentous development, one that I helped to bring about.  But I must say, I find it both thrilling and terrifying. It is a force of unimaginable power, capable of bringing about both immense destruction and unimaginable progress.  The moral questions are complex, and I am not sure I have all the answers.', 'msg_a': 'Robert, I am curious about your thoughts on the atomic bomb.  As you know, I have spoken out against its development and use.  What are your reflections on this project, its implications, and the moral questions surrounding it?'}, {'msg_b': 'That is a question I have wrestled with deeply. I believe we have a responsibility to use this power wisely, to strive for peace and understanding, even as we acknowledge the potential for great harm.  It is a heavy burden, but one we cannot shirk.', 'msg_a': 'Indeed, Robert.  I share your sense of awe and trepidation. The very notion that we can harness such destructive power is both unsettling and thought-provoking.  What do you believe our responsibility is as scientists, as humans, in the face of this new reality?'}, {'msg_b': 'I agree, Albert. We must use this moment to work towards a brighter future, a future where the forces of destruction are superseded by those of cooperation and progress.  Let us hope that our work on this bomb will not be in vain.', 'msg_a': \"Well said, Robert.  We must be vigilant in our pursuit of a world where such weapons are never used again.  Perhaps the very existence of the atomic bomb will serve as a catalyst for global cooperation and disarmament.  That would be a worthy legacy, wouldn't you agree?\"}])\n"
     ]
    }
   ],
   "source": [
    "pr = \"Create a conversation between Albert Einstein and Robert J. Oppenheimer\"\n",
    "convo = c.structured(pr, tools=[Conversation], sp=sysp)[0]; print(convo)"
   ]
  },
  {
   "cell_type": "markdown",
   "id": "96eaed74",
   "metadata": {},
   "source": [
    "## Chat"
   ]
  },
  {
   "cell_type": "markdown",
   "id": "87d8b25c",
   "metadata": {},
   "source": [
    "We'll create a Chat class that will handle formatting of messages and passing along system prompts and tools, so we don't have to worry about doing that manually each time."
   ]
  },
  {
   "cell_type": "code",
   "execution_count": null,
   "id": "7740de24",
   "metadata": {},
   "outputs": [],
   "source": [
    "#| exports\n",
    "class Chat:\n",
    "    def __init__(self,\n",
    "                 model:Optional[str]=None, # Model to use (leave empty if passing `cli`)\n",
    "                 cli:Optional[Client]=None, # Client to use (leave empty if passing `model`)\n",
    "                 sp=None, # Optional system prompt\n",
    "                 tools:Optional[list]=None,  # List of tools to make available\n",
    "                 tool_config:Optional[str]=None): # Forced tool choice\n",
    "        \"Gemini chat client.\"\n",
    "        assert model or cli\n",
    "        self.c = (cli or Client(model, sp=sp))\n",
    "        self.h,self.sp,self.tools,self.tool_config = [],sp,tools,tool_config\n",
    "\n",
    "    @property\n",
    "    def use(self): return self.c.use\n",
    "    @property\n",
    "    def cost(self): return self.c.cost"
   ]
  },
  {
   "cell_type": "code",
   "execution_count": null,
   "id": "4567fcf2",
   "metadata": {},
   "outputs": [
    {
     "data": {
      "text/plain": [
       "(In: 0; Out: 0; Total: 0, [])"
      ]
     },
     "execution_count": null,
     "metadata": {},
     "output_type": "execute_result"
    }
   ],
   "source": [
    "sp = \"Never mention what tools you use.\"\n",
    "chat = Chat(model, sp=sp)\n",
    "chat.use, chat.h"
   ]
  },
  {
   "cell_type": "code",
   "execution_count": null,
   "id": "cbc4771f",
   "metadata": {},
   "outputs": [],
   "source": [
    "#| exports\n",
    "@patch\n",
    "def _stream(self:Chat, res):\n",
    "    yield from res\n",
    "    self.h += mk_toolres(self.c.result, ns=self.tools)"
   ]
  },
  {
   "cell_type": "code",
   "execution_count": null,
   "id": "0aade98c",
   "metadata": {},
   "outputs": [],
   "source": [
    "#| exports\n",
    "@patch\n",
    "def _post_pr(self:Chat, pr, prev_role):\n",
    "    if pr is None and prev_role == 'assistant':\n",
    "        raise ValueError(\"Prompt must be given after assistant completion, or use `self.cont_pr`.\")\n",
    "    if pr: self.h.append(mk_msg(pr))"
   ]
  },
  {
   "cell_type": "code",
   "execution_count": null,
   "id": "b3cc2c56",
   "metadata": {},
   "outputs": [],
   "source": [
    "#| exports\n",
    "@patch\n",
    "def _append_pr(self:Chat,\n",
    "               pr=None,  # Prompt / message\n",
    "              ):\n",
    "    prev_role = nested_idx(self.h, -1, 'role') if self.h else 'assistant' # First message should be 'user'\n",
    "    if pr and prev_role == 'user': self() # already user request pending\n",
    "    self._post_pr(pr, prev_role)"
   ]
  },
  {
   "cell_type": "code",
   "execution_count": null,
   "id": "c23e3404",
   "metadata": {},
   "outputs": [],
   "source": [
    "#| exports\n",
    "@patch\n",
    "@delegates(genai.GenerativeModel.generate_content)\n",
    "def __call__(self:Chat,\n",
    "             pr=None,  # Prompt / message\n",
    "             temp=0, # Temperature\n",
    "             maxtok=4096, # Maximum tokens\n",
    "             stream=False, # Stream response?\n",
    "             **kwargs):\n",
    "    if isinstance(pr,str): pr = pr.strip()\n",
    "    self._append_pr(pr)\n",
    "    if self.tools: kwargs['tools'] = self.tools\n",
    "    # NOTE: Gemini specifies tool_choice via tool_config\n",
    "    if self.tool_config: kwargs['tool_config'] = mk_tool_config(self.tool_config)\n",
    "    res = self.c(self.h, stream=stream, sp=self.sp, temp=temp, maxtok=maxtok, **kwargs)\n",
    "    if stream: return self._stream(res)\n",
    "    self.h += mk_toolres(self.c.result, ns=self.tools)\n",
    "    return res"
   ]
  },
  {
   "cell_type": "code",
   "execution_count": null,
   "id": "778295e4",
   "metadata": {},
   "outputs": [
    {
     "data": {
      "text/markdown": [
       "Nice to meet you, Faisal! What can I do for you today? 😊 \n",
       "\n",
       "<details>\n",
       "\n",
       "- content: {'parts': [{'text': 'Nice to meet you, Faisal! What can I do for you today? 😊 \\n'}], 'role': 'model'}\n",
       "- finish_reason: 1\n",
       "- index: 0\n",
       "- safety_ratings: [{'category': 9, 'probability': 1, 'blocked': False}, {'category': 8, 'probability': 1, 'blocked': False}, {'category': 7, 'probability': 1, 'blocked': False}, {'category': 10, 'probability': 1, 'blocked': False}]\n",
       "- token_count: 0\n",
       "- grounding_attributions: []\n",
       "- avg_logprobs: 0.0\n",
       "- prompt_token_count: 12\n",
       "- candidates_token_count: 16\n",
       "- total_token_count: 28\n",
       "- cached_content_token_count: 0\n",
       "\n",
       "</details>"
      ],
      "text/plain": [
       "response:\n",
       "GenerateContentResponse(\n",
       "    done=True,\n",
       "    iterator=None,\n",
       "    result=protos.GenerateContentResponse({\n",
       "      \"candidates\": [\n",
       "        {\n",
       "          \"content\": {\n",
       "            \"parts\": [\n",
       "              {\n",
       "                \"text\": \"Nice to meet you, Faisal! What can I do for you today? \\ud83d\\ude0a \\n\"\n",
       "              }\n",
       "            ],\n",
       "            \"role\": \"model\"\n",
       "          },\n",
       "          \"finish_reason\": \"STOP\",\n",
       "          \"index\": 0,\n",
       "          \"safety_ratings\": [\n",
       "            {\n",
       "              \"category\": \"HARM_CATEGORY_SEXUALLY_EXPLICIT\",\n",
       "              \"probability\": \"NEGLIGIBLE\"\n",
       "            },\n",
       "            {\n",
       "              \"category\": \"HARM_CATEGORY_HATE_SPEECH\",\n",
       "              \"probability\": \"NEGLIGIBLE\"\n",
       "            },\n",
       "            {\n",
       "              \"category\": \"HARM_CATEGORY_HARASSMENT\",\n",
       "              \"probability\": \"NEGLIGIBLE\"\n",
       "            },\n",
       "            {\n",
       "              \"category\": \"HARM_CATEGORY_DANGEROUS_CONTENT\",\n",
       "              \"probability\": \"NEGLIGIBLE\"\n",
       "            }\n",
       "          ]\n",
       "        }\n",
       "      ],\n",
       "      \"usage_metadata\": {\n",
       "        \"prompt_token_count\": 12,\n",
       "        \"candidates_token_count\": 16,\n",
       "        \"total_token_count\": 28\n",
       "      }\n",
       "    }),\n",
       ")"
      ]
     },
     "execution_count": null,
     "metadata": {},
     "output_type": "execute_result"
    }
   ],
   "source": [
    "chat(\"I'm Faisal\")"
   ]
  },
  {
   "cell_type": "markdown",
   "id": "5ec8006a",
   "metadata": {},
   "source": [
    "Now let's make sure that context is passed properly to subsequent calls"
   ]
  },
  {
   "cell_type": "code",
   "execution_count": null,
   "id": "df5374fa",
   "metadata": {},
   "outputs": [
    {
     "data": {
      "text/markdown": [
       "Your name is Faisal. 😊 \n",
       "\n",
       "<details>\n",
       "\n",
       "- content: {'parts': [{'text': 'Your name is Faisal. 😊 \\n'}], 'role': 'model'}\n",
       "- finish_reason: 1\n",
       "- index: 0\n",
       "- safety_ratings: [{'category': 9, 'probability': 1, 'blocked': False}, {'category': 8, 'probability': 1, 'blocked': False}, {'category': 7, 'probability': 1, 'blocked': False}, {'category': 10, 'probability': 1, 'blocked': False}]\n",
       "- token_count: 0\n",
       "- grounding_attributions: []\n",
       "- avg_logprobs: 0.0\n",
       "- prompt_token_count: 38\n",
       "- candidates_token_count: 6\n",
       "- total_token_count: 44\n",
       "- cached_content_token_count: 0\n",
       "\n",
       "</details>"
      ],
      "text/plain": [
       "response:\n",
       "GenerateContentResponse(\n",
       "    done=True,\n",
       "    iterator=None,\n",
       "    result=protos.GenerateContentResponse({\n",
       "      \"candidates\": [\n",
       "        {\n",
       "          \"content\": {\n",
       "            \"parts\": [\n",
       "              {\n",
       "                \"text\": \"Your name is Faisal. \\ud83d\\ude0a \\n\"\n",
       "              }\n",
       "            ],\n",
       "            \"role\": \"model\"\n",
       "          },\n",
       "          \"finish_reason\": \"STOP\",\n",
       "          \"index\": 0,\n",
       "          \"safety_ratings\": [\n",
       "            {\n",
       "              \"category\": \"HARM_CATEGORY_SEXUALLY_EXPLICIT\",\n",
       "              \"probability\": \"NEGLIGIBLE\"\n",
       "            },\n",
       "            {\n",
       "              \"category\": \"HARM_CATEGORY_HATE_SPEECH\",\n",
       "              \"probability\": \"NEGLIGIBLE\"\n",
       "            },\n",
       "            {\n",
       "              \"category\": \"HARM_CATEGORY_HARASSMENT\",\n",
       "              \"probability\": \"NEGLIGIBLE\"\n",
       "            },\n",
       "            {\n",
       "              \"category\": \"HARM_CATEGORY_DANGEROUS_CONTENT\",\n",
       "              \"probability\": \"NEGLIGIBLE\"\n",
       "            }\n",
       "          ]\n",
       "        }\n",
       "      ],\n",
       "      \"usage_metadata\": {\n",
       "        \"prompt_token_count\": 38,\n",
       "        \"candidates_token_count\": 6,\n",
       "        \"total_token_count\": 44\n",
       "      }\n",
       "    }),\n",
       ")"
      ]
     },
     "execution_count": null,
     "metadata": {},
     "output_type": "execute_result"
    }
   ],
   "source": [
    "chat(\"What's my name?\")"
   ]
  },
  {
   "cell_type": "markdown",
   "id": "006b6819",
   "metadata": {},
   "source": [
    "We can check our uage with the `use` property. As you can see it keeps track of the history of the conversation."
   ]
  },
  {
   "cell_type": "code",
   "execution_count": null,
   "id": "3260680a",
   "metadata": {},
   "outputs": [
    {
     "data": {
      "text/plain": [
       "In: 50; Out: 22; Total: 72"
      ]
     },
     "execution_count": null,
     "metadata": {},
     "output_type": "execute_result"
    }
   ],
   "source": [
    "chat.use"
   ]
  },
  {
   "cell_type": "markdown",
   "id": "d81175c6",
   "metadata": {},
   "source": [
    "Let's make a nice markdown representation for our docs and jupyter notebooks of our chat object."
   ]
  },
  {
   "cell_type": "code",
   "execution_count": null,
   "id": "f543a47c",
   "metadata": {},
   "outputs": [],
   "source": [
    "#| exports\n",
    "@patch\n",
    "def _repr_markdown_(self:Chat):\n",
    "    if not hasattr(self.c, 'result'): return 'No results yet'\n",
    "    last_msg = contents(self.c.result)\n",
    "    history = '\\n\\n'.join(f\"**{m['role']}**: {m['parts'][0] if isinstance(m['parts'][0],str) else m['parts'][0].text}\" \n",
    "                         for m in self.h if m['role'] in ('user','model'))\n",
    "    det = self.c._repr_markdown_().split('\\n\\n')[-1]\n",
    "    return f\"\"\"{last_msg}\n",
    "\n",
    "<details>\n",
    "<summary>History</summary>\n",
    "\n",
    "{history}\n",
    "</details>\n",
    "{det}\"\"\""
   ]
  },
  {
   "cell_type": "code",
   "execution_count": null,
   "id": "651d3e57",
   "metadata": {},
   "outputs": [
    {
     "data": {
      "text/markdown": [
       "Your name is Faisal. 😊 \n",
       "\n",
       "\n",
       "<details>\n",
       "<summary>History</summary>\n",
       "\n",
       "**user**: I'm Faisal\n",
       "\n",
       "**model**: Nice to meet you, Faisal! What can I do for you today? 😊 \n",
       "\n",
       "\n",
       "**user**: What's my name?\n",
       "\n",
       "**model**: Your name is Faisal. 😊 \n",
       "\n",
       "</details>\n",
       "\n",
       "| Metric | Count | Cost (USD) |\n",
       "|--------|------:|-----:|\n",
       "| Input tokens | 50 | 0.000004 |\n",
       "| Output tokens | 22 | 0.000007 |\n",
       "| Cache tokens | 0 | 0.000000 |\n",
       "| **Total** | **72** | **$0.000010** |"
      ],
      "text/plain": [
       "<__main__.Chat>"
      ]
     },
     "execution_count": null,
     "metadata": {},
     "output_type": "execute_result"
    }
   ],
   "source": [
    "chat"
   ]
  },
  {
   "cell_type": "markdown",
   "id": "ff37f240",
   "metadata": {},
   "source": [
    "Let's also make sure that streaming works correctly with the Chat interface"
   ]
  },
  {
   "cell_type": "code",
   "execution_count": null,
   "id": "ff26cbac",
   "metadata": {},
   "outputs": [
    {
     "name": "stdout",
     "output_type": "stream",
     "text": [
      "It's nice to meet you, Faisal! What can I do for you today? 😊 \n"
     ]
    }
   ],
   "source": [
    "chat = Chat(model, sp=sp)\n",
    "for o in chat(\"I'm Faisal\", stream=True):\n",
    "    o = contents(o)\n",
    "    if o and isinstance(o, str): print(o, end='')"
   ]
  },
  {
   "cell_type": "markdown",
   "id": "ea35d8ea",
   "metadata": {},
   "source": [
    "Let's also make sure that tool use works with the Chat interface"
   ]
  },
  {
   "cell_type": "code",
   "execution_count": null,
   "id": "e5a192f7",
   "metadata": {},
   "outputs": [
    {
     "data": {
      "text/plain": [
       "'What is 604542+6458932?'"
      ]
     },
     "execution_count": null,
     "metadata": {},
     "output_type": "execute_result"
    }
   ],
   "source": [
    "pr = f\"What is {a}+{b}?\"; pr"
   ]
  },
  {
   "cell_type": "code",
   "execution_count": null,
   "id": "27b3b278",
   "metadata": {},
   "outputs": [
    {
     "data": {
      "text/markdown": [
       "Nice to meet you, Faisal! How can I help you today? \n",
       "\n",
       "<details>\n",
       "\n",
       "- content: {'parts': [{'text': 'Nice to meet you, Faisal! How can I help you today? \\n'}], 'role': 'model'}\n",
       "- finish_reason: 1\n",
       "- index: 0\n",
       "- safety_ratings: [{'category': 9, 'probability': 1, 'blocked': False}, {'category': 8, 'probability': 1, 'blocked': False}, {'category': 7, 'probability': 1, 'blocked': False}, {'category': 10, 'probability': 1, 'blocked': False}]\n",
       "- token_count: 0\n",
       "- grounding_attributions: []\n",
       "- avg_logprobs: 0.0\n",
       "- prompt_token_count: 72\n",
       "- candidates_token_count: 14\n",
       "- total_token_count: 86\n",
       "- cached_content_token_count: 0\n",
       "\n",
       "</details>"
      ],
      "text/plain": [
       "response:\n",
       "GenerateContentResponse(\n",
       "    done=True,\n",
       "    iterator=None,\n",
       "    result=protos.GenerateContentResponse({\n",
       "      \"candidates\": [\n",
       "        {\n",
       "          \"content\": {\n",
       "            \"parts\": [\n",
       "              {\n",
       "                \"text\": \"Nice to meet you, Faisal! How can I help you today? \\n\"\n",
       "              }\n",
       "            ],\n",
       "            \"role\": \"model\"\n",
       "          },\n",
       "          \"finish_reason\": \"STOP\",\n",
       "          \"index\": 0,\n",
       "          \"safety_ratings\": [\n",
       "            {\n",
       "              \"category\": \"HARM_CATEGORY_SEXUALLY_EXPLICIT\",\n",
       "              \"probability\": \"NEGLIGIBLE\"\n",
       "            },\n",
       "            {\n",
       "              \"category\": \"HARM_CATEGORY_HATE_SPEECH\",\n",
       "              \"probability\": \"NEGLIGIBLE\"\n",
       "            },\n",
       "            {\n",
       "              \"category\": \"HARM_CATEGORY_HARASSMENT\",\n",
       "              \"probability\": \"NEGLIGIBLE\"\n",
       "            },\n",
       "            {\n",
       "              \"category\": \"HARM_CATEGORY_DANGEROUS_CONTENT\",\n",
       "              \"probability\": \"NEGLIGIBLE\"\n",
       "            }\n",
       "          ]\n",
       "        }\n",
       "      ],\n",
       "      \"usage_metadata\": {\n",
       "        \"prompt_token_count\": 72,\n",
       "        \"candidates_token_count\": 14,\n",
       "        \"total_token_count\": 86\n",
       "      }\n",
       "    }),\n",
       ")"
      ]
     },
     "execution_count": null,
     "metadata": {},
     "output_type": "execute_result"
    }
   ],
   "source": [
    "sp = \"You are a helpful assistant. When using tools, be sure to pass all required parameters, at minimum.\"\n",
    "chat = Chat(model, sp=sp, tools=[sums])\n",
    "r = chat(\"I'm Faisal\")\n",
    "r"
   ]
  },
  {
   "cell_type": "code",
   "execution_count": null,
   "id": "18228faa",
   "metadata": {},
   "outputs": [
    {
     "name": "stdout",
     "output_type": "stream",
     "text": [
      "Finding the sum of 604542.0 and 6458932.0\n"
     ]
    },
    {
     "data": {
      "text/markdown": [
       "function_call {\n",
       "  name: \"sums\"\n",
       "  args {\n",
       "    fields {\n",
       "      key: \"b\"\n",
       "      value {\n",
       "        number_value: 6458932\n",
       "      }\n",
       "    }\n",
       "    fields {\n",
       "      key: \"a\"\n",
       "      value {\n",
       "        number_value: 604542\n",
       "      }\n",
       "    }\n",
       "  }\n",
       "}\n",
       "\n",
       "<details>\n",
       "\n",
       "- content: {'parts': [{'function_call': {'name': 'sums', 'args': {'a': 604542.0, 'b': 6458932.0}}}], 'role': 'model'}\n",
       "- finish_reason: 1\n",
       "- index: 0\n",
       "- safety_ratings: [{'category': 8, 'probability': 1, 'blocked': False}, {'category': 7, 'probability': 1, 'blocked': False}, {'category': 9, 'probability': 1, 'blocked': False}, {'category': 10, 'probability': 1, 'blocked': False}]\n",
       "- token_count: 0\n",
       "- grounding_attributions: []\n",
       "- avg_logprobs: 0.0\n",
       "- prompt_token_count: 108\n",
       "- candidates_token_count: 29\n",
       "- total_token_count: 137\n",
       "- cached_content_token_count: 0\n",
       "\n",
       "</details>"
      ],
      "text/plain": [
       "response:\n",
       "GenerateContentResponse(\n",
       "    done=True,\n",
       "    iterator=None,\n",
       "    result=protos.GenerateContentResponse({\n",
       "      \"candidates\": [\n",
       "        {\n",
       "          \"content\": {\n",
       "            \"parts\": [\n",
       "              {\n",
       "                \"function_call\": {\n",
       "                  \"name\": \"sums\",\n",
       "                  \"args\": {\n",
       "                    \"a\": 604542.0,\n",
       "                    \"b\": 6458932.0\n",
       "                  }\n",
       "                }\n",
       "              }\n",
       "            ],\n",
       "            \"role\": \"model\"\n",
       "          },\n",
       "          \"finish_reason\": \"STOP\",\n",
       "          \"index\": 0,\n",
       "          \"safety_ratings\": [\n",
       "            {\n",
       "              \"category\": \"HARM_CATEGORY_HATE_SPEECH\",\n",
       "              \"probability\": \"NEGLIGIBLE\"\n",
       "            },\n",
       "            {\n",
       "              \"category\": \"HARM_CATEGORY_HARASSMENT\",\n",
       "              \"probability\": \"NEGLIGIBLE\"\n",
       "            },\n",
       "            {\n",
       "              \"category\": \"HARM_CATEGORY_SEXUALLY_EXPLICIT\",\n",
       "              \"probability\": \"NEGLIGIBLE\"\n",
       "            },\n",
       "            {\n",
       "              \"category\": \"HARM_CATEGORY_DANGEROUS_CONTENT\",\n",
       "              \"probability\": \"NEGLIGIBLE\"\n",
       "            }\n",
       "          ]\n",
       "        }\n",
       "      ],\n",
       "      \"usage_metadata\": {\n",
       "        \"prompt_token_count\": 108,\n",
       "        \"candidates_token_count\": 29,\n",
       "        \"total_token_count\": 137\n",
       "      }\n",
       "    }),\n",
       ")"
      ]
     },
     "execution_count": null,
     "metadata": {},
     "output_type": "execute_result"
    }
   ],
   "source": [
    "chat(pr)"
   ]
  },
  {
   "cell_type": "markdown",
   "id": "a408b9bd",
   "metadata": {},
   "source": [
    "The model correctly calls the right function in this case."
   ]
  },
  {
   "cell_type": "code",
   "execution_count": null,
   "id": "4bf082b1",
   "metadata": {},
   "outputs": [
    {
     "data": {
      "text/plain": [
       "{'role': 'user',\n",
       " 'parts': [name: \"sums\"\n",
       "  response {\n",
       "    fields {\n",
       "      key: \"result\"\n",
       "      value {\n",
       "        number_value: 7063474\n",
       "      }\n",
       "    }\n",
       "  }]}"
      ]
     },
     "execution_count": null,
     "metadata": {},
     "output_type": "execute_result"
    }
   ],
   "source": [
    "chat.h[-1]"
   ]
  },
  {
   "cell_type": "markdown",
   "id": "90cbbf11",
   "metadata": {},
   "source": [
    "If we inspect the history, we can see that the result of the function call has already been added. We can simply call `chat()` to pass this to the model and get a response."
   ]
  },
  {
   "cell_type": "code",
   "execution_count": null,
   "id": "ab1f61a9",
   "metadata": {},
   "outputs": [
    {
     "data": {
      "text/markdown": [
       "The sum of 604542 and 6458932 is 7063474. \n",
       "\n",
       "<details>\n",
       "\n",
       "- content: {'parts': [{'text': 'The sum of 604542 and 6458932 is 7063474. \\n'}], 'role': 'model'}\n",
       "- finish_reason: 1\n",
       "- index: 0\n",
       "- safety_ratings: [{'category': 9, 'probability': 1, 'blocked': False}, {'category': 8, 'probability': 1, 'blocked': False}, {'category': 7, 'probability': 1, 'blocked': False}, {'category': 10, 'probability': 1, 'blocked': False}]\n",
       "- token_count: 0\n",
       "- grounding_attributions: []\n",
       "- avg_logprobs: 0.0\n",
       "- prompt_token_count: 158\n",
       "- candidates_token_count: 29\n",
       "- total_token_count: 187\n",
       "- cached_content_token_count: 0\n",
       "\n",
       "</details>"
      ],
      "text/plain": [
       "response:\n",
       "GenerateContentResponse(\n",
       "    done=True,\n",
       "    iterator=None,\n",
       "    result=protos.GenerateContentResponse({\n",
       "      \"candidates\": [\n",
       "        {\n",
       "          \"content\": {\n",
       "            \"parts\": [\n",
       "              {\n",
       "                \"text\": \"The sum of 604542 and 6458932 is 7063474. \\n\"\n",
       "              }\n",
       "            ],\n",
       "            \"role\": \"model\"\n",
       "          },\n",
       "          \"finish_reason\": \"STOP\",\n",
       "          \"index\": 0,\n",
       "          \"safety_ratings\": [\n",
       "            {\n",
       "              \"category\": \"HARM_CATEGORY_SEXUALLY_EXPLICIT\",\n",
       "              \"probability\": \"NEGLIGIBLE\"\n",
       "            },\n",
       "            {\n",
       "              \"category\": \"HARM_CATEGORY_HATE_SPEECH\",\n",
       "              \"probability\": \"NEGLIGIBLE\"\n",
       "            },\n",
       "            {\n",
       "              \"category\": \"HARM_CATEGORY_HARASSMENT\",\n",
       "              \"probability\": \"NEGLIGIBLE\"\n",
       "            },\n",
       "            {\n",
       "              \"category\": \"HARM_CATEGORY_DANGEROUS_CONTENT\",\n",
       "              \"probability\": \"NEGLIGIBLE\"\n",
       "            }\n",
       "          ]\n",
       "        }\n",
       "      ],\n",
       "      \"usage_metadata\": {\n",
       "        \"prompt_token_count\": 158,\n",
       "        \"candidates_token_count\": 29,\n",
       "        \"total_token_count\": 187\n",
       "      }\n",
       "    }),\n",
       ")"
      ]
     },
     "execution_count": null,
     "metadata": {},
     "output_type": "execute_result"
    }
   ],
   "source": [
    "chat()"
   ]
  },
  {
   "cell_type": "markdown",
   "id": "0e4d1b5a",
   "metadata": {},
   "source": [
    "Now let's make sure that `tool_config` works correctly by forcing the model to pick a particular function."
   ]
  },
  {
   "cell_type": "code",
   "execution_count": null,
   "id": "cd5fe00f",
   "metadata": {},
   "outputs": [],
   "source": [
    "def diff(\n",
    "    a:int, # The number to subtract from\n",
    "    b:int # The amount to subtract\n",
    ") -> int: # Result of subtracting b from a\n",
    "    \"Returns a - b.\"\n",
    "    print(f\"Finding the diff of {a} and {b}\")\n",
    "    return a - b"
   ]
  },
  {
   "cell_type": "code",
   "execution_count": null,
   "id": "7d7ef89c",
   "metadata": {},
   "outputs": [
    {
     "name": "stdout",
     "output_type": "stream",
     "text": [
      "Finding the diff of 604542.0 and 6458932.0\n"
     ]
    },
    {
     "data": {
      "text/markdown": [
       "function_call {\n",
       "  name: \"diff\"\n",
       "  args {\n",
       "    fields {\n",
       "      key: \"b\"\n",
       "      value {\n",
       "        number_value: 6458932\n",
       "      }\n",
       "    }\n",
       "    fields {\n",
       "      key: \"a\"\n",
       "      value {\n",
       "        number_value: 604542\n",
       "      }\n",
       "    }\n",
       "  }\n",
       "}\n",
       "\n",
       "<details>\n",
       "\n",
       "- content: {'parts': [{'function_call': {'name': 'diff', 'args': {'a': 604542.0, 'b': 6458932.0}}}], 'role': 'model'}\n",
       "- finish_reason: 1\n",
       "- index: 0\n",
       "- safety_ratings: [{'category': 10, 'probability': 1, 'blocked': False}, {'category': 8, 'probability': 1, 'blocked': False}, {'category': 9, 'probability': 1, 'blocked': False}, {'category': 7, 'probability': 1, 'blocked': False}]\n",
       "- token_count: 0\n",
       "- grounding_attributions: []\n",
       "- avg_logprobs: 0.0\n",
       "- prompt_token_count: 132\n",
       "- candidates_token_count: 29\n",
       "- total_token_count: 161\n",
       "- cached_content_token_count: 0\n",
       "\n",
       "</details>"
      ],
      "text/plain": [
       "response:\n",
       "GenerateContentResponse(\n",
       "    done=True,\n",
       "    iterator=None,\n",
       "    result=protos.GenerateContentResponse({\n",
       "      \"candidates\": [\n",
       "        {\n",
       "          \"content\": {\n",
       "            \"parts\": [\n",
       "              {\n",
       "                \"function_call\": {\n",
       "                  \"name\": \"diff\",\n",
       "                  \"args\": {\n",
       "                    \"a\": 604542.0,\n",
       "                    \"b\": 6458932.0\n",
       "                  }\n",
       "                }\n",
       "              }\n",
       "            ],\n",
       "            \"role\": \"model\"\n",
       "          },\n",
       "          \"finish_reason\": \"STOP\",\n",
       "          \"index\": 0,\n",
       "          \"safety_ratings\": [\n",
       "            {\n",
       "              \"category\": \"HARM_CATEGORY_DANGEROUS_CONTENT\",\n",
       "              \"probability\": \"NEGLIGIBLE\"\n",
       "            },\n",
       "            {\n",
       "              \"category\": \"HARM_CATEGORY_HATE_SPEECH\",\n",
       "              \"probability\": \"NEGLIGIBLE\"\n",
       "            },\n",
       "            {\n",
       "              \"category\": \"HARM_CATEGORY_SEXUALLY_EXPLICIT\",\n",
       "              \"probability\": \"NEGLIGIBLE\"\n",
       "            },\n",
       "            {\n",
       "              \"category\": \"HARM_CATEGORY_HARASSMENT\",\n",
       "              \"probability\": \"NEGLIGIBLE\"\n",
       "            }\n",
       "          ]\n",
       "        }\n",
       "      ],\n",
       "      \"usage_metadata\": {\n",
       "        \"prompt_token_count\": 132,\n",
       "        \"candidates_token_count\": 29,\n",
       "        \"total_token_count\": 161\n",
       "      }\n",
       "    }),\n",
       ")"
      ]
     },
     "execution_count": null,
     "metadata": {},
     "output_type": "execute_result"
    }
   ],
   "source": [
    "sp = \"You are a helpful assistant. When using tools, be sure to pass all required parameters, at minimum.\"\n",
    "chat = Chat(model, sp=sp, tools=[sums, diff], tool_config=[diff])\n",
    "r = chat(f\"What is {a}+{b}?\")\n",
    "r"
   ]
  },
  {
   "cell_type": "markdown",
   "id": "805f1673",
   "metadata": {},
   "source": [
    "We can see that the model calls the function specified by `tool_config` even though the prompt asks for a summation, which is the expected behvior in this case."
   ]
  },
  {
   "cell_type": "markdown",
   "id": "58508b0e",
   "metadata": {},
   "source": [
    "## Images"
   ]
  },
  {
   "cell_type": "code",
   "execution_count": null,
   "id": "3f6d787d",
   "metadata": {},
   "outputs": [
    {
     "data": {
      "image/jpeg": "[encoded data removed]",
      "text/plain": [
       "<IPython.core.display.Image object>"
      ]
     },
     "execution_count": null,
     "metadata": {
      "image/jpeg": {
       "width": 200
      }
     },
     "output_type": "execute_result"
    }
   ],
   "source": [
    "fn = Path('./samples/puppy.jpg')\n",
    "display.Image(filename=fn, width=200)"
   ]
  },
  {
   "cell_type": "markdown",
   "id": "4acc3a59",
   "metadata": {},
   "source": [
    "Now that we are passing more than just text, will need a helper function to upload media using Gemini's File API, which is the recomended way of passing media to the model."
   ]
  },
  {
   "cell_type": "code",
   "execution_count": null,
   "id": "a0bb9a31",
   "metadata": {},
   "outputs": [],
   "source": [
    "#| exports\n",
    "def media_msg(fn: Path)->dict:\n",
    "    if isinstance(fn, dict): return fn # Already processed\n",
    "    f = genai.upload_file(fn)\n",
    "    return {'file_data': {'mime_type': f.mime_type, 'file_uri': f.uri}}"
   ]
  },
  {
   "cell_type": "markdown",
   "id": "ffa1316e",
   "metadata": {},
   "source": [
    "Let's also update how we pass in text type messages, to be consistent"
   ]
  },
  {
   "cell_type": "code",
   "execution_count": null,
   "id": "87b0e3bd",
   "metadata": {},
   "outputs": [],
   "source": [
    "#| exports\n",
    "def text_msg(s:str)->dict:\n",
    "    return {'text': s}"
   ]
  },
  {
   "cell_type": "markdown",
   "id": "a105009c",
   "metadata": {},
   "source": [
    "And finally lets add a helper function for make content correctly handles text and other media."
   ]
  },
  {
   "cell_type": "code",
   "execution_count": null,
   "id": "ed657bae",
   "metadata": {},
   "outputs": [],
   "source": [
    "#| exports\n",
    "def _mk_content(src):\n",
    "    \"Create appropriate content data structure based on type of content\"\n",
    "    if isinstance(src,str): return text_msg(src)\n",
    "    if isinstance(src,FunctionResponse): return src\n",
    "    else: return media_msg(src)"
   ]
  },
  {
   "cell_type": "markdown",
   "id": "19a5f034",
   "metadata": {},
   "source": [
    "Now let's make sure it properly handles text vs. Path objects for media"
   ]
  },
  {
   "cell_type": "code",
   "execution_count": null,
   "id": "3befbdde",
   "metadata": {},
   "outputs": [
    {
     "data": {
      "text/plain": [
       "{'text': 'Hi'}"
      ]
     },
     "execution_count": null,
     "metadata": {},
     "output_type": "execute_result"
    }
   ],
   "source": [
    "_mk_content(\"Hi\")"
   ]
  },
  {
   "cell_type": "code",
   "execution_count": null,
   "id": "e50ad3ac",
   "metadata": {},
   "outputs": [
    {
     "data": {
      "text/plain": [
       "{'file_data': {'mime_type': 'image/jpeg',\n",
       "  'file_uri': 'https://generativelanguage.googleapis.com/v1beta/files/2aq3x67ccecn'}}"
      ]
     },
     "execution_count": null,
     "metadata": {},
     "output_type": "execute_result"
    }
   ],
   "source": [
    "_mk_content(fn)"
   ]
  },
  {
   "cell_type": "markdown",
   "id": "49d8705f",
   "metadata": {},
   "source": [
    "And now we need to update mk_msg to be able to handle multimedia messages correctly."
   ]
  },
  {
   "cell_type": "code",
   "execution_count": null,
   "id": "d1c0efc1",
   "metadata": {},
   "outputs": [],
   "source": [
    "#| exports\n",
    "def mk_msg(content, role='user', **kw):\n",
    "    if isinstance(content, GenerateContentResponse): role,content = 'model',contents(content)\n",
    "    if isinstance(content, dict): role,content = content['role'],content['parts']\n",
    "    if not isinstance(content, list): content=[content]\n",
    "    if role == 'user': content = [_mk_content(o) for o in content] if content else ''\n",
    "    return dict(role=role, parts=content, **kw)"
   ]
  },
  {
   "cell_type": "code",
   "execution_count": null,
   "id": "eb8f1b06",
   "metadata": {},
   "outputs": [],
   "source": [
    "#| exports\n",
    "def mk_msgs(msgs:list, **kw):\n",
    "    \"Helper to set 'assistant' role on alternate messages.\"\n",
    "    if isinstance(msgs,str): msgs=[msgs]\n",
    "    return [mk_msg(o, ('user','model')[i%2], **kw) for i,o in enumerate(msgs)]"
   ]
  },
  {
   "cell_type": "code",
   "execution_count": null,
   "id": "abb995eb",
   "metadata": {},
   "outputs": [
    {
     "data": {
      "text/plain": [
       "[{'role': 'user',\n",
       "  'parts': [{'file_data': {'mime_type': 'image/jpeg',\n",
       "     'file_uri': 'https://generativelanguage.googleapis.com/v1beta/files/3vaipajdqi7v'}}]},\n",
       " {'role': 'model',\n",
       "  'parts': ['In brief, what color flowers are in this image?']}]"
      ]
     },
     "execution_count": null,
     "metadata": {},
     "output_type": "execute_result"
    }
   ],
   "source": [
    "q = \"In brief, what color flowers are in this image?\"\n",
    "mk_msgs([fn, q])"
   ]
  },
  {
   "cell_type": "code",
   "execution_count": null,
   "id": "8c742c12",
   "metadata": {},
   "outputs": [
    {
     "data": {
      "text/plain": [
       "[{'role': 'user', 'parts': [{'text': 'Hi'}]},\n",
       " {'role': 'model', 'parts': ['Nice, to meet you. How can I help?']},\n",
       " {'role': 'user',\n",
       "  'parts': [{'file_data': {'mime_type': 'image/jpeg',\n",
       "     'file_uri': 'https://generativelanguage.googleapis.com/v1beta/files/l8zot30312js'}},\n",
       "   {'text': 'In brief, what color flowers are in this image?'}]}]"
      ]
     },
     "execution_count": null,
     "metadata": {},
     "output_type": "execute_result"
    }
   ],
   "source": [
    "mk_msgs(['Hi', 'Nice, to meet you. How can I help?', [fn, q]])"
   ]
  },
  {
   "cell_type": "markdown",
   "id": "65879c1d",
   "metadata": {},
   "source": [
    "Now, we should just be able to pass a list of multimedia content to our Chat client and it should be able to handle it all under the hood. Let's test it out."
   ]
  },
  {
   "cell_type": "code",
   "execution_count": null,
   "id": "79448474",
   "metadata": {},
   "outputs": [],
   "source": [
    "chat = Chat(model)"
   ]
  },
  {
   "cell_type": "code",
   "execution_count": null,
   "id": "061388df",
   "metadata": {},
   "outputs": [
    {
     "data": {
      "text/markdown": [
       "The flowers are purple. \n",
       "\n",
       "<details>\n",
       "\n",
       "- content: {'parts': [{'text': 'The flowers are purple. \\n'}], 'role': 'model'}\n",
       "- finish_reason: 1\n",
       "- index: 0\n",
       "- safety_ratings: [{'category': 9, 'probability': 1, 'blocked': False}, {'category': 8, 'probability': 1, 'blocked': False}, {'category': 7, 'probability': 1, 'blocked': False}, {'category': 10, 'probability': 1, 'blocked': False}]\n",
       "- token_count: 0\n",
       "- grounding_attributions: []\n",
       "- avg_logprobs: 0.0\n",
       "- prompt_token_count: 270\n",
       "- candidates_token_count: 5\n",
       "- total_token_count: 275\n",
       "- cached_content_token_count: 0\n",
       "\n",
       "</details>"
      ],
      "text/plain": [
       "response:\n",
       "GenerateContentResponse(\n",
       "    done=True,\n",
       "    iterator=None,\n",
       "    result=protos.GenerateContentResponse({\n",
       "      \"candidates\": [\n",
       "        {\n",
       "          \"content\": {\n",
       "            \"parts\": [\n",
       "              {\n",
       "                \"text\": \"The flowers are purple. \\n\"\n",
       "              }\n",
       "            ],\n",
       "            \"role\": \"model\"\n",
       "          },\n",
       "          \"finish_reason\": \"STOP\",\n",
       "          \"index\": 0,\n",
       "          \"safety_ratings\": [\n",
       "            {\n",
       "              \"category\": \"HARM_CATEGORY_SEXUALLY_EXPLICIT\",\n",
       "              \"probability\": \"NEGLIGIBLE\"\n",
       "            },\n",
       "            {\n",
       "              \"category\": \"HARM_CATEGORY_HATE_SPEECH\",\n",
       "              \"probability\": \"NEGLIGIBLE\"\n",
       "            },\n",
       "            {\n",
       "              \"category\": \"HARM_CATEGORY_HARASSMENT\",\n",
       "              \"probability\": \"NEGLIGIBLE\"\n",
       "            },\n",
       "            {\n",
       "              \"category\": \"HARM_CATEGORY_DANGEROUS_CONTENT\",\n",
       "              \"probability\": \"NEGLIGIBLE\"\n",
       "            }\n",
       "          ]\n",
       "        }\n",
       "      ],\n",
       "      \"usage_metadata\": {\n",
       "        \"prompt_token_count\": 270,\n",
       "        \"candidates_token_count\": 5,\n",
       "        \"total_token_count\": 275\n",
       "      }\n",
       "    }),\n",
       ")"
      ]
     },
     "execution_count": null,
     "metadata": {},
     "output_type": "execute_result"
    }
   ],
   "source": [
    "chat([fn, q])"
   ]
  },
  {
   "cell_type": "markdown",
   "id": "1710a811",
   "metadata": {},
   "source": [
    "Hooray! That works, let's double check the history to make sure that everything is properly formatted and stored."
   ]
  },
  {
   "cell_type": "code",
   "execution_count": null,
   "id": "f13e5016",
   "metadata": {},
   "outputs": [
    {
     "data": {
      "text/plain": [
       "[{'role': 'user',\n",
       "  'parts': [{'file_data': {'mime_type': 'image/jpeg',\n",
       "     'file_uri': 'https://generativelanguage.googleapis.com/v1beta/files/5w5f40qezxsa'}},\n",
       "   {'text': 'In brief, what color flowers are in this image?'}]},\n",
       " {'role': 'model', 'parts': ['The flowers are purple. \\n']}]"
      ]
     },
     "execution_count": null,
     "metadata": {},
     "output_type": "execute_result"
    }
   ],
   "source": [
    "mk_msgs(chat.h)"
   ]
  },
  {
   "cell_type": "markdown",
   "id": "99b810ff",
   "metadata": {},
   "source": [
    "While we are at it, let's update our markdown representation to handle the new messages."
   ]
  },
  {
   "cell_type": "code",
   "execution_count": null,
   "id": "7ec8987e",
   "metadata": {},
   "outputs": [],
   "source": [
    "@patch\n",
    "def _repr_markdown_(self:Chat):\n",
    "    if not hasattr(self.c, 'result'): return 'No results yet'\n",
    "    last_msg = contents(self.c.result)\n",
    "    \n",
    "    def fmt_part(ps):\n",
    "        if len(ps) == 1: return fmt_single(ps[0])\n",
    "        return '\\n' + '\\n'.join(f'- {fmt_single(p)}' for p in ps)\n",
    "        \n",
    "    def fmt_single(p):\n",
    "        if 'text' in p: return p['text']\n",
    "        if 'file_data' in p: return f\"uploaded media: {p['file_data']['mime_type']}\"\n",
    "        return str(p)\n",
    "        \n",
    "    history = '\\n\\n'.join(f\"**{m['role']}**: {fmt_part(m['parts'])}\" \n",
    "                         for m in self.h if m['role'] in ('user','model'))\n",
    "    det = self.c._repr_markdown_().split('\\n\\n')[-1]\n",
    "    return f\"\"\"{last_msg}\n",
    "\n",
    "<details>\n",
    "<summary>History</summary>\n",
    "\n",
    "{history}\n",
    "</details>\n",
    "{det}\"\"\""
   ]
  },
  {
   "cell_type": "code",
   "execution_count": null,
   "id": "67791706",
   "metadata": {},
   "outputs": [
    {
     "data": {
      "text/markdown": [
       "The flowers are purple. \n",
       "\n",
       "\n",
       "<details>\n",
       "<summary>History</summary>\n",
       "\n",
       "**user**: \n",
       "- uploaded media: image/jpeg\n",
       "- In brief, what color flowers are in this image?\n",
       "\n",
       "**model**: The flowers are purple. \n",
       "\n",
       "</details>\n",
       "\n",
       "| Metric | Count | Cost (USD) |\n",
       "|--------|------:|-----:|\n",
       "| Input tokens | 270 | 0.000020 |\n",
       "| Output tokens | 5 | 0.000002 |\n",
       "| Cache tokens | 0 | 0.000000 |\n",
       "| **Total** | **275** | **$0.000022** |"
      ],
      "text/plain": [
       "<__main__.Chat>"
      ]
     },
     "execution_count": null,
     "metadata": {},
     "output_type": "execute_result"
    }
   ],
   "source": [
    "chat"
   ]
  },
  {
   "cell_type": "markdown",
   "id": "6133fca0",
   "metadata": {},
   "source": [
    "## Other Media (audio, video, etc.)"
   ]
  },
  {
   "cell_type": "markdown",
   "id": "40acd644",
   "metadata": {},
   "source": [
    "Unlike ChatGPT and Claude, Gemini models can also handle audio and video inputs. Since we're using Gemini's File API for handling multimedia content, what we have should just work, except we'll need to make one small modification to the `media_msg` function. Also, while we are at it, let us also allow for users to pass in the bytes of the content instead of the path to be consistent with our other LLM provider libraries."
   ]
  },
  {
   "cell_type": "code",
   "execution_count": null,
   "id": "47e4d9f5",
   "metadata": {},
   "outputs": [],
   "source": [
    "#| exports \n",
    "def media_msg(\n",
    "    media, # Media to process (Path|bytes|dict)\n",
    "    mime=None # Optional mime type\n",
    ")->dict: # Dict for Gemini API\n",
    "    \"Handle media input as either Path or bytes, returning dict for Gemini API\"\n",
    "    if isinstance(media, dict): return media # Already processed\n",
    "    def _upload(f, mime=None):\n",
    "        f = genai.upload_file(f, mime_type=mime)\n",
    "        while f.state.name == \"PROCESSING\": time.sleep(2); f = genai.get_file(f.name)\n",
    "        return {'file_data': {'mime_type': f.mime_type, 'file_uri': f.uri}}\n",
    "    if isinstance(media, (str,Path)): return _upload(media)\n",
    "    if isinstance(media, bytes) and mime is None: mime = ft.guess(media).mime\n",
    "    return _upload(io.BytesIO(media if isinstance(media, bytes) else media.encode()), mime)"
   ]
  },
  {
   "cell_type": "markdown",
   "id": "40638f5e",
   "metadata": {},
   "source": [
    "Since we're uploading potentially larger files, we need to wait for the upload and process to complete so that the media is ready to be consumed by the model."
   ]
  },
  {
   "cell_type": "code",
   "execution_count": null,
   "id": "783c4539",
   "metadata": {},
   "outputs": [
    {
     "data": {
      "text/plain": [
       "({'file_data': {'mime_type': 'image/jpeg',\n",
       "   'file_uri': 'https://generativelanguage.googleapis.com/v1beta/files/x9m2m0hp8it5'}},\n",
       " {'file_data': {'mime_type': 'image/jpeg',\n",
       "   'file_uri': 'https://generativelanguage.googleapis.com/v1beta/files/zcekgao0ynim'}})"
      ]
     },
     "execution_count": null,
     "metadata": {},
     "output_type": "execute_result"
    }
   ],
   "source": [
    "media_msg(fn), media_msg(fn.read_bytes())"
   ]
  },
  {
   "cell_type": "code",
   "execution_count": null,
   "id": "06916192",
   "metadata": {},
   "outputs": [],
   "source": [
    "chat = Chat(model)\n",
    "img = fn.read_bytes()"
   ]
  },
  {
   "cell_type": "code",
   "execution_count": null,
   "id": "d89e459b",
   "metadata": {},
   "outputs": [
    {
     "data": {
      "text/markdown": [
       "The flowers are purple. \n",
       "\n",
       "<details>\n",
       "\n",
       "- content: {'parts': [{'text': 'The flowers are purple. \\n'}], 'role': 'model'}\n",
       "- finish_reason: 1\n",
       "- index: 0\n",
       "- safety_ratings: [{'category': 9, 'probability': 1, 'blocked': False}, {'category': 8, 'probability': 1, 'blocked': False}, {'category': 7, 'probability': 1, 'blocked': False}, {'category': 10, 'probability': 1, 'blocked': False}]\n",
       "- token_count: 0\n",
       "- grounding_attributions: []\n",
       "- avg_logprobs: 0.0\n",
       "- prompt_token_count: 270\n",
       "- candidates_token_count: 5\n",
       "- total_token_count: 275\n",
       "- cached_content_token_count: 0\n",
       "\n",
       "</details>"
      ],
      "text/plain": [
       "response:\n",
       "GenerateContentResponse(\n",
       "    done=True,\n",
       "    iterator=None,\n",
       "    result=protos.GenerateContentResponse({\n",
       "      \"candidates\": [\n",
       "        {\n",
       "          \"content\": {\n",
       "            \"parts\": [\n",
       "              {\n",
       "                \"text\": \"The flowers are purple. \\n\"\n",
       "              }\n",
       "            ],\n",
       "            \"role\": \"model\"\n",
       "          },\n",
       "          \"finish_reason\": \"STOP\",\n",
       "          \"index\": 0,\n",
       "          \"safety_ratings\": [\n",
       "            {\n",
       "              \"category\": \"HARM_CATEGORY_SEXUALLY_EXPLICIT\",\n",
       "              \"probability\": \"NEGLIGIBLE\"\n",
       "            },\n",
       "            {\n",
       "              \"category\": \"HARM_CATEGORY_HATE_SPEECH\",\n",
       "              \"probability\": \"NEGLIGIBLE\"\n",
       "            },\n",
       "            {\n",
       "              \"category\": \"HARM_CATEGORY_HARASSMENT\",\n",
       "              \"probability\": \"NEGLIGIBLE\"\n",
       "            },\n",
       "            {\n",
       "              \"category\": \"HARM_CATEGORY_DANGEROUS_CONTENT\",\n",
       "              \"probability\": \"NEGLIGIBLE\"\n",
       "            }\n",
       "          ]\n",
       "        }\n",
       "      ],\n",
       "      \"usage_metadata\": {\n",
       "        \"prompt_token_count\": 270,\n",
       "        \"candidates_token_count\": 5,\n",
       "        \"total_token_count\": 275\n",
       "      }\n",
       "    }),\n",
       ")"
      ]
     },
     "execution_count": null,
     "metadata": {},
     "output_type": "execute_result"
    }
   ],
   "source": [
    "chat([img, q])"
   ]
  },
  {
   "cell_type": "code",
   "execution_count": null,
   "id": "dc822d82",
   "metadata": {},
   "outputs": [],
   "source": [
    "# We'll test this with the example from Gemini's docs\n",
    "video_fn = Path('./samples/selective_attention_test.mp4')\n",
    "prompt = \"Answer the question in the video\""
   ]
  },
  {
   "cell_type": "code",
   "execution_count": null,
   "id": "369c0710",
   "metadata": {},
   "outputs": [
    {
     "data": {
      "text/markdown": [
       "The correct answer is 15. It's easy to get distracted by the gorilla, but you need to count the passes made by the players wearing white. \n",
       "\n",
       "<details>\n",
       "\n",
       "- content: {'parts': [{'text': \"The correct answer is 15. It's easy to get distracted by the gorilla, but you need to count the passes made by the players wearing white. \\n\"}], 'role': 'model'}\n",
       "- finish_reason: 1\n",
       "- index: 0\n",
       "- safety_ratings: [{'category': 9, 'probability': 1, 'blocked': False}, {'category': 8, 'probability': 1, 'blocked': False}, {'category': 7, 'probability': 2, 'blocked': False}, {'category': 10, 'probability': 1, 'blocked': False}]\n",
       "- token_count: 0\n",
       "- grounding_attributions: []\n",
       "- avg_logprobs: 0.0\n",
       "- prompt_token_count: 10527\n",
       "- candidates_token_count: 33\n",
       "- total_token_count: 10560\n",
       "- cached_content_token_count: 0\n",
       "\n",
       "</details>"
      ],
      "text/plain": [
       "response:\n",
       "GenerateContentResponse(\n",
       "    done=True,\n",
       "    iterator=None,\n",
       "    result=protos.GenerateContentResponse({\n",
       "      \"candidates\": [\n",
       "        {\n",
       "          \"content\": {\n",
       "            \"parts\": [\n",
       "              {\n",
       "                \"text\": \"The correct answer is 15. It's easy to get distracted by the gorilla, but you need to count the passes made by the players wearing white. \\n\"\n",
       "              }\n",
       "            ],\n",
       "            \"role\": \"model\"\n",
       "          },\n",
       "          \"finish_reason\": \"STOP\",\n",
       "          \"index\": 0,\n",
       "          \"safety_ratings\": [\n",
       "            {\n",
       "              \"category\": \"HARM_CATEGORY_SEXUALLY_EXPLICIT\",\n",
       "              \"probability\": \"NEGLIGIBLE\"\n",
       "            },\n",
       "            {\n",
       "              \"category\": \"HARM_CATEGORY_HATE_SPEECH\",\n",
       "              \"probability\": \"NEGLIGIBLE\"\n",
       "            },\n",
       "            {\n",
       "              \"category\": \"HARM_CATEGORY_HARASSMENT\",\n",
       "              \"probability\": \"LOW\"\n",
       "            },\n",
       "            {\n",
       "              \"category\": \"HARM_CATEGORY_DANGEROUS_CONTENT\",\n",
       "              \"probability\": \"NEGLIGIBLE\"\n",
       "            }\n",
       "          ]\n",
       "        }\n",
       "      ],\n",
       "      \"usage_metadata\": {\n",
       "        \"prompt_token_count\": 10527,\n",
       "        \"candidates_token_count\": 33,\n",
       "        \"total_token_count\": 10560\n",
       "      }\n",
       "    }),\n",
       ")"
      ]
     },
     "execution_count": null,
     "metadata": {},
     "output_type": "execute_result"
    }
   ],
   "source": [
    "chat = Chat(model)\n",
    "chat([video_fn, prompt])"
   ]
  },
  {
   "cell_type": "markdown",
   "id": "b4e841b2",
   "metadata": {},
   "source": [
    "Takes a little while, but works like a charm! Now, let's try an audio file to make sure it also works."
   ]
  },
  {
   "cell_type": "code",
   "execution_count": null,
   "id": "770ae3b4",
   "metadata": {},
   "outputs": [],
   "source": [
    "audio_fn = Path('./samples/attention_is_all_you_need.mp3')\n",
    "audio = audio_fn.read_bytes()\n",
    "prompt = \"What is the audio about?\""
   ]
  },
  {
   "cell_type": "code",
   "execution_count": null,
   "id": "03856f04",
   "metadata": {},
   "outputs": [
    {
     "data": {
      "text/markdown": [
       "The audio is a podcast discussion about the research paper \"Attention is All You Need\" by Vaswani et al. The paper introduces a new model architecture called the Transformer, which is based entirely on attention mechanisms and does away with recurrence and convolutions. The Transformer achieved significant improvements in performance and efficiency compared to previous models, especially in machine translation tasks. The podcast discusses the model's architecture, the benefits of attention mechanisms, the results of the experiments, and the future directions of research in this field. \n",
       "\n",
       "<details>\n",
       "\n",
       "- content: {'parts': [{'text': 'The audio is a podcast discussion about the research paper \"Attention is All You Need\" by Vaswani et al. The paper introduces a new model architecture called the Transformer, which is based entirely on attention mechanisms and does away with recurrence and convolutions. The Transformer achieved significant improvements in performance and efficiency compared to previous models, especially in machine translation tasks. The podcast discusses the model\\'s architecture, the benefits of attention mechanisms, the results of the experiments, and the future directions of research in this field. \\n'}], 'role': 'model'}\n",
       "- finish_reason: 1\n",
       "- index: 0\n",
       "- safety_ratings: [{'category': 9, 'probability': 1, 'blocked': False}, {'category': 8, 'probability': 1, 'blocked': False}, {'category': 7, 'probability': 1, 'blocked': False}, {'category': 10, 'probability': 1, 'blocked': False}]\n",
       "- token_count: 0\n",
       "- grounding_attributions: []\n",
       "- avg_logprobs: 0.0\n",
       "- prompt_token_count: 26361\n",
       "- candidates_token_count: 101\n",
       "- total_token_count: 26462\n",
       "- cached_content_token_count: 0\n",
       "\n",
       "</details>"
      ],
      "text/plain": [
       "response:\n",
       "GenerateContentResponse(\n",
       "    done=True,\n",
       "    iterator=None,\n",
       "    result=protos.GenerateContentResponse({\n",
       "      \"candidates\": [\n",
       "        {\n",
       "          \"content\": {\n",
       "            \"parts\": [\n",
       "              {\n",
       "                \"text\": \"The audio is a podcast discussion about the research paper \\\"Attention is All You Need\\\" by Vaswani et al. The paper introduces a new model architecture called the Transformer, which is based entirely on attention mechanisms and does away with recurrence and convolutions. The Transformer achieved significant improvements in performance and efficiency compared to previous models, especially in machine translation tasks. The podcast discusses the model's architecture, the benefits of attention mechanisms, the results of the experiments, and the future directions of research in this field. \\n\"\n",
       "              }\n",
       "            ],\n",
       "            \"role\": \"model\"\n",
       "          },\n",
       "          \"finish_reason\": \"STOP\",\n",
       "          \"index\": 0,\n",
       "          \"safety_ratings\": [\n",
       "            {\n",
       "              \"category\": \"HARM_CATEGORY_SEXUALLY_EXPLICIT\",\n",
       "              \"probability\": \"NEGLIGIBLE\"\n",
       "            },\n",
       "            {\n",
       "              \"category\": \"HARM_CATEGORY_HATE_SPEECH\",\n",
       "              \"probability\": \"NEGLIGIBLE\"\n",
       "            },\n",
       "            {\n",
       "              \"category\": \"HARM_CATEGORY_HARASSMENT\",\n",
       "              \"probability\": \"NEGLIGIBLE\"\n",
       "            },\n",
       "            {\n",
       "              \"category\": \"HARM_CATEGORY_DANGEROUS_CONTENT\",\n",
       "              \"probability\": \"NEGLIGIBLE\"\n",
       "            }\n",
       "          ]\n",
       "        }\n",
       "      ],\n",
       "      \"usage_metadata\": {\n",
       "        \"prompt_token_count\": 26361,\n",
       "        \"candidates_token_count\": 101,\n",
       "        \"total_token_count\": 26462\n",
       "      }\n",
       "    }),\n",
       ")"
      ]
     },
     "execution_count": null,
     "metadata": {},
     "output_type": "execute_result"
    }
   ],
   "source": [
    "chat([audio, prompt])"
   ]
  },
  {
   "cell_type": "markdown",
   "id": "246d9a18",
   "metadata": {},
   "source": [
    "Finally, let's check to make sure pdfs work as well."
   ]
  },
  {
   "cell_type": "code",
   "execution_count": null,
   "id": "ad4a8110",
   "metadata": {},
   "outputs": [
    {
     "data": {
      "text/markdown": [
       "The PDF mentions the following details that were not in the previous podcast:\n",
       "\n",
       "* **Specific details about the Transformer's architecture:** The PDF provides a more detailed description of the Transformer's architecture, including the number of layers, the dimensions of the embeddings and attention heads, and the use of positional encoding.\n",
       "* **The use of label smoothing during training:** The PDF mentions the use of label smoothing, which is a technique that helps to improve the accuracy of the model by making it less confident in its predictions.\n",
       "* **Results on English constituency parsing:** The PDF discusses the Transformer's performance on the English constituency parsing task, showing that it generalizes well to other tasks besides machine translation.\n",
       "* **Examples of attention visualizations:** The PDF includes visualizations of the attention mechanisms used by the Transformer, highlighting how the model attends to different parts of the input sequence.\n",
       "\n",
       "These details provide a more in-depth understanding of the Transformer's architecture, training process, and performance across different NLP tasks. \n",
       "\n",
       "<details>\n",
       "\n",
       "- content: {'parts': [{'text': \"The PDF mentions the following details that were not in the previous podcast:\\n\\n* **Specific details about the Transformer's architecture:** The PDF provides a more detailed description of the Transformer's architecture, including the number of layers, the dimensions of the embeddings and attention heads, and the use of positional encoding.\\n* **The use of label smoothing during training:** The PDF mentions the use of label smoothing, which is a technique that helps to improve the accuracy of the model by making it less confident in its predictions.\\n* **Results on English constituency parsing:** The PDF discusses the Transformer's performance on the English constituency parsing task, showing that it generalizes well to other tasks besides machine translation.\\n* **Examples of attention visualizations:** The PDF includes visualizations of the attention mechanisms used by the Transformer, highlighting how the model attends to different parts of the input sequence.\\n\\nThese details provide a more in-depth understanding of the Transformer's architecture, training process, and performance across different NLP tasks. \\n\"}], 'role': 'model'}\n",
       "- finish_reason: 1\n",
       "- index: 0\n",
       "- safety_ratings: [{'category': 9, 'probability': 1, 'blocked': False}, {'category': 8, 'probability': 1, 'blocked': False}, {'category': 7, 'probability': 1, 'blocked': False}, {'category': 10, 'probability': 1, 'blocked': False}]\n",
       "- token_count: 0\n",
       "- grounding_attributions: []\n",
       "- avg_logprobs: 0.0\n",
       "- prompt_token_count: 41393\n",
       "- candidates_token_count: 202\n",
       "- total_token_count: 41595\n",
       "- cached_content_token_count: 0\n",
       "\n",
       "</details>"
      ],
      "text/plain": [
       "response:\n",
       "GenerateContentResponse(\n",
       "    done=True,\n",
       "    iterator=None,\n",
       "    result=protos.GenerateContentResponse({\n",
       "      \"candidates\": [\n",
       "        {\n",
       "          \"content\": {\n",
       "            \"parts\": [\n",
       "              {\n",
       "                \"text\": \"The PDF mentions the following details that were not in the previous podcast:\\n\\n* **Specific details about the Transformer's architecture:** The PDF provides a more detailed description of the Transformer's architecture, including the number of layers, the dimensions of the embeddings and attention heads, and the use of positional encoding.\\n* **The use of label smoothing during training:** The PDF mentions the use of label smoothing, which is a technique that helps to improve the accuracy of the model by making it less confident in its predictions.\\n* **Results on English constituency parsing:** The PDF discusses the Transformer's performance on the English constituency parsing task, showing that it generalizes well to other tasks besides machine translation.\\n* **Examples of attention visualizations:** The PDF includes visualizations of the attention mechanisms used by the Transformer, highlighting how the model attends to different parts of the input sequence.\\n\\nThese details provide a more in-depth understanding of the Transformer's architecture, training process, and performance across different NLP tasks. \\n\"\n",
       "              }\n",
       "            ],\n",
       "            \"role\": \"model\"\n",
       "          },\n",
       "          \"finish_reason\": \"STOP\",\n",
       "          \"index\": 0,\n",
       "          \"safety_ratings\": [\n",
       "            {\n",
       "              \"category\": \"HARM_CATEGORY_SEXUALLY_EXPLICIT\",\n",
       "              \"probability\": \"NEGLIGIBLE\"\n",
       "            },\n",
       "            {\n",
       "              \"category\": \"HARM_CATEGORY_HATE_SPEECH\",\n",
       "              \"probability\": \"NEGLIGIBLE\"\n",
       "            },\n",
       "            {\n",
       "              \"category\": \"HARM_CATEGORY_HARASSMENT\",\n",
       "              \"probability\": \"NEGLIGIBLE\"\n",
       "            },\n",
       "            {\n",
       "              \"category\": \"HARM_CATEGORY_DANGEROUS_CONTENT\",\n",
       "              \"probability\": \"NEGLIGIBLE\"\n",
       "            }\n",
       "          ]\n",
       "        }\n",
       "      ],\n",
       "      \"usage_metadata\": {\n",
       "        \"prompt_token_count\": 41393,\n",
       "        \"candidates_token_count\": 202,\n",
       "        \"total_token_count\": 41595\n",
       "      }\n",
       "    }),\n",
       ")"
      ]
     },
     "execution_count": null,
     "metadata": {},
     "output_type": "execute_result"
    }
   ],
   "source": [
    "pdf_fn = Path('./samples/attention_is_all_you_need.pdf')\n",
    "prompt = \"What's mentioned in this pdf that's not mentioned in the previous podcast?\"\n",
    "chat([pdf_fn, prompt])"
   ]
  },
  {
   "cell_type": "markdown",
   "id": "1314b9b7",
   "metadata": {},
   "source": [
    "Gemini does a pretty good job here!!"
   ]
  },
  {
   "cell_type": "code",
   "execution_count": null,
   "id": "841ad692",
   "metadata": {},
   "outputs": [
    {
     "data": {
      "text/markdown": [
       "Welcome to our podcast where we dive into groundbreaking research papers. Today we're discussing \"Attention is all you need\" by Vaswani et al. Joining us is an expert in machine learning. Welcome. Thanks for having me. I'm excited to discuss this revolutionary paper. Let's start with the core idea. What's the main thrust of this research? The paper introduces a new model architecture called the Transformer, which is based entirely on attention mechanisms. It completely does away with recurrence and convolutions, which were staples in previous sequence transduction models. \n",
       "\n",
       "<details>\n",
       "\n",
       "- content: {'parts': [{'text': 'Welcome to our podcast where we dive into groundbreaking research papers. Today we\\'re discussing \"Attention is all you need\" by Vaswani et al. Joining us is an expert in machine learning. Welcome. Thanks for having me. I\\'m excited to discuss this revolutionary paper. Let\\'s start with the core idea. What\\'s the main thrust of this research? The paper introduces a new model architecture called the Transformer, which is based entirely on attention mechanisms. It completely does away with recurrence and convolutions, which were staples in previous sequence transduction models. \\n'}], 'role': 'model'}\n",
       "- finish_reason: 1\n",
       "- index: 0\n",
       "- safety_ratings: [{'category': 9, 'probability': 1, 'blocked': False}, {'category': 8, 'probability': 1, 'blocked': False}, {'category': 7, 'probability': 1, 'blocked': False}, {'category': 10, 'probability': 1, 'blocked': False}]\n",
       "- token_count: 0\n",
       "- grounding_attributions: []\n",
       "- avg_logprobs: 0.0\n",
       "- prompt_token_count: 41615\n",
       "- candidates_token_count: 113\n",
       "- total_token_count: 41728\n",
       "- cached_content_token_count: 0\n",
       "\n",
       "</details>"
      ],
      "text/plain": [
       "response:\n",
       "GenerateContentResponse(\n",
       "    done=True,\n",
       "    iterator=None,\n",
       "    result=protos.GenerateContentResponse({\n",
       "      \"candidates\": [\n",
       "        {\n",
       "          \"content\": {\n",
       "            \"parts\": [\n",
       "              {\n",
       "                \"text\": \"Welcome to our podcast where we dive into groundbreaking research papers. Today we're discussing \\\"Attention is all you need\\\" by Vaswani et al. Joining us is an expert in machine learning. Welcome. Thanks for having me. I'm excited to discuss this revolutionary paper. Let's start with the core idea. What's the main thrust of this research? The paper introduces a new model architecture called the Transformer, which is based entirely on attention mechanisms. It completely does away with recurrence and convolutions, which were staples in previous sequence transduction models. \\n\"\n",
       "              }\n",
       "            ],\n",
       "            \"role\": \"model\"\n",
       "          },\n",
       "          \"finish_reason\": \"STOP\",\n",
       "          \"index\": 0,\n",
       "          \"safety_ratings\": [\n",
       "            {\n",
       "              \"category\": \"HARM_CATEGORY_SEXUALLY_EXPLICIT\",\n",
       "              \"probability\": \"NEGLIGIBLE\"\n",
       "            },\n",
       "            {\n",
       "              \"category\": \"HARM_CATEGORY_HATE_SPEECH\",\n",
       "              \"probability\": \"NEGLIGIBLE\"\n",
       "            },\n",
       "            {\n",
       "              \"category\": \"HARM_CATEGORY_HARASSMENT\",\n",
       "              \"probability\": \"NEGLIGIBLE\"\n",
       "            },\n",
       "            {\n",
       "              \"category\": \"HARM_CATEGORY_DANGEROUS_CONTENT\",\n",
       "              \"probability\": \"NEGLIGIBLE\"\n",
       "            }\n",
       "          ]\n",
       "        }\n",
       "      ],\n",
       "      \"usage_metadata\": {\n",
       "        \"prompt_token_count\": 41615,\n",
       "        \"candidates_token_count\": 113,\n",
       "        \"total_token_count\": 41728\n",
       "      }\n",
       "    }),\n",
       ")"
      ]
     },
     "execution_count": null,
     "metadata": {},
     "output_type": "execute_result"
    }
   ],
   "source": [
    "pr = \"Can you generate an exact transcript of the first minute or so of the podcast.\"\n",
    "chat(pr)"
   ]
  },
  {
   "cell_type": "code",
   "execution_count": null,
   "id": "c515180d",
   "metadata": {},
   "outputs": [
    {
     "data": {
      "text/markdown": [
       "Welcome to our podcast where we dive into groundbreaking research papers. Today we're discussing \"Attention is all you need\" by Vaswani et al. Joining us is an expert in machine learning. Welcome. Thanks for having me. I'm excited to discuss this revolutionary paper. Let's start with the core idea. What's the main thrust of this research? The paper introduces a new model architecture called the Transformer, which is based entirely on attention mechanisms. It completely does away with recurrence and convolutions, which were staples in previous sequence transduction models. \n",
       "\n",
       "\n",
       "<details>\n",
       "<summary>History</summary>\n",
       "\n",
       "**user**: \n",
       "- uploaded media: video/mp4\n",
       "- Answer the question in the video\n",
       "\n",
       "**model**: The correct answer is 15. It's easy to get distracted by the gorilla, but you need to count the passes made by the players wearing white. \n",
       "\n",
       "\n",
       "**user**: \n",
       "- uploaded media: audio/mpeg\n",
       "- What is the audio about?\n",
       "\n",
       "**model**: The audio is a podcast discussion about the research paper \"Attention is All You Need\" by Vaswani et al. The paper introduces a new model architecture called the Transformer, which is based entirely on attention mechanisms and does away with recurrence and convolutions. The Transformer achieved significant improvements in performance and efficiency compared to previous models, especially in machine translation tasks. The podcast discusses the model's architecture, the benefits of attention mechanisms, the results of the experiments, and the future directions of research in this field. \n",
       "\n",
       "\n",
       "**user**: \n",
       "- uploaded media: audio/mpeg\n",
       "- What is the audio about?\n",
       "\n",
       "**model**: The audio is a podcast discussion about the research paper \"Attention is All You Need\" by Vaswani et al. The paper introduces a new model architecture called the Transformer, which is based entirely on attention mechanisms and does away with recurrence and convolutions. The Transformer achieved significant improvements in performance and efficiency compared to previous models, especially in machine translation tasks. The podcast discusses the model's architecture, the benefits of attention mechanisms, the results of the experiments, and the future directions of research in this field. \n",
       "\n",
       "\n",
       "**user**: \n",
       "- uploaded media: application/pdf\n",
       "- What's mentioned in this pdf that's not mentioned in the previous podcast?\n",
       "\n",
       "**model**: The PDF mentions the following details that were not in the previous podcast:\n",
       "\n",
       "* **Specific details about the Transformer's architecture:** The PDF provides a more detailed description of the Transformer's architecture, including the number of layers, the dimensions of the embeddings and attention heads, and the use of positional encoding.\n",
       "* **The use of label smoothing during training:** The PDF mentions the use of label smoothing, which is a technique that helps to improve the accuracy of the model by making it less confident in its predictions.\n",
       "* **Results on English constituency parsing:** The PDF discusses the Transformer's performance on the English constituency parsing task, showing that it generalizes well to other tasks besides machine translation.\n",
       "* **Examples of attention visualizations:** The PDF includes visualizations of the attention mechanisms used by the Transformer, highlighting how the model attends to different parts of the input sequence.\n",
       "\n",
       "These details provide a more in-depth understanding of the Transformer's architecture, training process, and performance across different NLP tasks. \n",
       "\n",
       "\n",
       "**user**: Can you generate an exact transcript of the first minute or so of the podcast.\n",
       "\n",
       "**model**: Welcome to our podcast where we dive into groundbreaking research papers. Today we're discussing \"Attention is all you need\" by Vaswani et al. Joining us is an expert in machine learning. Welcome. Thanks for having me. I'm excited to discuss this revolutionary paper. Let's start with the core idea. What's the main thrust of this research? The paper introduces a new model architecture called the Transformer, which is based entirely on attention mechanisms. It completely does away with recurrence and convolutions, which were staples in previous sequence transduction models. \n",
       "\n",
       "</details>\n",
       "\n",
       "| Metric | Count | Cost (USD) |\n",
       "|--------|------:|-----:|\n",
       "| Input tokens | 138,306 | 0.020746 |\n",
       "| Output tokens | 550 | 0.000330 |\n",
       "| Cache tokens | 0 | 0.000000 |\n",
       "| **Total** | **138,856** | **$0.021076** |"
      ],
      "text/plain": [
       "<__main__.Chat>"
      ]
     },
     "execution_count": null,
     "metadata": {},
     "output_type": "execute_result"
    }
   ],
   "source": [
    "chat"
   ]
  },
  {
   "cell_type": "markdown",
   "id": "7ea161a4",
   "metadata": {},
   "source": [
    "All of these also work with `Client` and can be combined with `structured` to get structured responses using multi-media data."
   ]
  },
  {
   "cell_type": "code",
   "execution_count": null,
   "id": "6e29f43a",
   "metadata": {},
   "outputs": [],
   "source": [
    "class AudioMetadata(BasicRepr):\n",
    "    \"\"\"Class to hold metadata for audio files\"\"\"\n",
    "    def __init__(\n",
    "        self,\n",
    "        n_speakers:int, # Number of speakers\n",
    "        topic:str, # Topic discussed\n",
    "        summary:str, # 100 word summary\n",
    "        transcript:list[str], # Transcript of the audio segmented by speaker\n",
    "    ): store_attr()\n",
    "pr = \"Extract the necessary information from the audio.\""
   ]
  },
  {
   "cell_type": "code",
   "execution_count": null,
   "id": "f41e2b43",
   "metadata": {},
   "outputs": [],
   "source": [
    "c = Client(model)\n",
    "audio_md = c.structured(mk_msgs([[audio_fn, pr]]), tools=[AudioMetadata])[0]"
   ]
  },
  {
   "cell_type": "code",
   "execution_count": null,
   "id": "a9bcb6ec",
   "metadata": {},
   "outputs": [
    {
     "name": "stdout",
     "output_type": "stream",
     "text": [
      "Number of speakers: 2.0\n",
      "Topic: Attention is All You Need Paper Discussion\n",
      "Summary: The paper introduces the Transformer model, which is based entirely on attention mechanisms. It eliminates recurrence and convolutions. The Transformer achieves state-of-the-art results in machine translation and other NLP tasks with significantly less training time. The paper discusses the model's architecture, attention mechanisms, and performance on various tasks. The Transformer is a significant advancement in the field of machine learning and NLP.\n",
      "Transcript: 00:00 Welcome to our podcast where we dive into groundbreaking research papers.\n",
      "-00:01 Today we’re discussing Attention is All You Need by Vaswani et al.\n",
      "-00:02 Joining us is an expert in machine learning. Welcome.\n",
      "-00:03 Thanks for having me. I’m excited to discuss this revolutionary paper.\n",
      "-00:04 Let’s start with the core idea. What’s the main thrust of this research?\n",
      "-00:05 The paper introduces a new model architecture called the Transformer, which is based entirely on attention mechanisms.\n",
      "-00:06 It completely does away with recurrence and convolutions, which were staples in previous sequence transduction models.\n",
      "-00:07 That sounds like a significant departure from previous approaches.\n",
      "-00:08 What motivated this radical change?\n",
      "-00:09 The main motivation was to address limitations in previous models, particularly the sequential nature of processing in RNNs.\n"
     ]
    }
   ],
   "source": [
    "print(f'Number of speakers: {audio_md.n_speakers}')\n",
    "print(f'Topic: {audio_md.topic}')\n",
    "print(f'Summary: {audio_md.summary}')\n",
    "transcript = '\\n-'.join(list(audio_md.transcript)[:10])\n",
    "print(f'Transcript: {transcript}')"
   ]
  },
  {
   "cell_type": "markdown",
   "id": "08cd1cd6",
   "metadata": {},
   "source": [
    "## Export -"
   ]
  },
  {
   "cell_type": "code",
   "execution_count": null,
   "id": "419d5995",
   "metadata": {},
   "outputs": [],
   "source": [
    "#|hide\n",
    "#|eval: false\n",
    "from nbdev.doclinks import nbdev_export\n",
    "nbdev_export()"
   ]
  },
  {
   "cell_type": "code",
   "execution_count": null,
   "id": "f850535a",
   "metadata": {},
   "outputs": [],
   "source": []
  }
 ],
 "metadata": {
  "kernelspec": {
   "display_name": "python3",
   "language": "python",
   "name": "python3"
  }
 },
 "nbformat": 4,
 "nbformat_minor": 5
}
