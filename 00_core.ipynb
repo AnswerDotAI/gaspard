{
 "cells": [
  {
   "cell_type": "code",
   "execution_count": null,
   "id": "a1629d24",
   "metadata": {},
   "outputs": [],
   "source": [
    "#|default_exp core"
   ]
  },
  {
   "cell_type": "markdown",
   "id": "88ae282a",
   "metadata": {},
   "source": [
    "# Gaspard's source"
   ]
  },
  {
   "cell_type": "markdown",
   "id": "e4116139",
   "metadata": {},
   "source": [
    "## Setup"
   ]
  },
  {
   "cell_type": "code",
   "execution_count": null,
   "id": "1142b725",
   "metadata": {},
   "outputs": [],
   "source": [
    "#| export\n",
    "import inspect, typing, mimetypes, base64, json, ast, os, time\n",
    "import google.generativeai as genai\n",
    "from google.generativeai.types.generation_types import GenerateContentResponse, GenerationConfig\n",
    "from google.generativeai.protos import FunctionCall, Content, FunctionResponse\n",
    "from google.generativeai.protos import GenerateContentResponse as GCR\n",
    "\n",
    "import toolslm\n",
    "from toolslm.funccall import *\n",
    "\n",
    "from fastcore.meta import delegates\n",
    "from fastcore.utils import *\n",
    "\n",
    "from collections import abc"
   ]
  },
  {
   "cell_type": "code",
   "execution_count": null,
   "id": "e0764659",
   "metadata": {},
   "outputs": [],
   "source": [
    "#| hide\n",
    "from nbdev import show_doc\n",
    "\n",
    "try: from IPython import display\n",
    "except: display=None"
   ]
  },
  {
   "cell_type": "code",
   "execution_count": null,
   "id": "193d0faf",
   "metadata": {},
   "outputs": [],
   "source": [
    "#| export\n",
    "UsageMetadata = GCR.UsageMetadata\n",
    "empty = inspect.Parameter.empty"
   ]
  },
  {
   "cell_type": "code",
   "execution_count": null,
   "id": "e837ab99",
   "metadata": {},
   "outputs": [],
   "source": [
    "#| exports\n",
    "models = 'gemini-1.5-pro-exp-0827', 'gemini-1.5-flash-exp-0827','gemini-1.5-pro','gemini-1.5-flash'"
   ]
  },
  {
   "cell_type": "markdown",
   "id": "b4a095bc",
   "metadata": {},
   "source": [
    "These are the latest version of Gemini models available at the time of writing."
   ]
  },
  {
   "cell_type": "code",
   "execution_count": null,
   "id": "d3c81236",
   "metadata": {},
   "outputs": [],
   "source": [
    "model = models[-1]"
   ]
  },
  {
   "cell_type": "markdown",
   "id": "fa99b6d9",
   "metadata": {},
   "source": [
    "We'll use gemini-1.5-flash for the examples since it's faster and cheaper."
   ]
  },
  {
   "cell_type": "markdown",
   "id": "a2ba835d",
   "metadata": {},
   "source": [
    "## Gemini SDK"
   ]
  },
  {
   "cell_type": "markdown",
   "id": "9a343d78",
   "metadata": {},
   "source": [
    "Follow the [instructions](https://aistudio.google.com/app/apikey) to generate an API key, and set it as an evironment variable."
   ]
  },
  {
   "cell_type": "code",
   "execution_count": null,
   "id": "f4a4919f",
   "metadata": {},
   "outputs": [],
   "source": [
    "genai.configure(api_key=os.environ[\"GEMINI_API_KEY\"])"
   ]
  },
  {
   "cell_type": "code",
   "execution_count": null,
   "id": "338b89fa",
   "metadata": {},
   "outputs": [],
   "source": [
    "cli = genai.GenerativeModel(model)"
   ]
  },
  {
   "cell_type": "code",
   "execution_count": null,
   "id": "cd62f521",
   "metadata": {},
   "outputs": [
    {
     "data": {
      "text/plain": [
       "response:\n",
       "GenerateContentResponse(\n",
       "    done=True,\n",
       "    iterator=None,\n",
       "    result=protos.GenerateContentResponse({\n",
       "      \"candidates\": [\n",
       "        {\n",
       "          \"content\": {\n",
       "            \"parts\": [\n",
       "              {\n",
       "                \"text\": \"Hello Faisal! It's nice to meet you.  What can I do for you today? \\n\"\n",
       "              }\n",
       "            ],\n",
       "            \"role\": \"model\"\n",
       "          },\n",
       "          \"finish_reason\": \"STOP\",\n",
       "          \"index\": 0,\n",
       "          \"safety_ratings\": [\n",
       "            {\n",
       "              \"category\": \"HARM_CATEGORY_SEXUALLY_EXPLICIT\",\n",
       "              \"probability\": \"NEGLIGIBLE\"\n",
       "            },\n",
       "            {\n",
       "              \"category\": \"HARM_CATEGORY_HATE_SPEECH\",\n",
       "              \"probability\": \"NEGLIGIBLE\"\n",
       "            },\n",
       "            {\n",
       "              \"category\": \"HARM_CATEGORY_HARASSMENT\",\n",
       "              \"probability\": \"NEGLIGIBLE\"\n",
       "            },\n",
       "            {\n",
       "              \"category\": \"HARM_CATEGORY_DANGEROUS_CONTENT\",\n",
       "              \"probability\": \"NEGLIGIBLE\"\n",
       "            }\n",
       "          ]\n",
       "        }\n",
       "      ],\n",
       "      \"usage_metadata\": {\n",
       "        \"prompt_token_count\": 8,\n",
       "        \"candidates_token_count\": 20,\n",
       "        \"total_token_count\": 28\n",
       "      }\n",
       "    }),\n",
       ")"
      ]
     },
     "execution_count": null,
     "metadata": {},
     "output_type": "execute_result"
    }
   ],
   "source": [
    "r = cli.generate_content(\"Hi, I'm Faisal!\")\n",
    "r"
   ]
  },
  {
   "cell_type": "markdown",
   "id": "f4ae6c0b",
   "metadata": {},
   "source": [
    "## Formatting output"
   ]
  },
  {
   "cell_type": "code",
   "execution_count": null,
   "id": "97739d6e",
   "metadata": {},
   "outputs": [],
   "source": [
    "#| exports\n",
    "def find_block(r:abc.Mapping, # The message to look in\n",
    "              ):\n",
    "    \"Find the content in `r`.\"\n",
    "    m = nested_idx(r, 'candidates', 0)\n",
    "    if not m: return m\n",
    "    if hasattr(m, 'content'): return m.content \n",
    "    else: return m"
   ]
  },
  {
   "cell_type": "code",
   "execution_count": null,
   "id": "cf1b4144",
   "metadata": {},
   "outputs": [
    {
     "data": {
      "text/plain": [
       "parts {\n",
       "  text: \"Hello Faisal! It\\'s nice to meet you.  What can I do for you today? \\n\"\n",
       "}\n",
       "role: \"model\""
      ]
     },
     "execution_count": null,
     "metadata": {},
     "output_type": "execute_result"
    }
   ],
   "source": [
    "find_block(r)"
   ]
  },
  {
   "cell_type": "code",
   "execution_count": null,
   "id": "548f0dd4",
   "metadata": {},
   "outputs": [],
   "source": [
    "#| exports\n",
    "def contents(r):\n",
    "    \"Helper to get the contents from response `r`.\"\n",
    "    blk = find_block(r)\n",
    "    if not blk: return r\n",
    "    if hasattr(blk, 'parts'): return getattr(blk,'parts')[0].text\n",
    "    return blk"
   ]
  },
  {
   "cell_type": "code",
   "execution_count": null,
   "id": "7a0d7340",
   "metadata": {},
   "outputs": [
    {
     "data": {
      "text/plain": [
       "\"Hello Faisal! It's nice to meet you.  What can I do for you today? \\n\""
      ]
     },
     "execution_count": null,
     "metadata": {},
     "output_type": "execute_result"
    }
   ],
   "source": [
    "contents(r)"
   ]
  },
  {
   "cell_type": "code",
   "execution_count": null,
   "id": "9d37d39e",
   "metadata": {},
   "outputs": [],
   "source": [
    "#| exports\n",
    "@patch()\n",
    "def _repr_markdown_(self:GenerateContentResponse):\n",
    "    met = list(self.to_dict()['candidates'][0].items()) + list(self.to_dict()['usage_metadata'].items())\n",
    "    det = '\\n- '.join(f'{k}: {v}' for k,v in met)\n",
    "    res = contents(self)\n",
    "    if not res: return f\"- {det}\"\n",
    "    return f\"\"\"{contents(self)}\n",
    "\n",
    "<details>\n",
    "\n",
    "- {det}\n",
    "\n",
    "</details>\"\"\""
   ]
  },
  {
   "cell_type": "code",
   "execution_count": null,
   "id": "cbf3a3a5",
   "metadata": {},
   "outputs": [
    {
     "data": {
      "text/markdown": [
       "Hello Faisal! It's nice to meet you.  What can I do for you today? \n",
       "\n",
       "\n",
       "<details>\n",
       "\n",
       "- content: {'parts': [{'text': \"Hello Faisal! It's nice to meet you.  What can I do for you today? \\n\"}], 'role': 'model'}\n",
       "- finish_reason: 1\n",
       "- index: 0\n",
       "- safety_ratings: [{'category': 9, 'probability': 1, 'blocked': False}, {'category': 8, 'probability': 1, 'blocked': False}, {'category': 7, 'probability': 1, 'blocked': False}, {'category': 10, 'probability': 1, 'blocked': False}]\n",
       "- token_count: 0\n",
       "- grounding_attributions: []\n",
       "- prompt_token_count: 8\n",
       "- candidates_token_count: 20\n",
       "- total_token_count: 28\n",
       "- cached_content_token_count: 0\n",
       "\n",
       "</details>"
      ],
      "text/plain": [
       "response:\n",
       "GenerateContentResponse(\n",
       "    done=True,\n",
       "    iterator=None,\n",
       "    result=protos.GenerateContentResponse({\n",
       "      \"candidates\": [\n",
       "        {\n",
       "          \"content\": {\n",
       "            \"parts\": [\n",
       "              {\n",
       "                \"text\": \"Hello Faisal! It's nice to meet you.  What can I do for you today? \\n\"\n",
       "              }\n",
       "            ],\n",
       "            \"role\": \"model\"\n",
       "          },\n",
       "          \"finish_reason\": \"STOP\",\n",
       "          \"index\": 0,\n",
       "          \"safety_ratings\": [\n",
       "            {\n",
       "              \"category\": \"HARM_CATEGORY_SEXUALLY_EXPLICIT\",\n",
       "              \"probability\": \"NEGLIGIBLE\"\n",
       "            },\n",
       "            {\n",
       "              \"category\": \"HARM_CATEGORY_HATE_SPEECH\",\n",
       "              \"probability\": \"NEGLIGIBLE\"\n",
       "            },\n",
       "            {\n",
       "              \"category\": \"HARM_CATEGORY_HARASSMENT\",\n",
       "              \"probability\": \"NEGLIGIBLE\"\n",
       "            },\n",
       "            {\n",
       "              \"category\": \"HARM_CATEGORY_DANGEROUS_CONTENT\",\n",
       "              \"probability\": \"NEGLIGIBLE\"\n",
       "            }\n",
       "          ]\n",
       "        }\n",
       "      ],\n",
       "      \"usage_metadata\": {\n",
       "        \"prompt_token_count\": 8,\n",
       "        \"candidates_token_count\": 20,\n",
       "        \"total_token_count\": 28\n",
       "      }\n",
       "    }),\n",
       ")"
      ]
     },
     "execution_count": null,
     "metadata": {},
     "output_type": "execute_result"
    }
   ],
   "source": [
    "r"
   ]
  },
  {
   "cell_type": "code",
   "execution_count": null,
   "id": "eb3b541b",
   "metadata": {},
   "outputs": [
    {
     "data": {
      "text/plain": [
       "prompt_token_count: 8\n",
       "candidates_token_count: 20\n",
       "total_token_count: 28"
      ]
     },
     "execution_count": null,
     "metadata": {},
     "output_type": "execute_result"
    }
   ],
   "source": [
    "r.usage_metadata"
   ]
  },
  {
   "cell_type": "code",
   "execution_count": null,
   "id": "61918cfd",
   "metadata": {},
   "outputs": [],
   "source": [
    "#| exports\n",
    "def usage(inp=0, # Number of input tokens\n",
    "          out=0  # Number of output tokens\n",
    "         ):\n",
    "    \"Slightly more concise version of `Usage`.\"\n",
    "    return UsageMetadata(prompt_token_count=inp, candidates_token_count=out)"
   ]
  },
  {
   "cell_type": "code",
   "execution_count": null,
   "id": "c443d1e5",
   "metadata": {},
   "outputs": [
    {
     "data": {
      "text/plain": [
       "prompt_token_count: 5"
      ]
     },
     "execution_count": null,
     "metadata": {},
     "output_type": "execute_result"
    }
   ],
   "source": [
    "usage(5)"
   ]
  },
  {
   "cell_type": "code",
   "execution_count": null,
   "id": "fb30b16f",
   "metadata": {},
   "outputs": [],
   "source": [
    "#| exports\n",
    "@patch(as_prop=True)\n",
    "def total(self:UsageMetadata): return self.prompt_token_count+self.candidates_token_count"
   ]
  },
  {
   "cell_type": "code",
   "execution_count": null,
   "id": "1b99e8ba",
   "metadata": {},
   "outputs": [],
   "source": [
    "#| exports\n",
    "@patch\n",
    "def __repr__(self:UsageMetadata): return f'In: {self.prompt_token_count}; Out: {self.candidates_token_count}; Total: {self.total}'"
   ]
  },
  {
   "cell_type": "code",
   "execution_count": null,
   "id": "b6780c5d",
   "metadata": {},
   "outputs": [
    {
     "data": {
      "text/plain": [
       "In: 8; Out: 20; Total: 28"
      ]
     },
     "execution_count": null,
     "metadata": {},
     "output_type": "execute_result"
    }
   ],
   "source": [
    "r.usage_metadata"
   ]
  },
  {
   "cell_type": "code",
   "execution_count": null,
   "id": "d9fafcef",
   "metadata": {},
   "outputs": [],
   "source": [
    "#| exports\n",
    "@patch\n",
    "def __add__(self:UsageMetadata, b):\n",
    "    \"Add together each of `input_tokens` and `output_tokens`\"\n",
    "    return usage(self.prompt_token_count+b.prompt_token_count, self.candidates_token_count+b.candidates_token_count)"
   ]
  },
  {
   "cell_type": "code",
   "execution_count": null,
   "id": "fa94215b",
   "metadata": {},
   "outputs": [
    {
     "data": {
      "text/plain": [
       "In: 16; Out: 40; Total: 56"
      ]
     },
     "execution_count": null,
     "metadata": {},
     "output_type": "execute_result"
    }
   ],
   "source": [
    "r.usage_metadata+r.usage_metadata"
   ]
  },
  {
   "cell_type": "markdown",
   "id": "134bc41b",
   "metadata": {},
   "source": [
    "## Creating messages"
   ]
  },
  {
   "cell_type": "code",
   "execution_count": null,
   "id": "1cbe271c",
   "metadata": {},
   "outputs": [],
   "source": [
    "def mk_msg(content, role='user', **kw):\n",
    "    if isinstance(content, GenerateContentResponse): return find_block(content)\n",
    "    if not isinstance(content, list): content=[content]\n",
    "    return dict(role=role, parts=content, **kw)"
   ]
  },
  {
   "cell_type": "code",
   "execution_count": null,
   "id": "6924dece",
   "metadata": {},
   "outputs": [
    {
     "data": {
      "text/plain": [
       "{'role': 'user', 'parts': [\"I'm Faisal\"]}"
      ]
     },
     "execution_count": null,
     "metadata": {},
     "output_type": "execute_result"
    }
   ],
   "source": [
    "prompt = \"I'm Faisal\"\n",
    "m = mk_msg(prompt)\n",
    "m"
   ]
  },
  {
   "cell_type": "code",
   "execution_count": null,
   "id": "b2c4724e",
   "metadata": {},
   "outputs": [
    {
     "data": {
      "text/markdown": [
       "Nice to meet you, Faisal! What can I do for you today? \n",
       "\n",
       "\n",
       "<details>\n",
       "\n",
       "- content: {'parts': [{'text': 'Nice to meet you, Faisal! What can I do for you today? \\n'}], 'role': 'model'}\n",
       "- finish_reason: 1\n",
       "- index: 0\n",
       "- safety_ratings: [{'category': 9, 'probability': 1, 'blocked': False}, {'category': 8, 'probability': 1, 'blocked': False}, {'category': 7, 'probability': 1, 'blocked': False}, {'category': 10, 'probability': 1, 'blocked': False}]\n",
       "- token_count: 0\n",
       "- grounding_attributions: []\n",
       "- prompt_token_count: 5\n",
       "- candidates_token_count: 16\n",
       "- total_token_count: 21\n",
       "- cached_content_token_count: 0\n",
       "\n",
       "</details>"
      ],
      "text/plain": [
       "response:\n",
       "GenerateContentResponse(\n",
       "    done=True,\n",
       "    iterator=None,\n",
       "    result=protos.GenerateContentResponse({\n",
       "      \"candidates\": [\n",
       "        {\n",
       "          \"content\": {\n",
       "            \"parts\": [\n",
       "              {\n",
       "                \"text\": \"Nice to meet you, Faisal! What can I do for you today? \\n\"\n",
       "              }\n",
       "            ],\n",
       "            \"role\": \"model\"\n",
       "          },\n",
       "          \"finish_reason\": \"STOP\",\n",
       "          \"index\": 0,\n",
       "          \"safety_ratings\": [\n",
       "            {\n",
       "              \"category\": \"HARM_CATEGORY_SEXUALLY_EXPLICIT\",\n",
       "              \"probability\": \"NEGLIGIBLE\"\n",
       "            },\n",
       "            {\n",
       "              \"category\": \"HARM_CATEGORY_HATE_SPEECH\",\n",
       "              \"probability\": \"NEGLIGIBLE\"\n",
       "            },\n",
       "            {\n",
       "              \"category\": \"HARM_CATEGORY_HARASSMENT\",\n",
       "              \"probability\": \"NEGLIGIBLE\"\n",
       "            },\n",
       "            {\n",
       "              \"category\": \"HARM_CATEGORY_DANGEROUS_CONTENT\",\n",
       "              \"probability\": \"NEGLIGIBLE\"\n",
       "            }\n",
       "          ]\n",
       "        }\n",
       "      ],\n",
       "      \"usage_metadata\": {\n",
       "        \"prompt_token_count\": 5,\n",
       "        \"candidates_token_count\": 16,\n",
       "        \"total_token_count\": 21\n",
       "      }\n",
       "    }),\n",
       ")"
      ]
     },
     "execution_count": null,
     "metadata": {},
     "output_type": "execute_result"
    }
   ],
   "source": [
    "r = cli.generate_content([m], generation_config=GenerationConfig(max_output_tokens=100))\n",
    "r"
   ]
  },
  {
   "cell_type": "code",
   "execution_count": null,
   "id": "44ede3ba",
   "metadata": {},
   "outputs": [
    {
     "data": {
      "text/plain": [
       "[{'role': 'user', 'parts': [\"I'm Faisal\"]},\n",
       " parts {\n",
       "   text: \"Nice to meet you, Faisal! What can I do for you today? \\n\"\n",
       " }\n",
       " role: \"model\",\n",
       " {'role': 'user', 'parts': ['I forgot my name. Can you remind me please?']}]"
      ]
     },
     "execution_count": null,
     "metadata": {},
     "output_type": "execute_result"
    }
   ],
   "source": [
    "msgs = [mk_msg(prompt), mk_msg(r), mk_msg('I forgot my name. Can you remind me please?')]\n",
    "msgs"
   ]
  },
  {
   "cell_type": "code",
   "execution_count": null,
   "id": "f708fc4c",
   "metadata": {},
   "outputs": [
    {
     "data": {
      "text/markdown": [
       "You're right, you told me your name is Faisal! 😄  \n",
       "\n",
       "Is there anything else I can help you with? \n",
       "\n",
       "\n",
       "<details>\n",
       "\n",
       "- content: {'parts': [{'text': \"You're right, you told me your name is Faisal! 😄  \\n\\nIs there anything else I can help you with? \\n\"}], 'role': 'model'}\n",
       "- finish_reason: 1\n",
       "- index: 0\n",
       "- safety_ratings: [{'category': 9, 'probability': 1, 'blocked': False}, {'category': 8, 'probability': 1, 'blocked': False}, {'category': 7, 'probability': 1, 'blocked': False}, {'category': 10, 'probability': 1, 'blocked': False}]\n",
       "- token_count: 0\n",
       "- grounding_attributions: []\n",
       "- prompt_token_count: 35\n",
       "- candidates_token_count: 26\n",
       "- total_token_count: 61\n",
       "- cached_content_token_count: 0\n",
       "\n",
       "</details>"
      ],
      "text/plain": [
       "response:\n",
       "GenerateContentResponse(\n",
       "    done=True,\n",
       "    iterator=None,\n",
       "    result=protos.GenerateContentResponse({\n",
       "      \"candidates\": [\n",
       "        {\n",
       "          \"content\": {\n",
       "            \"parts\": [\n",
       "              {\n",
       "                \"text\": \"You're right, you told me your name is Faisal! \\ud83d\\ude04  \\n\\nIs there anything else I can help you with? \\n\"\n",
       "              }\n",
       "            ],\n",
       "            \"role\": \"model\"\n",
       "          },\n",
       "          \"finish_reason\": \"STOP\",\n",
       "          \"index\": 0,\n",
       "          \"safety_ratings\": [\n",
       "            {\n",
       "              \"category\": \"HARM_CATEGORY_SEXUALLY_EXPLICIT\",\n",
       "              \"probability\": \"NEGLIGIBLE\"\n",
       "            },\n",
       "            {\n",
       "              \"category\": \"HARM_CATEGORY_HATE_SPEECH\",\n",
       "              \"probability\": \"NEGLIGIBLE\"\n",
       "            },\n",
       "            {\n",
       "              \"category\": \"HARM_CATEGORY_HARASSMENT\",\n",
       "              \"probability\": \"NEGLIGIBLE\"\n",
       "            },\n",
       "            {\n",
       "              \"category\": \"HARM_CATEGORY_DANGEROUS_CONTENT\",\n",
       "              \"probability\": \"NEGLIGIBLE\"\n",
       "            }\n",
       "          ]\n",
       "        }\n",
       "      ],\n",
       "      \"usage_metadata\": {\n",
       "        \"prompt_token_count\": 35,\n",
       "        \"candidates_token_count\": 26,\n",
       "        \"total_token_count\": 61\n",
       "      }\n",
       "    }),\n",
       ")"
      ]
     },
     "execution_count": null,
     "metadata": {},
     "output_type": "execute_result"
    }
   ],
   "source": [
    "cli.generate_content(msgs, generation_config=GenerationConfig(max_output_tokens=100))"
   ]
  },
  {
   "cell_type": "markdown",
   "id": "ec007f7f",
   "metadata": {},
   "source": [
    "## Client"
   ]
  },
  {
   "cell_type": "code",
   "execution_count": null,
   "id": "05864cf8",
   "metadata": {},
   "outputs": [],
   "source": [
    "#| exports\n",
    "class Client:\n",
    "    def __init__(self, model, cli=None, sp=None):\n",
    "        \"Basic LLM messages client.\"\n",
    "        self.model,self.use = model,usage(0,0)\n",
    "        self.sp = sp\n",
    "        self.c = (cli or genai.GenerativeModel(model, system_instruction=sp))"
   ]
  },
  {
   "cell_type": "code",
   "execution_count": null,
   "id": "0db82494",
   "metadata": {},
   "outputs": [
    {
     "data": {
      "text/plain": [
       "In: 0; Out: 0; Total: 0"
      ]
     },
     "execution_count": null,
     "metadata": {},
     "output_type": "execute_result"
    }
   ],
   "source": [
    "c = Client(model)\n",
    "c.use"
   ]
  },
  {
   "cell_type": "code",
   "execution_count": null,
   "id": "198eac02",
   "metadata": {},
   "outputs": [],
   "source": [
    "#| exports\n",
    "@patch\n",
    "def _r(self:Client, r:GenerateContentResponse):\n",
    "    \"Store the result of the message and accrue total usage.\"\n",
    "    self.result = r\n",
    "    if getattr(r,'usage_metadata',None): self.use += r.usage_metadata\n",
    "    return r"
   ]
  },
  {
   "cell_type": "code",
   "execution_count": null,
   "id": "dea8466e",
   "metadata": {},
   "outputs": [
    {
     "data": {
      "text/plain": [
       "In: 5; Out: 16; Total: 21"
      ]
     },
     "execution_count": null,
     "metadata": {},
     "output_type": "execute_result"
    }
   ],
   "source": [
    "c._r(r)\n",
    "c.use"
   ]
  },
  {
   "cell_type": "code",
   "execution_count": null,
   "id": "75c87c04",
   "metadata": {},
   "outputs": [],
   "source": [
    "#| export\n",
    "def get_stream(r):\n",
    "    for o in r:\n",
    "        o = contents(o)\n",
    "        if o and isinstance(o, str): yield(o)"
   ]
  },
  {
   "cell_type": "code",
   "execution_count": null,
   "id": "2892ac45",
   "metadata": {},
   "outputs": [],
   "source": [
    "#| export\n",
    "@patch\n",
    "def _set_sp(self:Client, sp:str):\n",
    "    if sp != self.sp:\n",
    "        self.sp = sp\n",
    "        self.c = genai.GenerativeModel(model, system_instruction=self.sp)"
   ]
  },
  {
   "cell_type": "markdown",
   "id": "da5166bd",
   "metadata": {},
   "source": [
    "Gemini cli requires passing the system prompt when creating the client, so we recreate the client for now.\n",
    "\n",
    "TODO: Ask Google to surface this option to generate_content function, since they're passing the system prompt to each request anyways [under the hood](https://github.com/googleapis/python-aiplatform/blob/f89df1f30822d260176487f74c3743cab88a38fd/vertexai/generative_models/_generative_models.py#L446)."
   ]
  },
  {
   "cell_type": "code",
   "execution_count": null,
   "id": "06bac993",
   "metadata": {},
   "outputs": [],
   "source": [
    "#| exports\n",
    "@patch\n",
    "@delegates(genai.GenerativeModel.generate_content)\n",
    "def __call__(self:Client,\n",
    "             msgs:list, # List of messages in the dialog\n",
    "             sp:str=None, # System prompt\n",
    "             maxtok=4096, # Maximum tokens\n",
    "             stream:bool=False, # Stream response?\n",
    "             **kwargs):\n",
    "    \"Make a call to LLM.\"\n",
    "    if sp: self._set_sp(sp)\n",
    "    gc_params = inspect.signature(GenerationConfig.__init__).parameters\n",
    "    gc_kwargs = {k: v for k, v in kwargs.items() if k in gc_params}\n",
    "    gen_config = GenerationConfig(max_output_tokens=maxtok, **gc_kwargs)\n",
    "    gen_params = inspect.signature(self.c.generate_content).parameters\n",
    "    gen_kwargs = {k: v for k, v in kwargs.items() if k in gen_params}\n",
    "    r = self.c.generate_content(\n",
    "        contents=msgs, generation_config=gen_config, stream=stream, **gen_kwargs)\n",
    "    if not stream: return self._r(r)\n",
    "    else: return get_stream(map(self._r, r))"
   ]
  },
  {
   "cell_type": "code",
   "execution_count": null,
   "id": "3850ec42",
   "metadata": {},
   "outputs": [],
   "source": [
    "msgs = [mk_msg('Hi!')]"
   ]
  },
  {
   "cell_type": "code",
   "execution_count": null,
   "id": "d50775d1",
   "metadata": {},
   "outputs": [
    {
     "data": {
      "text/markdown": [
       "Hi there! What can I do for you today? \n",
       "\n",
       "\n",
       "<details>\n",
       "\n",
       "- content: {'parts': [{'text': 'Hi there! What can I do for you today? \\n'}], 'role': 'model'}\n",
       "- finish_reason: 1\n",
       "- index: 0\n",
       "- safety_ratings: [{'category': 9, 'probability': 1, 'blocked': False}, {'category': 8, 'probability': 1, 'blocked': False}, {'category': 7, 'probability': 1, 'blocked': False}, {'category': 10, 'probability': 1, 'blocked': False}]\n",
       "- token_count: 0\n",
       "- grounding_attributions: []\n",
       "- prompt_token_count: 3\n",
       "- candidates_token_count: 12\n",
       "- total_token_count: 15\n",
       "- cached_content_token_count: 0\n",
       "\n",
       "</details>"
      ],
      "text/plain": [
       "response:\n",
       "GenerateContentResponse(\n",
       "    done=True,\n",
       "    iterator=None,\n",
       "    result=protos.GenerateContentResponse({\n",
       "      \"candidates\": [\n",
       "        {\n",
       "          \"content\": {\n",
       "            \"parts\": [\n",
       "              {\n",
       "                \"text\": \"Hi there! What can I do for you today? \\n\"\n",
       "              }\n",
       "            ],\n",
       "            \"role\": \"model\"\n",
       "          },\n",
       "          \"finish_reason\": \"STOP\",\n",
       "          \"index\": 0,\n",
       "          \"safety_ratings\": [\n",
       "            {\n",
       "              \"category\": \"HARM_CATEGORY_SEXUALLY_EXPLICIT\",\n",
       "              \"probability\": \"NEGLIGIBLE\"\n",
       "            },\n",
       "            {\n",
       "              \"category\": \"HARM_CATEGORY_HATE_SPEECH\",\n",
       "              \"probability\": \"NEGLIGIBLE\"\n",
       "            },\n",
       "            {\n",
       "              \"category\": \"HARM_CATEGORY_HARASSMENT\",\n",
       "              \"probability\": \"NEGLIGIBLE\"\n",
       "            },\n",
       "            {\n",
       "              \"category\": \"HARM_CATEGORY_DANGEROUS_CONTENT\",\n",
       "              \"probability\": \"NEGLIGIBLE\"\n",
       "            }\n",
       "          ]\n",
       "        }\n",
       "      ],\n",
       "      \"usage_metadata\": {\n",
       "        \"prompt_token_count\": 3,\n",
       "        \"candidates_token_count\": 12,\n",
       "        \"total_token_count\": 15\n",
       "      }\n",
       "    }),\n",
       ")"
      ]
     },
     "execution_count": null,
     "metadata": {},
     "output_type": "execute_result"
    }
   ],
   "source": [
    "c(msgs)"
   ]
  },
  {
   "cell_type": "code",
   "execution_count": null,
   "id": "c9bb4ba3",
   "metadata": {},
   "outputs": [
    {
     "data": {
      "text/plain": [
       "In: 8; Out: 28; Total: 36"
      ]
     },
     "execution_count": null,
     "metadata": {},
     "output_type": "execute_result"
    }
   ],
   "source": [
    "c.use"
   ]
  },
  {
   "cell_type": "code",
   "execution_count": null,
   "id": "97727a4b",
   "metadata": {},
   "outputs": [
    {
     "name": "stdout",
     "output_type": "stream",
     "text": [
      "Hi! What can I do for you today? \n"
     ]
    }
   ],
   "source": [
    "for o in c(msgs, stream=True): print(o, end='')"
   ]
  },
  {
   "cell_type": "code",
   "execution_count": null,
   "id": "9d37358f",
   "metadata": {},
   "outputs": [
    {
     "data": {
      "text/plain": [
       "In: 14; Out: 41; Total: 55"
      ]
     },
     "execution_count": null,
     "metadata": {},
     "output_type": "execute_result"
    }
   ],
   "source": [
    "c.use"
   ]
  },
  {
   "cell_type": "markdown",
   "id": "88c36641",
   "metadata": {},
   "source": [
    "Gemini cli requires passing the system prompt when creating the client, but we didn't pass one at creation time.\n",
    "Let's make sure that it gets set properly when we call the client later."
   ]
  },
  {
   "cell_type": "code",
   "execution_count": null,
   "id": "0450fe01",
   "metadata": {},
   "outputs": [],
   "source": [
    "sysp = \"Respond only in emojis\""
   ]
  },
  {
   "cell_type": "code",
   "execution_count": null,
   "id": "b0a978d5",
   "metadata": {},
   "outputs": [
    {
     "data": {
      "text/markdown": [
       "👋 \n",
       "\n",
       "\n",
       "<details>\n",
       "\n",
       "- content: {'parts': [{'text': '👋 \\n'}], 'role': 'model'}\n",
       "- finish_reason: 1\n",
       "- index: 0\n",
       "- safety_ratings: [{'category': 9, 'probability': 1, 'blocked': False}, {'category': 8, 'probability': 1, 'blocked': False}, {'category': 7, 'probability': 1, 'blocked': False}, {'category': 10, 'probability': 1, 'blocked': False}]\n",
       "- token_count: 0\n",
       "- grounding_attributions: []\n",
       "- prompt_token_count: 7\n",
       "- candidates_token_count: 1\n",
       "- total_token_count: 8\n",
       "- cached_content_token_count: 0\n",
       "\n",
       "</details>"
      ],
      "text/plain": [
       "response:\n",
       "GenerateContentResponse(\n",
       "    done=True,\n",
       "    iterator=None,\n",
       "    result=protos.GenerateContentResponse({\n",
       "      \"candidates\": [\n",
       "        {\n",
       "          \"content\": {\n",
       "            \"parts\": [\n",
       "              {\n",
       "                \"text\": \"\\ud83d\\udc4b \\n\"\n",
       "              }\n",
       "            ],\n",
       "            \"role\": \"model\"\n",
       "          },\n",
       "          \"finish_reason\": \"STOP\",\n",
       "          \"index\": 0,\n",
       "          \"safety_ratings\": [\n",
       "            {\n",
       "              \"category\": \"HARM_CATEGORY_SEXUALLY_EXPLICIT\",\n",
       "              \"probability\": \"NEGLIGIBLE\"\n",
       "            },\n",
       "            {\n",
       "              \"category\": \"HARM_CATEGORY_HATE_SPEECH\",\n",
       "              \"probability\": \"NEGLIGIBLE\"\n",
       "            },\n",
       "            {\n",
       "              \"category\": \"HARM_CATEGORY_HARASSMENT\",\n",
       "              \"probability\": \"NEGLIGIBLE\"\n",
       "            },\n",
       "            {\n",
       "              \"category\": \"HARM_CATEGORY_DANGEROUS_CONTENT\",\n",
       "              \"probability\": \"NEGLIGIBLE\"\n",
       "            }\n",
       "          ]\n",
       "        }\n",
       "      ],\n",
       "      \"usage_metadata\": {\n",
       "        \"prompt_token_count\": 7,\n",
       "        \"candidates_token_count\": 1,\n",
       "        \"total_token_count\": 8\n",
       "      }\n",
       "    }),\n",
       ")"
      ]
     },
     "execution_count": null,
     "metadata": {},
     "output_type": "execute_result"
    }
   ],
   "source": [
    "c(msgs, sp=sysp)"
   ]
  },
  {
   "cell_type": "markdown",
   "id": "9b2dee9a",
   "metadata": {},
   "source": [
    "## Tool Use"
   ]
  },
  {
   "cell_type": "code",
   "execution_count": null,
   "id": "008d7d8d",
   "metadata": {},
   "outputs": [],
   "source": [
    "def sums(\n",
    "    a:int,  # First thing to sum\n",
    "    b:int # Second thing to sum\n",
    ") -> int: # The sum of the inputs\n",
    "    \"Adds a + b.\"\n",
    "    print(f\"Finding the sum of {a} and {b}\")\n",
    "    return a + b"
   ]
  },
  {
   "cell_type": "code",
   "execution_count": null,
   "id": "bb24d113",
   "metadata": {},
   "outputs": [],
   "source": [
    "sysp = \"You are a helpful assistant. When using tools, be sure to pass all required parameters, at minimum.\""
   ]
  },
  {
   "cell_type": "code",
   "execution_count": null,
   "id": "3c7b4cd3",
   "metadata": {},
   "outputs": [],
   "source": [
    "a,b = 604542,6458932\n",
    "pr = f\"What is {a}+{b}?\""
   ]
  },
  {
   "cell_type": "markdown",
   "id": "410ec83c",
   "metadata": {},
   "source": [
    "Google's Genai API handles schema exatraction under the hood, so we can just directly pass the functions"
   ]
  },
  {
   "cell_type": "code",
   "execution_count": null,
   "id": "0f714d21",
   "metadata": {},
   "outputs": [
    {
     "data": {
      "text/markdown": [
       "- content: {'parts': [{'function_call': {'name': 'sums', 'args': {'a': 604542.0, 'b': 6458932.0}}}], 'role': 'model'}\n",
       "- finish_reason: 1\n",
       "- index: 0\n",
       "- safety_ratings: [{'category': 10, 'probability': 1, 'blocked': False}, {'category': 7, 'probability': 1, 'blocked': False}, {'category': 8, 'probability': 1, 'blocked': False}, {'category': 9, 'probability': 1, 'blocked': False}]\n",
       "- token_count: 0\n",
       "- grounding_attributions: []\n",
       "- prompt_token_count: 86\n",
       "- candidates_token_count: 29\n",
       "- total_token_count: 115\n",
       "- cached_content_token_count: 0"
      ],
      "text/plain": [
       "response:\n",
       "GenerateContentResponse(\n",
       "    done=True,\n",
       "    iterator=None,\n",
       "    result=protos.GenerateContentResponse({\n",
       "      \"candidates\": [\n",
       "        {\n",
       "          \"content\": {\n",
       "            \"parts\": [\n",
       "              {\n",
       "                \"function_call\": {\n",
       "                  \"name\": \"sums\",\n",
       "                  \"args\": {\n",
       "                    \"a\": 604542.0,\n",
       "                    \"b\": 6458932.0\n",
       "                  }\n",
       "                }\n",
       "              }\n",
       "            ],\n",
       "            \"role\": \"model\"\n",
       "          },\n",
       "          \"finish_reason\": \"STOP\",\n",
       "          \"index\": 0,\n",
       "          \"safety_ratings\": [\n",
       "            {\n",
       "              \"category\": \"HARM_CATEGORY_DANGEROUS_CONTENT\",\n",
       "              \"probability\": \"NEGLIGIBLE\"\n",
       "            },\n",
       "            {\n",
       "              \"category\": \"HARM_CATEGORY_HARASSMENT\",\n",
       "              \"probability\": \"NEGLIGIBLE\"\n",
       "            },\n",
       "            {\n",
       "              \"category\": \"HARM_CATEGORY_HATE_SPEECH\",\n",
       "              \"probability\": \"NEGLIGIBLE\"\n",
       "            },\n",
       "            {\n",
       "              \"category\": \"HARM_CATEGORY_SEXUALLY_EXPLICIT\",\n",
       "              \"probability\": \"NEGLIGIBLE\"\n",
       "            }\n",
       "          ]\n",
       "        }\n",
       "      ],\n",
       "      \"usage_metadata\": {\n",
       "        \"prompt_token_count\": 86,\n",
       "        \"candidates_token_count\": 29,\n",
       "        \"total_token_count\": 115\n",
       "      }\n",
       "    }),\n",
       ")"
      ]
     },
     "execution_count": null,
     "metadata": {},
     "output_type": "execute_result"
    }
   ],
   "source": [
    "msgs = [mk_msg(pr)]\n",
    "r = c(msgs, sp=sysp, tools=[sums])\n",
    "r"
   ]
  },
  {
   "cell_type": "code",
   "execution_count": null,
   "id": "9441a121",
   "metadata": {},
   "outputs": [
    {
     "data": {
      "text/plain": [
       "parts {\n",
       "  function_call {\n",
       "    name: \"sums\"\n",
       "    args {\n",
       "      fields {\n",
       "        key: \"b\"\n",
       "        value {\n",
       "          number_value: 6458932\n",
       "        }\n",
       "      }\n",
       "      fields {\n",
       "        key: \"a\"\n",
       "        value {\n",
       "          number_value: 604542\n",
       "        }\n",
       "      }\n",
       "    }\n",
       "  }\n",
       "}\n",
       "role: \"model\""
      ]
     },
     "execution_count": null,
     "metadata": {},
     "output_type": "execute_result"
    }
   ],
   "source": [
    "m = find_block(r)\n",
    "m"
   ]
  },
  {
   "cell_type": "code",
   "execution_count": null,
   "id": "752e621d",
   "metadata": {},
   "outputs": [
    {
     "data": {
      "text/plain": [
       "name: \"sums\"\n",
       "args {\n",
       "  fields {\n",
       "    key: \"b\"\n",
       "    value {\n",
       "      number_value: 6458932\n",
       "    }\n",
       "  }\n",
       "  fields {\n",
       "    key: \"a\"\n",
       "    value {\n",
       "      number_value: 604542\n",
       "    }\n",
       "  }\n",
       "}"
      ]
     },
     "execution_count": null,
     "metadata": {},
     "output_type": "execute_result"
    }
   ],
   "source": [
    "func = m.parts[0].function_call\n",
    "func"
   ]
  },
  {
   "cell_type": "code",
   "execution_count": null,
   "id": "7ebe4d2b",
   "metadata": {},
   "outputs": [],
   "source": [
    "#| exports\n",
    "def _mk_ns(*funcs:list[callable]) -> dict[str,callable]:\n",
    "    \"Create a `dict` of name to function in `funcs`, to use as a namespace\"\n",
    "    return {f.__name__:f for f in funcs}"
   ]
  },
  {
   "cell_type": "code",
   "execution_count": null,
   "id": "5507e426",
   "metadata": {},
   "outputs": [],
   "source": [
    "#| exports\n",
    "def call_func(fc:FunctionCall, # FunctionCall block from the response\n",
    "              ns:Optional[abc.Mapping]=None, # Namespace to search for tools, defaults to `globals()`\n",
    "              obj:Optional=None # Object to search for tools\n",
    "             ):\n",
    "    \"Call the function in the tool response `tr`, using namespace `ns`.\"\n",
    "    if ns is None: ns=globals()\n",
    "    if not isinstance(ns, abc.Mapping): ns = _mk_ns(*ns)\n",
    "    func = getattr(obj, fc.name, None)\n",
    "    if not func: func = ns[fc.name]\n",
    "    return func(**(fc.args))"
   ]
  },
  {
   "cell_type": "code",
   "execution_count": null,
   "id": "8d387b35",
   "metadata": {},
   "outputs": [
    {
     "name": "stdout",
     "output_type": "stream",
     "text": [
      "Finding the sum of 604542.0 and 6458932.0\n"
     ]
    },
    {
     "data": {
      "text/plain": [
       "7063474.0"
      ]
     },
     "execution_count": null,
     "metadata": {},
     "output_type": "execute_result"
    }
   ],
   "source": [
    "ns = _mk_ns(sums)\n",
    "res = call_func(func, ns=ns)\n",
    "res"
   ]
  },
  {
   "cell_type": "code",
   "execution_count": null,
   "id": "6b788a08",
   "metadata": {},
   "outputs": [],
   "source": [
    "#| exports\n",
    "def mk_toolres(\n",
    "    r:abc.Mapping, # Tool use request response\n",
    "    ns:Optional[abc.Mapping]=None, # Namespace to search for tools\n",
    "    obj:Optional=None # Class to search for tools\n",
    "    ):\n",
    "    \"Create a `tool_result` message from response `r`.\"\n",
    "    parts = find_block(r).parts\n",
    "    tcs = [p.function_call for p in parts if hasattr(p, 'function_call')]\n",
    "    res = [mk_msg(r)]\n",
    "    tc_res = []\n",
    "    for func in (tcs or []):\n",
    "        if not func: continue\n",
    "        cts = str(call_func(func, ns=ns, obj=obj))\n",
    "        tc_res.append(FunctionResponse(name=func.name, response={'result': cts}))\n",
    "    if tc_res: res.append(mk_msg(tc_res, 'function'))\n",
    "    return res"
   ]
  },
  {
   "cell_type": "code",
   "execution_count": null,
   "id": "9ec7457e",
   "metadata": {},
   "outputs": [
    {
     "name": "stdout",
     "output_type": "stream",
     "text": [
      "Finding the sum of 604542.0 and 6458932.0\n"
     ]
    },
    {
     "data": {
      "text/plain": [
       "{'role': 'function',\n",
       " 'parts': [name: \"sums\"\n",
       "  response {\n",
       "    fields {\n",
       "      key: \"result\"\n",
       "      value {\n",
       "        string_value: \"7063474.0\"\n",
       "      }\n",
       "    }\n",
       "  }]}"
      ]
     },
     "execution_count": null,
     "metadata": {},
     "output_type": "execute_result"
    }
   ],
   "source": [
    "tr = mk_toolres(r, ns=ns)\n",
    "tr[1]"
   ]
  },
  {
   "cell_type": "code",
   "execution_count": null,
   "id": "265fc7cd",
   "metadata": {},
   "outputs": [],
   "source": [
    "msgs += tr"
   ]
  },
  {
   "cell_type": "code",
   "execution_count": null,
   "id": "46a1a15d",
   "metadata": {},
   "outputs": [
    {
     "data": {
      "text/markdown": [
       "7063474.0 \n",
       "\n",
       "\n",
       "<details>\n",
       "\n",
       "- content: {'parts': [{'text': '7063474.0 \\n'}], 'role': 'model'}\n",
       "- finish_reason: 1\n",
       "- index: 0\n",
       "- safety_ratings: [{'category': 9, 'probability': 1, 'blocked': False}, {'category': 8, 'probability': 1, 'blocked': False}, {'category': 7, 'probability': 1, 'blocked': False}, {'category': 10, 'probability': 1, 'blocked': False}]\n",
       "- token_count: 0\n",
       "- grounding_attributions: []\n",
       "- prompt_token_count: 138\n",
       "- candidates_token_count: 9\n",
       "- total_token_count: 147\n",
       "- cached_content_token_count: 0\n",
       "\n",
       "</details>"
      ],
      "text/plain": [
       "response:\n",
       "GenerateContentResponse(\n",
       "    done=True,\n",
       "    iterator=None,\n",
       "    result=protos.GenerateContentResponse({\n",
       "      \"candidates\": [\n",
       "        {\n",
       "          \"content\": {\n",
       "            \"parts\": [\n",
       "              {\n",
       "                \"text\": \"7063474.0 \\n\"\n",
       "              }\n",
       "            ],\n",
       "            \"role\": \"model\"\n",
       "          },\n",
       "          \"finish_reason\": \"STOP\",\n",
       "          \"index\": 0,\n",
       "          \"safety_ratings\": [\n",
       "            {\n",
       "              \"category\": \"HARM_CATEGORY_SEXUALLY_EXPLICIT\",\n",
       "              \"probability\": \"NEGLIGIBLE\"\n",
       "            },\n",
       "            {\n",
       "              \"category\": \"HARM_CATEGORY_HATE_SPEECH\",\n",
       "              \"probability\": \"NEGLIGIBLE\"\n",
       "            },\n",
       "            {\n",
       "              \"category\": \"HARM_CATEGORY_HARASSMENT\",\n",
       "              \"probability\": \"NEGLIGIBLE\"\n",
       "            },\n",
       "            {\n",
       "              \"category\": \"HARM_CATEGORY_DANGEROUS_CONTENT\",\n",
       "              \"probability\": \"NEGLIGIBLE\"\n",
       "            }\n",
       "          ]\n",
       "        }\n",
       "      ],\n",
       "      \"usage_metadata\": {\n",
       "        \"prompt_token_count\": 138,\n",
       "        \"candidates_token_count\": 9,\n",
       "        \"total_token_count\": 147\n",
       "      }\n",
       "    }),\n",
       ")"
      ]
     },
     "execution_count": null,
     "metadata": {},
     "output_type": "execute_result"
    }
   ],
   "source": [
    "res = c(msgs, sp=sysp, tools=[sums])\n",
    "res"
   ]
  },
  {
   "cell_type": "markdown",
   "id": "9787ff76",
   "metadata": {},
   "source": [
    "We can also use tool calling to force the model to return structured outputs"
   ]
  },
  {
   "cell_type": "code",
   "execution_count": null,
   "id": "ac6e3681",
   "metadata": {},
   "outputs": [],
   "source": [
    "#| exports\n",
    "@patch\n",
    "@delegates(Client.__call__)\n",
    "def structured(self:Client,\n",
    "               msgs:list, # List of messages in the dialog\n",
    "               ns:Optional[abc.Mapping]=None, # Namespace to search for tools\n",
    "               obj:Optional=None, # Class to search for tools\n",
    "               **kwargs):\n",
    "    \"Return the value of all tool calls (generally used for structured outputs)\"\n",
    "    res = self(msgs, **kwargs)\n",
    "    if ns is None: ns=globals()\n",
    "    parts = find_block(res).parts\n",
    "    funcs = [p.function_call for p in parts if hasattr(p, 'function_call')]\n",
    "    tcs = [call_func(func, ns=ns, obj=obj) for func in funcs]\n",
    "    return tcs"
   ]
  },
  {
   "cell_type": "code",
   "execution_count": null,
   "id": "f15813bf",
   "metadata": {},
   "outputs": [],
   "source": [
    "class Recipe:\n",
    "    \"\"\"\n",
    "    A structure for representing recipes.\n",
    "    \"\"\"\n",
    "    def __init__(self, \n",
    "                 recipe_name: str, # The name of the recipe   \n",
    "                 ingredients: list[str] # The igredients needed for the recipe\n",
    "                ):\n",
    "        store_attr()\n",
    "        \n",
    "    __repr__ = basic_repr(['recipe_name', 'ingredients'])"
   ]
  },
  {
   "cell_type": "markdown",
   "id": "9bf6def5",
   "metadata": {},
   "source": [
    "Gemini API schema extraction doesn't work very well for Class definitions so we define a factory method as a workaround."
   ]
  },
  {
   "cell_type": "code",
   "execution_count": null,
   "id": "02f33ab9",
   "metadata": {},
   "outputs": [],
   "source": [
    "def create_recipe(recipe_name: str, # The name of the recipe   \n",
    "                 ingredients: list[str] # The igredients needed for the recipe\n",
    "                 )->Recipe:\n",
    "    return Recipe(recipe_name=recipe_name, ingredients=ingredients)"
   ]
  },
  {
   "cell_type": "code",
   "execution_count": null,
   "id": "e7d04449",
   "metadata": {},
   "outputs": [],
   "source": [
    "pr = \"Give me a receipe for chocolate chip cookies\"\n",
    "recipe = c.structured(pr, sp=sysp, tools=[create_recipe])[0]"
   ]
  },
  {
   "cell_type": "code",
   "execution_count": null,
   "id": "bf791107",
   "metadata": {},
   "outputs": [
    {
     "data": {
      "text/plain": [
       "__main__.Recipe(recipe_name='Chocolate Chip Cookies', ingredients=['flour', 'sugar', 'butter', 'eggs', 'chocolate chips'])"
      ]
     },
     "execution_count": null,
     "metadata": {},
     "output_type": "execute_result"
    }
   ],
   "source": [
    "recipe"
   ]
  },
  {
   "cell_type": "markdown",
   "id": "6a5120e8",
   "metadata": {},
   "source": [
    "We see that using tool calling, we can get the model to return the recipe as a recipe object."
   ]
  },
  {
   "cell_type": "markdown",
   "id": "eeae3af7",
   "metadata": {},
   "source": [
    "Now let's try a slightly more complicated example with a nested structure."
   ]
  },
  {
   "cell_type": "code",
   "execution_count": null,
   "id": "c4bdf7d1",
   "metadata": {},
   "outputs": [],
   "source": [
    "class Turn:\n",
    "    \"\"\"A turn in the conversation.\"\"\"\n",
    "    def __init__(\n",
    "        self,\n",
    "        user_a: str, # The first user's message\n",
    "        user_b: str, # The second user's message\n",
    "    ): store_attr()\n",
    "    \n",
    "    __repr__ = basic_repr(['user_a', 'user_b'])\n",
    "    def __str__(self): return \"Turn created.\"\n",
    "\n",
    "class Conversation:\n",
    "    \"\"\"A conversation between two users.\"\"\"\n",
    "    def __init__(\n",
    "        self,\n",
    "        turns: List[Turn], # The turns in the conversation\n",
    "    ): store_attr()\n",
    "    \n",
    "    __repr__ = basic_repr('turns')\n",
    "    def __str__(self): return \"Conversation created.\"\n",
    "\n",
    "\n",
    "def create_conversation(\n",
    "    user_a_turns: List[str], # List of turns for the first person in the conversation\n",
    "    user_b_turns: List[str] # List of turns for the second person in the conversation\n",
    ")->Conversation:\n",
    "    \"\"\"\n",
    "    This is used to create a conversation between two users.\n",
    "    \"\"\"\n",
    "    return Conversation([Turn(a,b) for a,b in zip(user_a_turns, user_b_turns)])"
   ]
  },
  {
   "cell_type": "code",
   "execution_count": null,
   "id": "cc6dbb6b",
   "metadata": {},
   "outputs": [],
   "source": [
    "pr = \"Generate a conversation between a python programmer and a rust programmer.\"\n",
    "conv = c.structured(pr, sp=sysp, tools=[create_conversation])[0]"
   ]
  },
  {
   "cell_type": "code",
   "execution_count": null,
   "id": "c3d09119",
   "metadata": {},
   "outputs": [
    {
     "data": {
      "text/plain": [
       "[__main__.Turn(user_a='Hello, I am a Python programmer. What about you?', user_b='Hi there! I am a Rust programmer.'),\n",
       " __main__.Turn(user_a='Interesting. I have heard Rust is quite fast.', user_b='Yes, Rust is known for its performance and memory safety.'),\n",
       " __main__.Turn(user_a='I see, thanks for the info!', user_b='You are welcome!')]"
      ]
     },
     "execution_count": null,
     "metadata": {},
     "output_type": "execute_result"
    }
   ],
   "source": [
    "conv.turns"
   ]
  },
  {
   "cell_type": "markdown",
   "id": "4fb3eba5",
   "metadata": {},
   "source": [
    "As we can see, the model is able to return the necessary information to create the conversation object."
   ]
  },
  {
   "cell_type": "markdown",
   "id": "c4b08bc5",
   "metadata": {},
   "source": [
    "We can also force a particular set of tools to be used using, `tool_choice`. Here's an example of how to do that for genai api."
   ]
  },
  {
   "cell_type": "code",
   "execution_count": null,
   "id": "fb6a9c89",
   "metadata": {},
   "outputs": [],
   "source": [
    "#| exports\n",
    "def mk_tool_choice(choose: list)->dict:\n",
    "    return {\"function_calling_config\": {\"mode\": \"ANY\", \"allowed_function_names\": [x.__name__ for x in choose]}}"
   ]
  },
  {
   "cell_type": "code",
   "execution_count": null,
   "id": "de5fef41",
   "metadata": {},
   "outputs": [
    {
     "data": {
      "text/plain": [
       "{'function_calling_config': {'mode': 'ANY',\n",
       "  'allowed_function_names': ['sums']}}"
      ]
     },
     "execution_count": null,
     "metadata": {},
     "output_type": "execute_result"
    }
   ],
   "source": [
    "tool_choice = mk_tool_choice([sums])\n",
    "tool_choice"
   ]
  },
  {
   "cell_type": "markdown",
   "id": "de626735",
   "metadata": {},
   "source": [
    "We'll use this with the Chat class that we'll create next."
   ]
  },
  {
   "cell_type": "markdown",
   "id": "96eaed74",
   "metadata": {},
   "source": [
    "## Chat"
   ]
  },
  {
   "cell_type": "markdown",
   "id": "87d8b25c",
   "metadata": {},
   "source": [
    "We'll create a Chat class that will handle formatting of messages and passing along system prompts and tools, so we don't have to worry about doing that manually each time."
   ]
  },
  {
   "cell_type": "code",
   "execution_count": null,
   "id": "7740de24",
   "metadata": {},
   "outputs": [],
   "source": [
    "#| exports\n",
    "class Chat:\n",
    "    def __init__(self,\n",
    "                 model:Optional[str]=None, # Model to use (leave empty if passing `cli`)\n",
    "                 cli:Optional[Client]=None, # Client to use (leave empty if passing `model`)\n",
    "                 sp=None, # Optional system prompt\n",
    "                 tools:Optional[list]=None,  # List of tools to make available\n",
    "                 tool_choice:Optional[str]=None): # Forced tool choice\n",
    "        \"Gemini chat client.\"\n",
    "        assert model or cli\n",
    "        self.c = (cli or Client(model, sp=sp))\n",
    "        self.h,self.sp,self.tools,self.tool_choice = [],sp,tools,tool_choice\n",
    "    \n",
    "    @property\n",
    "    def use(self): return self.c.use"
   ]
  },
  {
   "cell_type": "code",
   "execution_count": null,
   "id": "4567fcf2",
   "metadata": {},
   "outputs": [
    {
     "data": {
      "text/plain": [
       "(In: 0; Out: 0; Total: 0, [])"
      ]
     },
     "execution_count": null,
     "metadata": {},
     "output_type": "execute_result"
    }
   ],
   "source": [
    "sp = \"Never mention what tools you use.\"\n",
    "chat = Chat(model, sp=sp)\n",
    "chat.c.use, chat.h"
   ]
  },
  {
   "cell_type": "code",
   "execution_count": null,
   "id": "cbc4771f",
   "metadata": {},
   "outputs": [],
   "source": [
    "#| exports\n",
    "@patch\n",
    "def _stream(self:Chat, res):\n",
    "    yield from res\n",
    "    self.h += mk_toolres(self.c.result, ns=self.tools, obj=self)"
   ]
  },
  {
   "cell_type": "code",
   "execution_count": null,
   "id": "c23e3404",
   "metadata": {},
   "outputs": [],
   "source": [
    "#| exports\n",
    "@patch\n",
    "@delegates(genai.GenerativeModel.generate_content)\n",
    "def __call__(self:Chat,\n",
    "             pr=None,  # Prompt / message\n",
    "             temp=0, # Temperature\n",
    "             maxtok=4096, # Maximum tokens\n",
    "             stream=False, # Stream response?\n",
    "             **kwargs):\n",
    "    if isinstance(pr,str): pr = pr.strip()\n",
    "    if pr: self.h.append(mk_msg(pr))\n",
    "    if self.tools: kwargs['tools'] = self.tools\n",
    "    # NOTE: Gemini specifies tool_choice via tool_config\n",
    "    if self.tool_choice: kwargs['tool_config'] = mk_tool_choice(self.tool_choice)\n",
    "    res = self.c(self.h, stream=stream, sp=self.sp, temp=temp, maxtok=maxtok, **kwargs)\n",
    "    if stream: return self._stream(res)\n",
    "    self.h += mk_toolres(self.c.result, ns=self.tools, obj=self)\n",
    "    return res"
   ]
  },
  {
   "cell_type": "code",
   "execution_count": null,
   "id": "778295e4",
   "metadata": {},
   "outputs": [
    {
     "data": {
      "text/markdown": [
       "Nice to meet you, Faisal! What can I do for you today? 😊 \n",
       "\n",
       "\n",
       "<details>\n",
       "\n",
       "- content: {'parts': [{'text': 'Nice to meet you, Faisal! What can I do for you today? 😊 \\n'}], 'role': 'model'}\n",
       "- finish_reason: 1\n",
       "- index: 0\n",
       "- safety_ratings: [{'category': 9, 'probability': 1, 'blocked': False}, {'category': 8, 'probability': 1, 'blocked': False}, {'category': 7, 'probability': 1, 'blocked': False}, {'category': 10, 'probability': 1, 'blocked': False}]\n",
       "- token_count: 0\n",
       "- grounding_attributions: []\n",
       "- prompt_token_count: 12\n",
       "- candidates_token_count: 16\n",
       "- total_token_count: 28\n",
       "- cached_content_token_count: 0\n",
       "\n",
       "</details>"
      ],
      "text/plain": [
       "response:\n",
       "GenerateContentResponse(\n",
       "    done=True,\n",
       "    iterator=None,\n",
       "    result=protos.GenerateContentResponse({\n",
       "      \"candidates\": [\n",
       "        {\n",
       "          \"content\": {\n",
       "            \"parts\": [\n",
       "              {\n",
       "                \"text\": \"Nice to meet you, Faisal! What can I do for you today? \\ud83d\\ude0a \\n\"\n",
       "              }\n",
       "            ],\n",
       "            \"role\": \"model\"\n",
       "          },\n",
       "          \"finish_reason\": \"STOP\",\n",
       "          \"index\": 0,\n",
       "          \"safety_ratings\": [\n",
       "            {\n",
       "              \"category\": \"HARM_CATEGORY_SEXUALLY_EXPLICIT\",\n",
       "              \"probability\": \"NEGLIGIBLE\"\n",
       "            },\n",
       "            {\n",
       "              \"category\": \"HARM_CATEGORY_HATE_SPEECH\",\n",
       "              \"probability\": \"NEGLIGIBLE\"\n",
       "            },\n",
       "            {\n",
       "              \"category\": \"HARM_CATEGORY_HARASSMENT\",\n",
       "              \"probability\": \"NEGLIGIBLE\"\n",
       "            },\n",
       "            {\n",
       "              \"category\": \"HARM_CATEGORY_DANGEROUS_CONTENT\",\n",
       "              \"probability\": \"NEGLIGIBLE\"\n",
       "            }\n",
       "          ]\n",
       "        }\n",
       "      ],\n",
       "      \"usage_metadata\": {\n",
       "        \"prompt_token_count\": 12,\n",
       "        \"candidates_token_count\": 16,\n",
       "        \"total_token_count\": 28\n",
       "      }\n",
       "    }),\n",
       ")"
      ]
     },
     "execution_count": null,
     "metadata": {},
     "output_type": "execute_result"
    }
   ],
   "source": [
    "chat(\"I'm Faisal\")"
   ]
  },
  {
   "cell_type": "markdown",
   "id": "5ec8006a",
   "metadata": {},
   "source": [
    "Now let's make sure that context is passed properly to subsequent calls"
   ]
  },
  {
   "cell_type": "code",
   "execution_count": null,
   "id": "df5374fa",
   "metadata": {},
   "outputs": [
    {
     "data": {
      "text/markdown": [
       "Your name is Faisal. 😊  Is there anything else I can help you with? \n",
       "\n",
       "\n",
       "<details>\n",
       "\n",
       "- content: {'parts': [{'text': 'Your name is Faisal. 😊  Is there anything else I can help you with? \\n'}], 'role': 'model'}\n",
       "- finish_reason: 1\n",
       "- index: 0\n",
       "- safety_ratings: [{'category': 9, 'probability': 1, 'blocked': False}, {'category': 8, 'probability': 1, 'blocked': False}, {'category': 7, 'probability': 1, 'blocked': False}, {'category': 10, 'probability': 1, 'blocked': False}]\n",
       "- token_count: 0\n",
       "- grounding_attributions: []\n",
       "- prompt_token_count: 38\n",
       "- candidates_token_count: 17\n",
       "- total_token_count: 55\n",
       "- cached_content_token_count: 0\n",
       "\n",
       "</details>"
      ],
      "text/plain": [
       "response:\n",
       "GenerateContentResponse(\n",
       "    done=True,\n",
       "    iterator=None,\n",
       "    result=protos.GenerateContentResponse({\n",
       "      \"candidates\": [\n",
       "        {\n",
       "          \"content\": {\n",
       "            \"parts\": [\n",
       "              {\n",
       "                \"text\": \"Your name is Faisal. \\ud83d\\ude0a  Is there anything else I can help you with? \\n\"\n",
       "              }\n",
       "            ],\n",
       "            \"role\": \"model\"\n",
       "          },\n",
       "          \"finish_reason\": \"STOP\",\n",
       "          \"index\": 0,\n",
       "          \"safety_ratings\": [\n",
       "            {\n",
       "              \"category\": \"HARM_CATEGORY_SEXUALLY_EXPLICIT\",\n",
       "              \"probability\": \"NEGLIGIBLE\"\n",
       "            },\n",
       "            {\n",
       "              \"category\": \"HARM_CATEGORY_HATE_SPEECH\",\n",
       "              \"probability\": \"NEGLIGIBLE\"\n",
       "            },\n",
       "            {\n",
       "              \"category\": \"HARM_CATEGORY_HARASSMENT\",\n",
       "              \"probability\": \"NEGLIGIBLE\"\n",
       "            },\n",
       "            {\n",
       "              \"category\": \"HARM_CATEGORY_DANGEROUS_CONTENT\",\n",
       "              \"probability\": \"NEGLIGIBLE\"\n",
       "            }\n",
       "          ]\n",
       "        }\n",
       "      ],\n",
       "      \"usage_metadata\": {\n",
       "        \"prompt_token_count\": 38,\n",
       "        \"candidates_token_count\": 17,\n",
       "        \"total_token_count\": 55\n",
       "      }\n",
       "    }),\n",
       ")"
      ]
     },
     "execution_count": null,
     "metadata": {},
     "output_type": "execute_result"
    }
   ],
   "source": [
    "chat(\"What's my name?\")"
   ]
  },
  {
   "cell_type": "markdown",
   "id": "ff37f240",
   "metadata": {},
   "source": [
    "Let's also make sure that streaming works correctly with the Chat interface"
   ]
  },
  {
   "cell_type": "code",
   "execution_count": null,
   "id": "ff26cbac",
   "metadata": {},
   "outputs": [
    {
     "name": "stdout",
     "output_type": "stream",
     "text": [
      "Nice to meet you, Faisal! 👋 What can I do for you today? 😊 \n"
     ]
    }
   ],
   "source": [
    "chat = Chat(model, sp=sp)\n",
    "for o in chat(\"I'm Faisal\", stream=True):\n",
    "    o = contents(o)\n",
    "    if o and isinstance(o, str): print(o, end='')"
   ]
  },
  {
   "cell_type": "markdown",
   "id": "ea35d8ea",
   "metadata": {},
   "source": [
    "Let's also make sure that tool use works with the Chat interface"
   ]
  },
  {
   "cell_type": "code",
   "execution_count": null,
   "id": "e5a192f7",
   "metadata": {},
   "outputs": [
    {
     "data": {
      "text/plain": [
       "'What is 604542+6458932?'"
      ]
     },
     "execution_count": null,
     "metadata": {},
     "output_type": "execute_result"
    }
   ],
   "source": [
    "pr = f\"What is {a}+{b}?\"\n",
    "pr"
   ]
  },
  {
   "cell_type": "code",
   "execution_count": null,
   "id": "27b3b278",
   "metadata": {},
   "outputs": [
    {
     "data": {
      "text/markdown": [
       "Nice to meet you, Faisal! How can I help you today? \n",
       "\n",
       "\n",
       "<details>\n",
       "\n",
       "- content: {'parts': [{'text': 'Nice to meet you, Faisal! How can I help you today? \\n'}], 'role': 'model'}\n",
       "- finish_reason: 1\n",
       "- index: 0\n",
       "- safety_ratings: [{'category': 9, 'probability': 1, 'blocked': False}, {'category': 8, 'probability': 1, 'blocked': False}, {'category': 7, 'probability': 1, 'blocked': False}, {'category': 10, 'probability': 1, 'blocked': False}]\n",
       "- token_count: 0\n",
       "- grounding_attributions: []\n",
       "- prompt_token_count: 72\n",
       "- candidates_token_count: 14\n",
       "- total_token_count: 86\n",
       "- cached_content_token_count: 0\n",
       "\n",
       "</details>"
      ],
      "text/plain": [
       "response:\n",
       "GenerateContentResponse(\n",
       "    done=True,\n",
       "    iterator=None,\n",
       "    result=protos.GenerateContentResponse({\n",
       "      \"candidates\": [\n",
       "        {\n",
       "          \"content\": {\n",
       "            \"parts\": [\n",
       "              {\n",
       "                \"text\": \"Nice to meet you, Faisal! How can I help you today? \\n\"\n",
       "              }\n",
       "            ],\n",
       "            \"role\": \"model\"\n",
       "          },\n",
       "          \"finish_reason\": \"STOP\",\n",
       "          \"index\": 0,\n",
       "          \"safety_ratings\": [\n",
       "            {\n",
       "              \"category\": \"HARM_CATEGORY_SEXUALLY_EXPLICIT\",\n",
       "              \"probability\": \"NEGLIGIBLE\"\n",
       "            },\n",
       "            {\n",
       "              \"category\": \"HARM_CATEGORY_HATE_SPEECH\",\n",
       "              \"probability\": \"NEGLIGIBLE\"\n",
       "            },\n",
       "            {\n",
       "              \"category\": \"HARM_CATEGORY_HARASSMENT\",\n",
       "              \"probability\": \"NEGLIGIBLE\"\n",
       "            },\n",
       "            {\n",
       "              \"category\": \"HARM_CATEGORY_DANGEROUS_CONTENT\",\n",
       "              \"probability\": \"NEGLIGIBLE\"\n",
       "            }\n",
       "          ]\n",
       "        }\n",
       "      ],\n",
       "      \"usage_metadata\": {\n",
       "        \"prompt_token_count\": 72,\n",
       "        \"candidates_token_count\": 14,\n",
       "        \"total_token_count\": 86\n",
       "      }\n",
       "    }),\n",
       ")"
      ]
     },
     "execution_count": null,
     "metadata": {},
     "output_type": "execute_result"
    }
   ],
   "source": [
    "sp = \"You are a helpful assistant. When using tools, be sure to pass all required parameters, at minimum.\"\n",
    "chat = Chat(model, sp=sp, tools=[sums])\n",
    "r = chat(\"I'm Faisal\")\n",
    "r"
   ]
  },
  {
   "cell_type": "code",
   "execution_count": null,
   "id": "18228faa",
   "metadata": {},
   "outputs": [
    {
     "name": "stdout",
     "output_type": "stream",
     "text": [
      "Finding the sum of 604542.0 and 6458932.0\n"
     ]
    },
    {
     "data": {
      "text/markdown": [
       "- content: {'parts': [{'function_call': {'name': 'sums', 'args': {'a': 604542.0, 'b': 6458932.0}}}], 'role': 'model'}\n",
       "- finish_reason: 1\n",
       "- index: 0\n",
       "- safety_ratings: [{'category': 8, 'probability': 1, 'blocked': False}, {'category': 9, 'probability': 1, 'blocked': False}, {'category': 10, 'probability': 1, 'blocked': False}, {'category': 7, 'probability': 1, 'blocked': False}]\n",
       "- token_count: 0\n",
       "- grounding_attributions: []\n",
       "- prompt_token_count: 108\n",
       "- candidates_token_count: 29\n",
       "- total_token_count: 137\n",
       "- cached_content_token_count: 0"
      ],
      "text/plain": [
       "response:\n",
       "GenerateContentResponse(\n",
       "    done=True,\n",
       "    iterator=None,\n",
       "    result=protos.GenerateContentResponse({\n",
       "      \"candidates\": [\n",
       "        {\n",
       "          \"content\": {\n",
       "            \"parts\": [\n",
       "              {\n",
       "                \"function_call\": {\n",
       "                  \"name\": \"sums\",\n",
       "                  \"args\": {\n",
       "                    \"a\": 604542.0,\n",
       "                    \"b\": 6458932.0\n",
       "                  }\n",
       "                }\n",
       "              }\n",
       "            ],\n",
       "            \"role\": \"model\"\n",
       "          },\n",
       "          \"finish_reason\": \"STOP\",\n",
       "          \"index\": 0,\n",
       "          \"safety_ratings\": [\n",
       "            {\n",
       "              \"category\": \"HARM_CATEGORY_HATE_SPEECH\",\n",
       "              \"probability\": \"NEGLIGIBLE\"\n",
       "            },\n",
       "            {\n",
       "              \"category\": \"HARM_CATEGORY_SEXUALLY_EXPLICIT\",\n",
       "              \"probability\": \"NEGLIGIBLE\"\n",
       "            },\n",
       "            {\n",
       "              \"category\": \"HARM_CATEGORY_DANGEROUS_CONTENT\",\n",
       "              \"probability\": \"NEGLIGIBLE\"\n",
       "            },\n",
       "            {\n",
       "              \"category\": \"HARM_CATEGORY_HARASSMENT\",\n",
       "              \"probability\": \"NEGLIGIBLE\"\n",
       "            }\n",
       "          ]\n",
       "        }\n",
       "      ],\n",
       "      \"usage_metadata\": {\n",
       "        \"prompt_token_count\": 108,\n",
       "        \"candidates_token_count\": 29,\n",
       "        \"total_token_count\": 137\n",
       "      }\n",
       "    }),\n",
       ")"
      ]
     },
     "execution_count": null,
     "metadata": {},
     "output_type": "execute_result"
    }
   ],
   "source": [
    "chat(pr)"
   ]
  },
  {
   "cell_type": "markdown",
   "id": "a408b9bd",
   "metadata": {},
   "source": [
    "The model correctly calls the right function in this case."
   ]
  },
  {
   "cell_type": "code",
   "execution_count": null,
   "id": "4bf082b1",
   "metadata": {},
   "outputs": [
    {
     "data": {
      "text/plain": [
       "{'role': 'function',\n",
       " 'parts': [name: \"sums\"\n",
       "  response {\n",
       "    fields {\n",
       "      key: \"result\"\n",
       "      value {\n",
       "        string_value: \"7063474.0\"\n",
       "      }\n",
       "    }\n",
       "  }]}"
      ]
     },
     "execution_count": null,
     "metadata": {},
     "output_type": "execute_result"
    }
   ],
   "source": [
    "chat.h[-1]"
   ]
  },
  {
   "cell_type": "markdown",
   "id": "90cbbf11",
   "metadata": {},
   "source": [
    "If we inspect the history, we can see that the result of the function call has already been added. We can simply call `chat()` to pass this to the model and get a response."
   ]
  },
  {
   "cell_type": "code",
   "execution_count": null,
   "id": "ab1f61a9",
   "metadata": {},
   "outputs": [
    {
     "data": {
      "text/markdown": [
       "604542 + 6458932 = 7063474. \n",
       "\n",
       "\n",
       "<details>\n",
       "\n",
       "- content: {'parts': [{'text': '604542 + 6458932 = 7063474. \\n'}], 'role': 'model'}\n",
       "- finish_reason: 1\n",
       "- index: 0\n",
       "- safety_ratings: [{'category': 9, 'probability': 1, 'blocked': False}, {'category': 8, 'probability': 1, 'blocked': False}, {'category': 7, 'probability': 1, 'blocked': False}, {'category': 10, 'probability': 1, 'blocked': False}]\n",
       "- token_count: 0\n",
       "- grounding_attributions: []\n",
       "- prompt_token_count: 160\n",
       "- candidates_token_count: 25\n",
       "- total_token_count: 185\n",
       "- cached_content_token_count: 0\n",
       "\n",
       "</details>"
      ],
      "text/plain": [
       "response:\n",
       "GenerateContentResponse(\n",
       "    done=True,\n",
       "    iterator=None,\n",
       "    result=protos.GenerateContentResponse({\n",
       "      \"candidates\": [\n",
       "        {\n",
       "          \"content\": {\n",
       "            \"parts\": [\n",
       "              {\n",
       "                \"text\": \"604542 + 6458932 = 7063474. \\n\"\n",
       "              }\n",
       "            ],\n",
       "            \"role\": \"model\"\n",
       "          },\n",
       "          \"finish_reason\": \"STOP\",\n",
       "          \"index\": 0,\n",
       "          \"safety_ratings\": [\n",
       "            {\n",
       "              \"category\": \"HARM_CATEGORY_SEXUALLY_EXPLICIT\",\n",
       "              \"probability\": \"NEGLIGIBLE\"\n",
       "            },\n",
       "            {\n",
       "              \"category\": \"HARM_CATEGORY_HATE_SPEECH\",\n",
       "              \"probability\": \"NEGLIGIBLE\"\n",
       "            },\n",
       "            {\n",
       "              \"category\": \"HARM_CATEGORY_HARASSMENT\",\n",
       "              \"probability\": \"NEGLIGIBLE\"\n",
       "            },\n",
       "            {\n",
       "              \"category\": \"HARM_CATEGORY_DANGEROUS_CONTENT\",\n",
       "              \"probability\": \"NEGLIGIBLE\"\n",
       "            }\n",
       "          ]\n",
       "        }\n",
       "      ],\n",
       "      \"usage_metadata\": {\n",
       "        \"prompt_token_count\": 160,\n",
       "        \"candidates_token_count\": 25,\n",
       "        \"total_token_count\": 185\n",
       "      }\n",
       "    }),\n",
       ")"
      ]
     },
     "execution_count": null,
     "metadata": {},
     "output_type": "execute_result"
    }
   ],
   "source": [
    "chat()"
   ]
  },
  {
   "cell_type": "markdown",
   "id": "0e4d1b5a",
   "metadata": {},
   "source": [
    "Now let's make sure that `tool_choice` works correctly by forcing the model to pick a particular function."
   ]
  },
  {
   "cell_type": "code",
   "execution_count": null,
   "id": "cd5fe00f",
   "metadata": {},
   "outputs": [],
   "source": [
    "def diff(\n",
    "    a:int, # The number to subtract from\n",
    "    b:int # The amount to subtract\n",
    ") -> int: # Result of subtracting b from a\n",
    "    \"Returns a - b.\"\n",
    "    print(f\"Finding the diff of {a} and {b}\")\n",
    "    return a - b"
   ]
  },
  {
   "cell_type": "code",
   "execution_count": null,
   "id": "7d7ef89c",
   "metadata": {},
   "outputs": [
    {
     "name": "stdout",
     "output_type": "stream",
     "text": [
      "Finding the diff of 604542.0 and 6458932.0\n"
     ]
    },
    {
     "data": {
      "text/markdown": [
       "- content: {'parts': [{'function_call': {'name': 'diff', 'args': {'a': 604542.0, 'b': 6458932.0}}}], 'role': 'model'}\n",
       "- finish_reason: 1\n",
       "- index: 0\n",
       "- safety_ratings: [{'category': 7, 'probability': 1, 'blocked': False}, {'category': 10, 'probability': 1, 'blocked': False}, {'category': 9, 'probability': 1, 'blocked': False}, {'category': 8, 'probability': 1, 'blocked': False}]\n",
       "- token_count: 0\n",
       "- grounding_attributions: []\n",
       "- prompt_token_count: 132\n",
       "- candidates_token_count: 29\n",
       "- total_token_count: 161\n",
       "- cached_content_token_count: 0"
      ],
      "text/plain": [
       "response:\n",
       "GenerateContentResponse(\n",
       "    done=True,\n",
       "    iterator=None,\n",
       "    result=protos.GenerateContentResponse({\n",
       "      \"candidates\": [\n",
       "        {\n",
       "          \"content\": {\n",
       "            \"parts\": [\n",
       "              {\n",
       "                \"function_call\": {\n",
       "                  \"name\": \"diff\",\n",
       "                  \"args\": {\n",
       "                    \"a\": 604542.0,\n",
       "                    \"b\": 6458932.0\n",
       "                  }\n",
       "                }\n",
       "              }\n",
       "            ],\n",
       "            \"role\": \"model\"\n",
       "          },\n",
       "          \"finish_reason\": \"STOP\",\n",
       "          \"index\": 0,\n",
       "          \"safety_ratings\": [\n",
       "            {\n",
       "              \"category\": \"HARM_CATEGORY_HARASSMENT\",\n",
       "              \"probability\": \"NEGLIGIBLE\"\n",
       "            },\n",
       "            {\n",
       "              \"category\": \"HARM_CATEGORY_DANGEROUS_CONTENT\",\n",
       "              \"probability\": \"NEGLIGIBLE\"\n",
       "            },\n",
       "            {\n",
       "              \"category\": \"HARM_CATEGORY_SEXUALLY_EXPLICIT\",\n",
       "              \"probability\": \"NEGLIGIBLE\"\n",
       "            },\n",
       "            {\n",
       "              \"category\": \"HARM_CATEGORY_HATE_SPEECH\",\n",
       "              \"probability\": \"NEGLIGIBLE\"\n",
       "            }\n",
       "          ]\n",
       "        }\n",
       "      ],\n",
       "      \"usage_metadata\": {\n",
       "        \"prompt_token_count\": 132,\n",
       "        \"candidates_token_count\": 29,\n",
       "        \"total_token_count\": 161\n",
       "      }\n",
       "    }),\n",
       ")"
      ]
     },
     "execution_count": null,
     "metadata": {},
     "output_type": "execute_result"
    }
   ],
   "source": [
    "sp = \"You are a helpful assistant. When using tools, be sure to pass all required parameters, at minimum.\"\n",
    "chat = Chat(model, sp=sp, tools=[sums, diff], tool_choice=[diff])\n",
    "r = chat(f\"What is {a}+{b}?\")\n",
    "r"
   ]
  },
  {
   "cell_type": "markdown",
   "id": "805f1673",
   "metadata": {},
   "source": [
    "We can see that the model calls the function specified by `tool_choice` even though the prompt asks for a summation, which is the expected behvior in this case."
   ]
  },
  {
   "cell_type": "markdown",
   "id": "58508b0e",
   "metadata": {},
   "source": [
    "## Images"
   ]
  },
  {
   "cell_type": "code",
   "execution_count": null,
   "id": "3f6d787d",
   "metadata": {},
   "outputs": [
    {
     "data": {
      "image/jpeg": "[encoded data removed]",
      "text/plain": [
       "<IPython.core.display.Image object>"
      ]
     },
     "execution_count": null,
     "metadata": {
      "image/jpeg": {
       "width": 200
      }
     },
     "output_type": "execute_result"
    }
   ],
   "source": [
    "fn = Path('./samples/puppy.jpg')\n",
    "display.Image(filename=fn, width=200)"
   ]
  },
  {
   "cell_type": "markdown",
   "id": "4acc3a59",
   "metadata": {},
   "source": [
    "Now that we are passing more than just text, will need a helper function to upload media using Gemini's File API, which is the recomended way of passing media to the model."
   ]
  },
  {
   "cell_type": "code",
   "execution_count": null,
   "id": "a0bb9a31",
   "metadata": {},
   "outputs": [],
   "source": [
    "#| exports\n",
    "def media_msg(fn: Path)->dict:\n",
    "    f = genai.upload_file(fn)\n",
    "    return {'file_data': {'mime_type': f.mime_type, 'file_uri': f.uri}}"
   ]
  },
  {
   "cell_type": "markdown",
   "id": "ffa1316e",
   "metadata": {},
   "source": [
    "Let's also update how we pass in text type messages, to be consistent"
   ]
  },
  {
   "cell_type": "code",
   "execution_count": null,
   "id": "87b0e3bd",
   "metadata": {},
   "outputs": [],
   "source": [
    "#| exports\n",
    "def text_msg(s:str)->dict:\n",
    "    return {'text': s}"
   ]
  },
  {
   "cell_type": "markdown",
   "id": "a105009c",
   "metadata": {},
   "source": [
    "And finally lets had a helper funciton for make content correctly handles text and other media."
   ]
  },
  {
   "cell_type": "code",
   "execution_count": null,
   "id": "ed657bae",
   "metadata": {},
   "outputs": [],
   "source": [
    "#| exports\n",
    "def _mk_content(src):\n",
    "    \"Create appropriate content data structure based on type of content\"\n",
    "    if isinstance(src,str): return text_msg(src)\n",
    "    else: return media_msg(src)"
   ]
  },
  {
   "cell_type": "markdown",
   "id": "19a5f034",
   "metadata": {},
   "source": [
    "Now let's make sure it properly handles text vs. Path objects for media"
   ]
  },
  {
   "cell_type": "code",
   "execution_count": null,
   "id": "3befbdde",
   "metadata": {},
   "outputs": [
    {
     "data": {
      "text/plain": [
       "{'text': 'Hi'}"
      ]
     },
     "execution_count": null,
     "metadata": {},
     "output_type": "execute_result"
    }
   ],
   "source": [
    "_mk_content(\"Hi\")"
   ]
  },
  {
   "cell_type": "code",
   "execution_count": null,
   "id": "e50ad3ac",
   "metadata": {},
   "outputs": [
    {
     "data": {
      "text/plain": [
       "{'file_data': {'mime_type': 'image/jpeg',\n",
       "  'file_uri': 'https://generativelanguage.googleapis.com/v1beta/files/6ds7015edz5e'}}"
      ]
     },
     "execution_count": null,
     "metadata": {},
     "output_type": "execute_result"
    }
   ],
   "source": [
    "_mk_content(fn)"
   ]
  },
  {
   "cell_type": "markdown",
   "id": "49d8705f",
   "metadata": {},
   "source": [
    "And now we need to update mk_msg to be able to handle multimedia messages correctly"
   ]
  },
  {
   "cell_type": "code",
   "execution_count": null,
   "id": "d35703ff",
   "metadata": {},
   "outputs": [],
   "source": [
    "#| export\n",
    "def mk_msg(content, role='user', **kw):\n",
    "    \"Create a message\"\n",
    "    if isinstance(content, FunctionResponse): return content\n",
    "    if isinstance(content, GenerateContentResponse): return find_block(content)\n",
    "    if content is not None and not isinstance(content, list): content=[content]\n",
    "    if role == 'user': content = [_mk_content(o) for o in content] if content else ''\n",
    "    return dict(role=role, parts=content, **kw)"
   ]
  },
  {
   "cell_type": "markdown",
   "id": "65879c1d",
   "metadata": {},
   "source": [
    "Now, we should just be able to pass a list of multimedia content to our Chat client and it should be able to handle it all under the hood. Let's test it out."
   ]
  },
  {
   "cell_type": "code",
   "execution_count": null,
   "id": "79448474",
   "metadata": {},
   "outputs": [],
   "source": [
    "chat = Chat(model)"
   ]
  },
  {
   "cell_type": "code",
   "execution_count": null,
   "id": "061388df",
   "metadata": {},
   "outputs": [
    {
     "data": {
      "text/markdown": [
       "The flowers in the image are purple. \n",
       "\n",
       "\n",
       "<details>\n",
       "\n",
       "- content: {'parts': [{'text': 'The flowers in the image are purple. \\n'}], 'role': 'model'}\n",
       "- finish_reason: 1\n",
       "- index: 0\n",
       "- safety_ratings: [{'category': 9, 'probability': 1, 'blocked': False}, {'category': 8, 'probability': 1, 'blocked': False}, {'category': 7, 'probability': 1, 'blocked': False}, {'category': 10, 'probability': 1, 'blocked': False}]\n",
       "- token_count: 0\n",
       "- grounding_attributions: []\n",
       "- prompt_token_count: 270\n",
       "- candidates_token_count: 8\n",
       "- total_token_count: 278\n",
       "- cached_content_token_count: 0\n",
       "\n",
       "</details>"
      ],
      "text/plain": [
       "response:\n",
       "GenerateContentResponse(\n",
       "    done=True,\n",
       "    iterator=None,\n",
       "    result=protos.GenerateContentResponse({\n",
       "      \"candidates\": [\n",
       "        {\n",
       "          \"content\": {\n",
       "            \"parts\": [\n",
       "              {\n",
       "                \"text\": \"The flowers in the image are purple. \\n\"\n",
       "              }\n",
       "            ],\n",
       "            \"role\": \"model\"\n",
       "          },\n",
       "          \"finish_reason\": \"STOP\",\n",
       "          \"index\": 0,\n",
       "          \"safety_ratings\": [\n",
       "            {\n",
       "              \"category\": \"HARM_CATEGORY_SEXUALLY_EXPLICIT\",\n",
       "              \"probability\": \"NEGLIGIBLE\"\n",
       "            },\n",
       "            {\n",
       "              \"category\": \"HARM_CATEGORY_HATE_SPEECH\",\n",
       "              \"probability\": \"NEGLIGIBLE\"\n",
       "            },\n",
       "            {\n",
       "              \"category\": \"HARM_CATEGORY_HARASSMENT\",\n",
       "              \"probability\": \"NEGLIGIBLE\"\n",
       "            },\n",
       "            {\n",
       "              \"category\": \"HARM_CATEGORY_DANGEROUS_CONTENT\",\n",
       "              \"probability\": \"NEGLIGIBLE\"\n",
       "            }\n",
       "          ]\n",
       "        }\n",
       "      ],\n",
       "      \"usage_metadata\": {\n",
       "        \"prompt_token_count\": 270,\n",
       "        \"candidates_token_count\": 8,\n",
       "        \"total_token_count\": 278\n",
       "      }\n",
       "    }),\n",
       ")"
      ]
     },
     "execution_count": null,
     "metadata": {},
     "output_type": "execute_result"
    }
   ],
   "source": [
    "q = \"In brief, what color flowers are in this image?\"\n",
    "chat([fn, q])"
   ]
  },
  {
   "cell_type": "markdown",
   "id": "1710a811",
   "metadata": {},
   "source": [
    "Hooray! That works, let's double check the history to make sure that everything is properly formatted and stored."
   ]
  },
  {
   "cell_type": "code",
   "execution_count": null,
   "id": "aee65a6f",
   "metadata": {},
   "outputs": [
    {
     "data": {
      "text/plain": [
       "[{'role': 'user',\n",
       "  'parts': [{'file_data': {'mime_type': 'image/jpeg',\n",
       "     'file_uri': 'https://generativelanguage.googleapis.com/v1beta/files/op2zztctwxye'}},\n",
       "   {'text': 'In brief, what color flowers are in this image?'}]},\n",
       " parts {\n",
       "   text: \"The flowers in the image are purple. \\n\"\n",
       " }\n",
       " role: \"model\"]"
      ]
     },
     "execution_count": null,
     "metadata": {},
     "output_type": "execute_result"
    }
   ],
   "source": [
    "chat.h"
   ]
  },
  {
   "cell_type": "markdown",
   "id": "6133fca0",
   "metadata": {},
   "source": [
    "## Other Media (audio, video, etc.)"
   ]
  },
  {
   "cell_type": "markdown",
   "id": "40acd644",
   "metadata": {},
   "source": [
    "Unlike ChatGPT and Claude, Gemini models can also handle audio and video inputs. Since we're using Gemini's File API for handling multimedia content, what we have should just work, except we'll need to make one small modification to the `media_msg` function ..."
   ]
  },
  {
   "cell_type": "code",
   "execution_count": null,
   "id": "7b3fde6f",
   "metadata": {},
   "outputs": [],
   "source": [
    "#| exports\n",
    "def media_msg(fn: Path)->dict:\n",
    "    print(f\"Uploading media...\", end='')\n",
    "    f = genai.upload_file(fn)\n",
    "    while f.state.name == \"PROCESSING\":\n",
    "        print('.', end='')\n",
    "        time.sleep(2)\n",
    "        f = genai.get_file(f.name)\n",
    "    return {'file_data': {'mime_type': f.mime_type, 'file_uri': f.uri}}"
   ]
  },
  {
   "cell_type": "markdown",
   "id": "ec94f0f8",
   "metadata": {},
   "source": [
    "Since we're uploading potentially larger files, we need to wait for the upload and process to complete so that the media is ready to be consumed by the model."
   ]
  },
  {
   "cell_type": "code",
   "execution_count": null,
   "id": "369c0710",
   "metadata": {},
   "outputs": [],
   "source": [
    "# !wget https://storage.googleapis.com/generativeai-downloads/images/GreatRedSpot.mp4\n",
    "# We'll test this with the example from Gemini's docs\n",
    "# video_fn = Path('./GreatRedSpot.mp4')\n",
    "# prompt = \"Summarize this video.\"\n",
    "# chat = Chat(model)\n",
    "# chat([video_fn, prompt])"
   ]
  },
  {
   "cell_type": "markdown",
   "id": "b4e841b2",
   "metadata": {},
   "source": [
    "Takes a little while, but works like a charm! Now, let's try an audio file to make sure it also works."
   ]
  },
  {
   "cell_type": "code",
   "execution_count": null,
   "id": "03856f04",
   "metadata": {},
   "outputs": [],
   "source": [
    "# audio_fn = Path('./samples/attention_is_all_you_need.mp3')\n",
    "# prompt = \"Is the content of this audio file of a related subject matter to the video?\"\n",
    "# chat([audio_fn, prompt])"
   ]
  },
  {
   "cell_type": "markdown",
   "id": "246d9a18",
   "metadata": {},
   "source": [
    "Finally, let's check to make sure pdfs work as well."
   ]
  },
  {
   "cell_type": "code",
   "execution_count": null,
   "id": "ad4a8110",
   "metadata": {},
   "outputs": [],
   "source": [
    "# pdf_fn = Path('./samples/attention_is_all_you_need.pdf')\n",
    "# prompt = \"What's mentioned in this pdf that's not mentioned in the previous podcast?\"\n",
    "# chat([pdf_fn, prompt])"
   ]
  },
  {
   "cell_type": "markdown",
   "id": "1314b9b7",
   "metadata": {},
   "source": [
    "Gemini does a pretty good job here!!"
   ]
  },
  {
   "cell_type": "code",
   "execution_count": null,
   "id": "841ad692",
   "metadata": {},
   "outputs": [],
   "source": [
    "# prompt = \"Can you generate an exact transcript of the speech in the podcast?\"\n",
    "# chat([prompt])"
   ]
  },
  {
   "cell_type": "markdown",
   "id": "08cd1cd6",
   "metadata": {},
   "source": [
    "## Export -"
   ]
  },
  {
   "cell_type": "code",
   "execution_count": null,
   "id": "419d5995",
   "metadata": {},
   "outputs": [],
   "source": [
    "#|hide\n",
    "#|eval: false\n",
    "from nbdev.doclinks import nbdev_export\n",
    "nbdev_export()"
   ]
  },
  {
   "cell_type": "code",
   "execution_count": null,
   "id": "f850535a",
   "metadata": {},
   "outputs": [],
   "source": []
  }
 ],
 "metadata": {
  "kernelspec": {
   "display_name": "python3",
   "language": "python",
   "name": "python3"
  }
 },
 "nbformat": 4,
 "nbformat_minor": 5
}
